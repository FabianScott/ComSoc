{
 "cells": [
  {
   "cell_type": "code",
   "execution_count": 1,
   "metadata": {
    "collapsed": true
   },
   "outputs": [],
   "source": [
    "import os\n",
    "from tqdm import tqdm\n",
    "import random\n",
    "import numpy as np\n",
    "import netwulf as nw\n",
    "import networkx as nx\n",
    "import matplotlib.pyplot as plt\n",
    "import networkx.algorithms.community as nx_comm\n",
    "# if os.getcwd()[-1] in '0123456798':\n",
    "#     path_parent = os.path.dirname(os.getcwd())\n",
    "#     os.chdir(path_parent)"
   ]
  },
  {
   "cell_type": "code",
   "execution_count": 2,
   "outputs": [],
   "source": [
    "stylized_network, config, G = nw.load(\"Graph.json\")"
   ],
   "metadata": {
    "collapsed": false
   }
  },
  {
   "cell_type": "code",
   "execution_count": 3,
   "outputs": [],
   "source": [
    "partition = nx_comm.louvain_communities(G)"
   ],
   "metadata": {
    "collapsed": false
   }
  },
  {
   "cell_type": "code",
   "execution_count": 4,
   "outputs": [
    {
     "name": "stdout",
     "output_type": "stream",
     "text": [
      "The average community size is 50.15, with a standard deviation of 197.19. The largest is of size 3150 and the smallest 1\n"
     ]
    }
   ],
   "source": [
    "sizes = []\n",
    "for i, c in enumerate(partition):\n",
    "    # print(f'Community {i} has size: {len(c)}')\n",
    "    sizes.append(len(c))\n",
    "print(f'The average community size is {round(np.mean(sizes),2)}, with a standard deviation of {round(np.std(sizes),2)}. The largest is of size {np.max(sizes)} and the smallest {np.min(sizes)}')"
   ],
   "metadata": {
    "collapsed": false
   }
  },
  {
   "cell_type": "code",
   "execution_count": 11,
   "outputs": [],
   "source": [
    "colours_avail = ['b', 'g', 'r', 'c', 'm', 'y', 'k']\n",
    "sizes = np.array(sizes)\n",
    "indices = np.argsort(sizes)[-len(colours_avail):]\n",
    "\n",
    "for i, c in enumerate(partition):\n",
    "    if i in indices:\n",
    "        col = colours_avail.pop()\n",
    "    else:\n",
    "        col = 'w'\n",
    "    for node in c:\n",
    "        G.node[node]['color'] = col"
   ],
   "metadata": {
    "collapsed": false
   }
  },
  {
   "cell_type": "code",
   "execution_count": 12,
   "outputs": [
    {
     "data": {
      "text/plain": "(45188, 45188)"
     },
     "execution_count": 12,
     "metadata": {},
     "output_type": "execute_result"
    }
   ],
   "source": [
    "network, config = nw.visualize(G)\n",
    "fig, ax = nw.draw_netwulf(network)\n",
    "plt.savefig('Graph_coloured')"
   ],
   "metadata": {
    "collapsed": false
   }
  },
  {
   "cell_type": "code",
   "execution_count": 5,
   "outputs": [],
   "source": [
    "N = G.number_of_edges()*2\n",
    "number_of_iterations = 1000\n",
    "coms = [list(part) for part in partition]\n",
    "\n",
    "def modularity(G, communities):\n",
    "    m = G.number_of_edges()\n",
    "    q = 0.0\n",
    "    for c in communities:\n",
    "        lc = G.subgraph(c).number_of_edges()\n",
    "        kc = sum(G.degree(n) for n in c)\n",
    "        q += lc/m - (kc/(2*m))**2\n",
    "    return q\n",
    "\n",
    "\n",
    "def double_edge_swap_algo(G_original, N):\n",
    "    G = G_original.copy()\n",
    "    for i in range(N):\n",
    "        u, v = random.choice(list(G.edges()))\n",
    "        x, y = random.choice(list(G.edges()))\n",
    "\n",
    "        if (u != x) and (v != y) and (not G.has_edge(u, y)) and (not G.has_edge(x, v)):\n",
    "            # perform the double edge swap\n",
    "            G.remove_edges_from([(u, v), (x, y)])\n",
    "            G.add_edges_from([(u, y), (x, v)])\n",
    "\n",
    "    return G\n",
    "\n",
    "def plot_density(modularities, value):\n",
    "    plt.hist(modularities, bins=50, alpha=0.5, density=True)\n",
    "    plt.axvline(x=value, color='r')\n",
    "\n",
    "    plt.xlabel('Modularity')\n",
    "    plt.ylabel('Density')\n",
    "    plt.title('Distribution of Random Modularities with Actual Modularity')\n",
    "    plt.savefig('Modularities')\n",
    "    plt.show()\n",
    "\n",
    "\n",
    "def is_significantly_dif_from_zero(G, value):\n",
    "\n",
    "    print(\"current modularity = \", value)\n",
    "\n",
    "    modularities = []\n",
    "    for i in tqdm(range(number_of_iterations)):\n",
    "        current_double_edge_swap = double_edge_swap_algo(G, N)\n",
    "        current_modularity = modularity(current_double_edge_swap, coms)\n",
    "        modularities.append(current_modularity)\n",
    "\n",
    "    mean = np.mean(modularities)\n",
    "    std = np.std(modularities)\n",
    "\n",
    "    print(\"mean: \", mean)\n",
    "    print(\"std: \", std)\n",
    "\n",
    "    plot_density(modularities, value)\n",
    "\n",
    "    if value < mean-2*std or value > mean+2*std:\n",
    "        print(\"Value is significantly different\")\n",
    "    else:\n",
    "        print(\"Value is not significantly different\")"
   ],
   "metadata": {
    "collapsed": false
   }
  },
  {
   "cell_type": "code",
   "execution_count": null,
   "outputs": [
    {
     "name": "stdout",
     "output_type": "stream",
     "text": [
      "current modularity =  0.9231428593851565\n"
     ]
    }
   ],
   "source": [
    "modularity_from_current_communities = modularity(G, partition)\n",
    "is_significantly_dif_from_zero(G, modularity_from_current_communities)"
   ],
   "metadata": {
    "collapsed": false,
    "pycharm": {
     "is_executing": true
    }
   }
  }
 ],
 "metadata": {
  "kernelspec": {
   "display_name": "Python 3",
   "language": "python",
   "name": "python3"
  },
  "language_info": {
   "codemirror_mode": {
    "name": "ipython",
    "version": 2
   },
   "file_extension": ".py",
   "mimetype": "text/x-python",
   "name": "python",
   "nbconvert_exporter": "python",
   "pygments_lexer": "ipython2",
   "version": "2.7.6"
  }
 },
 "nbformat": 4,
 "nbformat_minor": 0
}
