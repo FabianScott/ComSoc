{
 "cells": [
  {
   "cell_type": "code",
   "execution_count": 1,
   "metadata": {
    "collapsed": true
   },
   "outputs": [
    {
     "name": "stderr",
     "output_type": "stream",
     "text": [
      "C:\\Users\\toell\\AppData\\Local\\Temp\\ipykernel_32200\\1643069850.py:7: DeprecationWarning: This package has been superseded by the `leidenalg` package and will no longer be maintained. Please upgrade to the `leidenalg` package.\n",
      "  import louvain as lo\n"
     ]
    }
   ],
   "source": [
    "import os\n",
    "import igraph as ig\n",
    "import numpy as np\n",
    "import netwulf as nw\n",
    "import networkx as nx\n",
    "import leidenalg as la\n",
    "import louvain as lo\n",
    "if os.getcwd()[-1] in '0123456798':\n",
    "    path_parent = os.path.dirname(os.getcwd())\n",
    "    os.chdir(path_parent)"
   ]
  },
  {
   "cell_type": "code",
   "execution_count": 2,
   "outputs": [],
   "source": [
    "def modularity(G, communities):\n",
    "    m = G.number_of_edges()\n",
    "    q = 0.0\n",
    "    for c in communities:\n",
    "        lc = G.subgraph(c).number_of_edges()\n",
    "        kc = sum(G.degree(n) for n in c)\n",
    "        q += lc/m - (kc/(2*m))**2\n",
    "    return q"
   ],
   "metadata": {
    "collapsed": false
   }
  },
  {
   "cell_type": "code",
   "execution_count": 3,
   "outputs": [],
   "source": [
    "stylized_network, config, G = nw.load(\"BigData/Graph.json\")\n",
    "Graph = ig.Graph.from_networkx(G)"
   ],
   "metadata": {
    "collapsed": false
   }
  },
  {
   "cell_type": "code",
   "execution_count": 4,
   "outputs": [],
   "source": [
    "partition = la.find_partition(Graph, la.ModularityVertexPartition)"
   ],
   "metadata": {
    "collapsed": false
   }
  },
  {
   "cell_type": "code",
   "execution_count": null,
   "outputs": [],
   "source": [
    "ig.plot(partition)"
   ],
   "metadata": {
    "collapsed": false,
    "pycharm": {
     "is_executing": true
    }
   }
  },
  {
   "cell_type": "code",
   "execution_count": null,
   "outputs": [],
   "source": [
    "partition_nw = partition.to_networkx()\n",
    "nw.visualize(partition_nw)"
   ],
   "metadata": {
    "collapsed": false,
    "pycharm": {
     "is_executing": true
    }
   }
  },
  {
   "cell_type": "code",
   "execution_count": null,
   "outputs": [],
   "source": [
    "print(modularity())"
   ],
   "metadata": {
    "collapsed": false
   }
  }
 ],
 "metadata": {
  "kernelspec": {
   "display_name": "Python 3",
   "language": "python",
   "name": "python3"
  },
  "language_info": {
   "codemirror_mode": {
    "name": "ipython",
    "version": 2
   },
   "file_extension": ".py",
   "mimetype": "text/x-python",
   "name": "python",
   "nbconvert_exporter": "python",
   "pygments_lexer": "ipython2",
   "version": "2.7.6"
  }
 },
 "nbformat": 4,
 "nbformat_minor": 0
}
