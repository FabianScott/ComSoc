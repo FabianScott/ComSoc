{
 "cells": [
  {
   "cell_type": "code",
   "execution_count": 11,
   "metadata": {
    "collapsed": true
   },
   "outputs": [],
   "source": [
    "import os\n",
    "import random\n",
    "import numpy as np\n",
    "import netwulf as nw\n",
    "import networkx as nx\n",
    "import matplotlib.pyplot as plt\n",
    "import networkx.algorithms.community as nx_comm\n",
    "# if os.getcwd()[-1] in '0123456798':\n",
    "#     path_parent = os.path.dirname(os.getcwd())\n",
    "#     os.chdir(path_parent)"
   ]
  },
  {
   "cell_type": "code",
   "execution_count": 2,
   "outputs": [],
   "source": [
    "stylized_network, config, G = nw.load(\"Graph.json\")"
   ],
   "metadata": {
    "collapsed": false
   }
  },
  {
   "cell_type": "code",
   "execution_count": 6,
   "outputs": [],
   "source": [
    "partition = nx_comm.louvain_communities(G)"
   ],
   "metadata": {
    "collapsed": false
   }
  },
  {
   "cell_type": "code",
   "execution_count": 28,
   "outputs": [
    {
     "name": "stdout",
     "output_type": "stream",
     "text": [
      "The average community size is 50.15, with a standard deviation of 197.29. The largest is of size 2565 and the smallest 1\n"
     ]
    }
   ],
   "source": [
    "sizes = []\n",
    "for i, c in enumerate(partition):\n",
    "    # print(f'Community {i} has size: {len(c)}')\n",
    "    sizes.append(len(c))\n",
    "print(f'The average community size is {round(np.mean(sizes),2)}, with a standard deviation of {round(np.std(sizes),2)}. The largest is of size {np.max(sizes)} and the smallest {np.min(sizes)}')"
   ],
   "metadata": {
    "collapsed": false
   }
  },
  {
   "cell_type": "code",
   "execution_count": null,
   "outputs": [],
   "source": [
    "colours_avail = ['b', 'g', 'r', 'c', 'm', 'y', 'k', 'w']\n",
    "sizes = np.array(sizes)\n",
    "indices = np.argsort(sizes)[-len(colours_avail):]\n",
    "colours = []\n",
    "\n",
    "for i, c in enumerate(partition):\n",
    "    if i in indices:\n",
    "        colours.append(colours_avail.pop())\n",
    "    else:\n",
    "        colours.append('tab:gray')\n",
    "nx.draw(G, with_labels=True, node_color=colours)\n",
    "plt.show()"
   ],
   "metadata": {
    "collapsed": false,
    "pycharm": {
     "is_executing": true
    }
   }
  },
  {
   "cell_type": "code",
   "execution_count": 9,
   "outputs": [],
   "source": [
    "N = G.number_of_edges()*2\n",
    "number_of_iterations = 1000\n",
    "coms = [list(part) for part in partition]\n",
    "\n",
    "def modularity(G, communities):\n",
    "    m = G.number_of_edges()\n",
    "    q = 0.0\n",
    "    for c in communities:\n",
    "        lc = G.subgraph(c).number_of_edges()\n",
    "        kc = sum(G.degree(n) for n in c)\n",
    "        q += lc/m - (kc/(2*m))**2\n",
    "    return q\n",
    "\n",
    "\n",
    "def double_edge_swap_algo(G_original, N):\n",
    "    G = G_original.copy()\n",
    "    for i in range(N):\n",
    "        u, v = random.choice(list(G.edges()))\n",
    "        x, y = random.choice(list(G.edges()))\n",
    "\n",
    "        if (u != x) and (v != y) and (not G.has_edge(u, y)) and (not G.has_edge(x, v)):\n",
    "            # perform the double edge swap\n",
    "            G.remove_edges_from([(u, v), (x, y)])\n",
    "            G.add_edges_from([(u, y), (x, v)])\n",
    "\n",
    "    return G\n",
    "\n",
    "def plot_density(modularities, value):\n",
    "    plt.hist(modularities, bins=50, alpha=0.5, density=True)\n",
    "    plt.axvline(x=value, color='r')\n",
    "\n",
    "    plt.xlabel('Modularity')\n",
    "    plt.ylabel('Density')\n",
    "    plt.title('Distribution of Random Modularities with Actual Modularity')\n",
    "    plt.show()\n",
    "\n",
    "\n",
    "def is_significantly_dif_from_zero(G, value):\n",
    "\n",
    "    print(\"current modularity = \", value)\n",
    "\n",
    "    modularities = []\n",
    "    for i in range(number_of_iterations):\n",
    "        current_double_edge_swap = double_edge_swap_algo(G, N)\n",
    "        current_modularity = modularity(current_double_edge_swap, coms)\n",
    "        modularities.append(current_modularity)\n",
    "\n",
    "    mean = np.mean(modularities)\n",
    "    std = np.std(modularities)\n",
    "\n",
    "    print(\"mean: \", mean)\n",
    "    print(\"std: \", std)\n",
    "\n",
    "    plot_density(modularities, value)\n",
    "\n",
    "    if value < mean-2*std or value > mean+2*std:\n",
    "        print(\"Value is significantly different\")\n",
    "    else:\n",
    "        print(\"Value is not significantly different\")"
   ],
   "metadata": {
    "collapsed": false
   }
  },
  {
   "cell_type": "code",
   "execution_count": 12,
   "outputs": [
    {
     "name": "stdout",
     "output_type": "stream",
     "text": [
      "current modularity =  0.9232854144956244\n",
      "Unexpected exception formatting exception. Falling back to standard exception\n"
     ]
    },
    {
     "name": "stderr",
     "output_type": "stream",
     "text": [
      "Traceback (most recent call last):\n",
      "  File \"C:\\Users\\toell\\AppData\\Local\\Programs\\Python\\Python310\\lib\\site-packages\\IPython\\core\\interactiveshell.py\", line 3378, in run_code\n",
      "    exec(code_obj, self.user_global_ns, self.user_ns)\n",
      "  File \"C:\\Users\\toell\\AppData\\Local\\Temp\\ipykernel_11144\\3960102153.py\", line 2, in <module>\n",
      "    is_significantly_dif_from_zero(G, modularity_from_current_communities)\n",
      "  File \"C:\\Users\\toell\\AppData\\Local\\Temp\\ipykernel_11144\\2088081823.py\", line 44, in is_significantly_dif_from_zero\n",
      "    current_double_edge_swap = double_edge_swap_algo(G, N)\n",
      "  File \"C:\\Users\\toell\\AppData\\Local\\Temp\\ipykernel_11144\\2088081823.py\", line 18, in double_edge_swap_algo\n",
      "    u, v = random.choice(list(G.edges()))\n",
      "  File \"C:\\Users\\toell\\AppData\\Local\\Programs\\Python\\Python310\\lib\\site-packages\\networkx\\classes\\reportviews.py\", line -1, in __iter__\n",
      "KeyboardInterrupt\n",
      "\n",
      "During handling of the above exception, another exception occurred:\n",
      "\n",
      "Traceback (most recent call last):\n",
      "  File \"C:\\Users\\toell\\AppData\\Local\\Programs\\Python\\Python310\\lib\\site-packages\\IPython\\core\\interactiveshell.py\", line 1997, in showtraceback\n",
      "    stb = self.InteractiveTB.structured_traceback(\n",
      "  File \"C:\\Users\\toell\\AppData\\Local\\Programs\\Python\\Python310\\lib\\site-packages\\IPython\\core\\ultratb.py\", line 1112, in structured_traceback\n",
      "    return FormattedTB.structured_traceback(\n",
      "  File \"C:\\Users\\toell\\AppData\\Local\\Programs\\Python\\Python310\\lib\\site-packages\\IPython\\core\\ultratb.py\", line 1006, in structured_traceback\n",
      "    return VerboseTB.structured_traceback(\n",
      "  File \"C:\\Users\\toell\\AppData\\Local\\Programs\\Python\\Python310\\lib\\site-packages\\IPython\\core\\ultratb.py\", line 859, in structured_traceback\n",
      "    formatted_exception = self.format_exception_as_a_whole(etype, evalue, etb, number_of_lines_of_context,\n",
      "  File \"C:\\Users\\toell\\AppData\\Local\\Programs\\Python\\Python310\\lib\\site-packages\\IPython\\core\\ultratb.py\", line 812, in format_exception_as_a_whole\n",
      "    frames.append(self.format_record(r))\n",
      "  File \"C:\\Users\\toell\\AppData\\Local\\Programs\\Python\\Python310\\lib\\site-packages\\IPython\\core\\ultratb.py\", line 730, in format_record\n",
      "    result += ''.join(_format_traceback_lines(frame_info.lines, Colors, self.has_colors, lvals))\n",
      "  File \"C:\\Users\\toell\\AppData\\Local\\Programs\\Python\\Python310\\lib\\site-packages\\stack_data\\utils.py\", line 145, in cached_property_wrapper\n",
      "    value = obj.__dict__[self.func.__name__] = self.func(obj)\n",
      "  File \"C:\\Users\\toell\\AppData\\Local\\Programs\\Python\\Python310\\lib\\site-packages\\stack_data\\core.py\", line 734, in lines\n",
      "    pieces = self.included_pieces\n",
      "  File \"C:\\Users\\toell\\AppData\\Local\\Programs\\Python\\Python310\\lib\\site-packages\\stack_data\\utils.py\", line 145, in cached_property_wrapper\n",
      "    value = obj.__dict__[self.func.__name__] = self.func(obj)\n",
      "  File \"C:\\Users\\toell\\AppData\\Local\\Programs\\Python\\Python310\\lib\\site-packages\\stack_data\\core.py\", line 681, in included_pieces\n",
      "    pos = scope_pieces.index(self.executing_piece)\n",
      "  File \"C:\\Users\\toell\\AppData\\Local\\Programs\\Python\\Python310\\lib\\site-packages\\stack_data\\utils.py\", line 145, in cached_property_wrapper\n",
      "    value = obj.__dict__[self.func.__name__] = self.func(obj)\n",
      "  File \"C:\\Users\\toell\\AppData\\Local\\Programs\\Python\\Python310\\lib\\site-packages\\stack_data\\core.py\", line 660, in executing_piece\n",
      "    return only(\n",
      "  File \"C:\\Users\\toell\\AppData\\Local\\Programs\\Python\\Python310\\lib\\site-packages\\executing\\executing.py\", line 167, in only\n",
      "    raise NotOneValueFound('Expected one value, found 0')\n",
      "executing.executing.NotOneValueFound: Expected one value, found 0\n"
     ]
    }
   ],
   "source": [
    "modularity_from_current_communities = modularity(G, partition)\n",
    "is_significantly_dif_from_zero(G, modularity_from_current_communities)"
   ],
   "metadata": {
    "collapsed": false
   }
  }
 ],
 "metadata": {
  "kernelspec": {
   "display_name": "Python 3",
   "language": "python",
   "name": "python3"
  },
  "language_info": {
   "codemirror_mode": {
    "name": "ipython",
    "version": 2
   },
   "file_extension": ".py",
   "mimetype": "text/x-python",
   "name": "python",
   "nbconvert_exporter": "python",
   "pygments_lexer": "ipython2",
   "version": "2.7.6"
  }
 },
 "nbformat": 4,
 "nbformat_minor": 0
}
