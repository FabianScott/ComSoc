{
 "cells": [
  {
   "cell_type": "code",
   "execution_count": 1,
   "metadata": {
    "collapsed": true
   },
   "outputs": [],
   "source": [
    "import requests\n",
    "import os\n",
    "import time\n",
    "path = os.getcwd()[:-1] + '1' + '\\\\data\\\\authors.txt'\n",
    "authors = []\n",
    "with open(path, 'r') as file:\n",
    "    for line in file.readlines():\n",
    "        authors.append(line[:-1])"
   ]
  },
  {
   "cell_type": "code",
   "execution_count": null,
   "outputs": [
    {
     "name": "stdout",
     "output_type": "stream",
     "text": [
      "Error at 13\n",
      "Error at 22\n",
      "Error at 25\n",
      "Error at 30\n",
      "Error at 37\n",
      "Error at 49\n",
      "Error at 56\n",
      "Error at 59\n",
      "Error at 63\n",
      "Error at 90\n",
      "Error at 96\n",
      "Reached 98 authors after 361.2979199886322 seconds, taking a break...\n",
      "Error at 112\n",
      "Error at 113\n",
      "Error at 114\n",
      "Error at 124\n",
      "Error at 150\n",
      "Error at 152\n",
      "Error at 163\n",
      "Error at 167\n",
      "Error at 171\n",
      "Reached 196 authors after 713.8285987377167 seconds, taking a break...\n",
      "Error at 222\n",
      "Error at 223\n",
      "Error at 240\n",
      "Error at 241\n",
      "Error at 247\n",
      "Error at 281\n",
      "Error at 291\n",
      "Reached 294 authors after 1065.7296659946442 seconds, taking a break...\n",
      "Error at 294\n",
      "Error at 313\n",
      "Error at 331\n",
      "Error at 344\n",
      "Error at 345\n",
      "Error at 349\n",
      "Error at 359\n",
      "Error at 370\n",
      "Reached 392 authors after 1415.7938368320465 seconds, taking a break...\n",
      "Error at 393\n",
      "Error at 423\n",
      "Error at 429\n",
      "Error at 443\n",
      "Error at 445\n",
      "Error at 450\n",
      "Error at 484\n",
      "Reached 490 authors after 1766.2983174324036 seconds, taking a break...\n",
      "Error at 501\n",
      "Error at 522\n",
      "Error at 523\n",
      "Error at 532\n",
      "Error at 555\n",
      "Error at 556\n",
      "Error at 572\n",
      "Error at 573\n",
      "Error at 585\n",
      "Reached 588 authors after 2114.241488456726 seconds, taking a break...\n",
      "Error at 600\n",
      "Error at 609\n",
      "Error at 623\n",
      "Error at 625\n",
      "Error at 653\n",
      "Error at 671\n",
      "Error at 679\n",
      "Reached 686 authors after 2465.778948545456 seconds, taking a break...\n",
      "Error at 687\n",
      "Error at 722\n",
      "Error at 729\n",
      "Error at 733\n",
      "Error at 734\n",
      "Error at 744\n",
      "Error at 767\n",
      "Error at 772\n",
      "Error at 780\n",
      "Reached 784 authors after 2815.521073102951 seconds, taking a break...\n",
      "Error at 791\n",
      "Error at 810\n",
      "Error at 815\n",
      "Error at 822\n",
      "Error at 823\n",
      "Error at 841\n",
      "Error at 853\n",
      "Error at 863\n",
      "Error at 866\n",
      "Error at 879\n",
      "Reached 882 authors after 3164.719709634781 seconds, taking a break...\n",
      "Error at 894\n",
      "Error at 919\n",
      "Error at 931\n",
      "Error at 934\n",
      "Error at 962\n",
      "Error at 967\n"
     ]
    }
   ],
   "source": [
    "BASE_URL = \"https://api.semanticscholar.org/graph/\"\n",
    "VERSION = \"v1/\"\n",
    "RESOURCE = \"author/search\"\n",
    "IDs = set()\n",
    "i = 999\n",
    "t = time.time()\n",
    "\n",
    "with open('data/IDs.txt', 'w') as file:\n",
    "    for author in authors:\n",
    "        if i % 98 == 0 and i > 0:\n",
    "            print(f'Reached {i} authors after {time.time() - t} seconds, taking a break...')\n",
    "            time.sleep(60*5)\n",
    "\n",
    "        params = {'query':author,\n",
    "                   \"offset\":0,\n",
    "                   \"limit\":1,\n",
    "                    \"fields\":\"authorId\"}\n",
    "        my_url = BASE_URL+VERSION+RESOURCE\n",
    "        r = requests.get(my_url, params=params)\n",
    "\n",
    "        try:\n",
    "            ID = r.json()['data'][0]['authorId']\n",
    "            IDs.add(ID)\n",
    "            file.write(ID)\n",
    "            file.write('\\n')\n",
    "        except IndexError or KeyError:\n",
    "            print(f'Error at {i} {r.json()}')\n",
    "        i += 1"
   ],
   "metadata": {
    "collapsed": false
   }
  },
  {
   "cell_type": "code",
   "execution_count": 10,
   "outputs": [
    {
     "data": {
      "text/plain": "{'total': 0, 'offset': 0, 'data': []}"
     },
     "execution_count": 10,
     "metadata": {},
     "output_type": "execute_result"
    }
   ],
   "source": [
    "r.json()"
   ],
   "metadata": {
    "collapsed": false
   }
  },
  {
   "cell_type": "code",
   "execution_count": 6,
   "outputs": [
    {
     "data": {
      "text/plain": "({'2107389568', '83228962'},\n '83228962',\n ['Zhongyang He', 'Jessy Han', 'William Hobbs', 'Iain Weaver'])"
     },
     "execution_count": 6,
     "metadata": {},
     "output_type": "execute_result"
    }
   ],
   "source": [
    "IDs, ID, authors[:4]"
   ],
   "metadata": {
    "collapsed": false
   }
  }
 ],
 "metadata": {
  "kernelspec": {
   "display_name": "Python 3",
   "language": "python",
   "name": "python3"
  },
  "language_info": {
   "codemirror_mode": {
    "name": "ipython",
    "version": 2
   },
   "file_extension": ".py",
   "mimetype": "text/x-python",
   "name": "python",
   "nbconvert_exporter": "python",
   "pygments_lexer": "ipython2",
   "version": "2.7.6"
  }
 },
 "nbformat": 4,
 "nbformat_minor": 0
}
