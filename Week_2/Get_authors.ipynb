{
 "cells": [
  {
   "cell_type": "code",
   "execution_count": 1,
   "metadata": {
    "collapsed": true
   },
   "outputs": [],
   "source": [
    "import requests\n",
    "import os\n",
    "import time\n",
    "import pandas as pd\n",
    "path = os.getcwd()[:-1] + '1' + '\\\\data\\\\authors.txt'\n",
    "authors = []\n",
    "\n",
    "with open(path, 'r') as file:\n",
    "    for line in file.readlines():\n",
    "        authors.append(line[:-1])\n"
   ]
  },
  {
   "cell_type": "code",
   "execution_count": 2,
   "metadata": {},
   "outputs": [],
   "source": [
    "BASE_URL = \"https://api.semanticscholar.org/graph/\"\n",
    "VERSION = \"v1/\"\n",
    "RESOURCE = \"author/search\""
   ]
  },
  {
   "cell_type": "code",
   "execution_count": 3,
   "metadata": {
    "collapsed": false
   },
   "outputs": [
    {
     "name": "stdout",
     "output_type": "stream",
     "text": [
      "Reached 1078 authors after 0.0010328292846679688 seconds, taking a break...\n",
      "Error at 1085 {'total': 0, 'offset': 0, 'data': []}\n",
      "Error at 1088 {'total': 0, 'offset': 0, 'data': []}\n",
      "Error at 1107 {'total': 0, 'offset': 0, 'data': []}\n",
      "Error at 1108 {'total': 0, 'offset': 0, 'data': []}\n",
      "Error at 1109 {'total': 0, 'offset': 0, 'data': []}\n",
      "Error at 1123 {'total': 0, 'offset': 0, 'data': []}\n",
      "Error at 1127 {'total': 0, 'offset': 0, 'data': []}\n",
      "Error at 1166 {'total': 0, 'offset': 0, 'data': []}\n",
      "Reached 1176 authors after 381.97225189208984 seconds, taking a break...\n",
      "Error at 1204 {'total': 0, 'offset': 0, 'data': []}\n",
      "Error at 1212 {'total': 0, 'offset': 0, 'data': []}\n",
      "Error at 1232 {'total': 0, 'offset': 0, 'data': []}\n",
      "Error at 1240 {'total': 0, 'offset': 0, 'data': []}\n",
      "Error at 1245 {'total': 0, 'offset': 0, 'data': []}\n",
      "Reached 1274 authors after 779.3423001766205 seconds, taking a break...\n",
      "Error at 1276 {'total': 0, 'offset': 0, 'data': []}\n",
      "Error at 1315 {'total': 0, 'offset': 0, 'data': []}\n",
      "Error at 1336 {'total': 0, 'offset': 0, 'data': []}\n",
      "Error at 1352 {'total': 0, 'offset': 0, 'data': []}\n",
      "Error at 1354 {'total': 0, 'offset': 0, 'data': []}\n",
      "Error at 1361 {'total': 0, 'offset': 0, 'data': []}\n",
      "Error at 1364 {'total': 0, 'offset': 0, 'data': []}\n",
      "Error at 1367 {'total': 0, 'offset': 0, 'data': []}\n",
      "Reached 1372 authors after 1166.947669506073 seconds, taking a break...\n",
      "Error at 1374 {'total': 0, 'offset': 0, 'data': []}\n",
      "Error at 1388 {'total': 0, 'offset': 0, 'data': []}\n",
      "Error at 1389 {'total': 0, 'offset': 0, 'data': []}\n",
      "Error at 1390 {'total': 0, 'offset': 0, 'data': []}\n",
      "Error at 1394 {'total': 0, 'offset': 0, 'data': []}\n",
      "Error at 1412 {'total': 0, 'offset': 0, 'data': []}\n",
      "Error at 1436 {'total': 0, 'offset': 0, 'data': []}\n",
      "Error at 1441 {'total': 0, 'offset': 0, 'data': []}\n",
      "Error at 1464 {'total': 0, 'offset': 0, 'data': []}\n",
      "Error at 1465 {'total': 0, 'offset': 0, 'data': []}\n",
      "Error at 1467 {'total': 0, 'offset': 0, 'data': []}\n",
      "Reached 1470 authors after 1563.8005492687225 seconds, taking a break...\n",
      "Error at 1483 {'total': 0, 'offset': 0, 'data': []}\n",
      "Error at 1495 {'total': 0, 'offset': 0, 'data': []}\n",
      "Error at 1506 {'total': 0, 'offset': 0, 'data': []}\n",
      "Error at 1525 {'total': 0, 'offset': 0, 'data': []}\n",
      "Error at 1532 {'total': 0, 'offset': 0, 'data': []}\n",
      "Error at 1567 {'total': 0, 'offset': 0, 'data': []}\n",
      "Reached 1568 authors after 1959.5917856693268 seconds, taking a break...\n",
      "Error at 1616 {'total': 0, 'offset': 0, 'data': []}\n",
      "Reached 1666 authors after 2354.1094591617584 seconds, taking a break...\n",
      "Error at 1666 {'total': 0, 'offset': 0, 'data': []}\n",
      "Error at 1670 {'total': 0, 'offset': 0, 'data': []}\n",
      "Error at 1683 {'total': 0, 'offset': 0, 'data': []}\n",
      "Error at 1687 {'total': 0, 'offset': 0, 'data': []}\n",
      "Error at 1691 {'total': 0, 'offset': 0, 'data': []}\n",
      "Error at 1701 {'total': 0, 'offset': 0, 'data': []}\n",
      "Error at 1730 {'total': 0, 'offset': 0, 'data': []}\n",
      "Error at 1756 {'total': 0, 'offset': 0, 'data': []}\n",
      "Reached 1764 authors after 2749.247517824173 seconds, taking a break...\n",
      "Error at 1772 {'total': 0, 'offset': 0, 'data': []}\n",
      "Error at 1779 {'total': 0, 'offset': 0, 'data': []}\n",
      "Error at 1783 {'total': 0, 'offset': 0, 'data': []}\n",
      "Error at 1790 {'total': 0, 'offset': 0, 'data': []}\n",
      "Error at 1810 {'total': 0, 'offset': 0, 'data': []}\n",
      "Error at 1820 {'total': 0, 'offset': 0, 'data': []}\n",
      "Error at 1839 {'total': 0, 'offset': 0, 'data': []}\n",
      "Reached 1862 authors after 3150.451773405075 seconds, taking a break...\n",
      "Error at 1871 {'total': 0, 'offset': 0, 'data': []}\n",
      "Error at 1874 {'total': 0, 'offset': 0, 'data': []}\n",
      "Error at 1895 {'total': 0, 'offset': 0, 'data': []}\n",
      "Error at 1896 {'total': 0, 'offset': 0, 'data': []}\n",
      "Error at 1901 {'total': 0, 'offset': 0, 'data': []}\n",
      "Error at 1932 {'total': 0, 'offset': 0, 'data': []}\n",
      "Error at 1946 {'total': 0, 'offset': 0, 'data': []}\n",
      "Error at 1948 {'total': 0, 'offset': 0, 'data': []}\n",
      "Error at 1956 {'total': 0, 'offset': 0, 'data': []}\n",
      "Reached 1960 authors after 3547.7124836444855 seconds, taking a break...\n",
      "Error at 1962 {'total': 0, 'offset': 0, 'data': []}\n",
      "Error at 1965 {'total': 0, 'offset': 0, 'data': []}\n",
      "Error at 1979 {'total': 0, 'offset': 0, 'data': []}\n",
      "Error at 1985 {'total': 0, 'offset': 0, 'data': []}\n",
      "Error at 2003 {'total': 0, 'offset': 0, 'data': []}\n",
      "Error at 2004 {'total': 0, 'offset': 0, 'data': []}\n",
      "Error at 2011 {'total': 0, 'offset': 0, 'data': []}\n",
      "Error at 2023 {'total': 0, 'offset': 0, 'data': []}\n",
      "Error at 2037 {'total': 0, 'offset': 0, 'data': []}\n",
      "Error at 2053 {'total': 0, 'offset': 0, 'data': []}\n",
      "Reached 2058 authors after 3949.2498729228973 seconds, taking a break...\n"
     ]
    }
   ],
   "source": [
    "IDs = []\n",
    "i = 1078\n",
    "t = time.time()\n",
    "\n",
    "with open('data/IDs_real.txt', 'a') as file:\n",
    "    for author in authors[i:]:\n",
    "        if i % 98 == 0 and i > 0:\n",
    "            print(f'Reached {i} authors after {time.time() - t} seconds, taking a break...')\n",
    "            time.sleep(60*5)\n",
    "\n",
    "        params = {'query':author,\n",
    "                   \"offset\":0,\n",
    "                   \"limit\":1,\n",
    "                    \"fields\": \"authorId,aliases,papers\"}\n",
    "        my_url = BASE_URL+VERSION+RESOURCE\n",
    "        r = requests.get(my_url, params=params)\n",
    "\n",
    "        try:\n",
    "            ID = r.json()['data'][0]['authorId']\n",
    "            IDs.append(ID)\n",
    "            file.write(ID)\n",
    "            file.write('\\n')\n",
    "        except IndexError or KeyError:\n",
    "            print(f'Error at {i} {r.json()}')\n",
    "        i += 1"
   ]
  },
  {
   "cell_type": "code",
   "execution_count": 4,
   "outputs": [
    {
     "data": {
      "text/plain": "(2062, 2062)"
     },
     "execution_count": 4,
     "metadata": {},
     "output_type": "execute_result"
    }
   ],
   "source": [
    "i, len(authors)"
   ],
   "metadata": {
    "collapsed": false
   }
  },
  {
   "cell_type": "code",
   "execution_count": 3,
   "metadata": {
    "collapsed": false
   },
   "outputs": [
    {
     "data": {
      "text/plain": "1055"
     },
     "execution_count": 3,
     "metadata": {},
     "output_type": "execute_result"
    }
   ],
   "source": [
    "with open('data/IDs.txt', 'r') as file:\n",
    "    IDs = []\n",
    "    for line in file.readlines():\n",
    "        IDs.append(line)\n",
    "    with open('data/IDs_real.txt', 'r') as file:\n",
    "        for line in file.readlines():\n",
    "            IDs.append(line)\n",
    "len(set(IDs))"
   ]
  },
  {
   "cell_type": "code",
   "execution_count": 4,
   "metadata": {
    "collapsed": false
   },
   "outputs": [
    {
     "data": {
      "text/plain": [
       "{'total': 9,\n",
       " 'offset': 0,\n",
       " 'next': 1,\n",
       " 'data': [{'authorId': '2107389568', 'name': 'Z. He'}]}"
      ]
     },
     "execution_count": 4,
     "metadata": {},
     "output_type": "execute_result"
    }
   ],
   "source": [
    "params = {'query':authors[0],\n",
    "                   \"offset\":0,\n",
    "                   \"limit\":1,\n",
    "          }#\"fields\":\"authorId\"}\n",
    "my_url = BASE_URL+VERSION+RESOURCE\n",
    "r = requests.get(my_url, params=params)\n",
    "r.json()"
   ]
  }
 ],
 "metadata": {
  "kernelspec": {
   "display_name": "Python 3",
   "language": "python",
   "name": "python3"
  },
  "language_info": {
   "codemirror_mode": {
    "name": "ipython",
    "version": 2
   },
   "file_extension": ".py",
   "mimetype": "text/x-python",
   "name": "python",
   "nbconvert_exporter": "python",
   "pygments_lexer": "ipython2",
   "version": "3.11.1 (tags/v3.11.1:a7a450f, Dec  6 2022, 19:58:39) [MSC v.1934 64 bit (AMD64)]"
  },
  "vscode": {
   "interpreter": {
    "hash": "376dd7633afddb7e11c0a9ffa5f656d1a19ddfafae55033d07193535982b765e"
   }
  }
 },
 "nbformat": 4,
 "nbformat_minor": 0
}
