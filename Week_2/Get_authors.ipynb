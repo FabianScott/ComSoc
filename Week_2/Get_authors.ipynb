{
 "cells": [
  {
   "cell_type": "code",
   "execution_count": null,
   "metadata": {
    "collapsed": true
   },
   "outputs": [],
   "source": [
    "import requests\n",
    "import os\n",
    "path = os.getcwd()[:-1] + '1' + '\\\\data\\\\authors.txt'\n",
    "authors = []\n",
    "with open(path, 'r') as file:\n",
    "    for line in file.readlines():\n",
    "        authors.append(line[:-1])"
   ]
  },
  {
   "cell_type": "code",
   "execution_count": null,
   "outputs": [],
   "source": [
    "BASE_URL = \"https://api.semanticscholar.org/graph/\"\n",
    "VERSION = \"v1/\"\n",
    "RESOURCE = \"author/search\"\n",
    "IDs = set()\n",
    "\n",
    "for author in authors:\n",
    "    params = {'query':author,\n",
    "               \"offset\":0,\n",
    "               \"limit\":1,\n",
    "                \"fields\":\"authorId, papers.authors\"}\n",
    "\n",
    "    my_url = BASE_URL+VERSION+RESOURCE\n",
    "\n",
    "    r = requests.get(my_url, params=params)\n",
    "    IDs.add(r.json()['authorId'])\n",
    "print(1)"
   ],
   "metadata": {
    "collapsed": false,
    "pycharm": {
     "name": "#%%\n"
    }
   }
  },
  {
   "cell_type": "code",
   "execution_count": null,
   "outputs": [],
   "source": [
    "IDs"
   ],
   "metadata": {
    "collapsed": false,
    "pycharm": {
     "name": "#%%\n"
    }
   }
  },
  {
   "cell_type": "code",
   "execution_count": null,
   "outputs": [],
   "source": [],
   "metadata": {
    "collapsed": false,
    "pycharm": {
     "name": "#%%\n"
    }
   }
  }
 ],
 "metadata": {
  "kernelspec": {
   "display_name": "Python 3",
   "language": "python",
   "name": "python3"
  },
  "language_info": {
   "codemirror_mode": {
    "name": "ipython",
    "version": 2
   },
   "file_extension": ".py",
   "mimetype": "text/x-python",
   "name": "python",
   "nbconvert_exporter": "python",
   "pygments_lexer": "ipython2",
   "version": "2.7.6"
  }
 },
 "nbformat": 4,
 "nbformat_minor": 0
}