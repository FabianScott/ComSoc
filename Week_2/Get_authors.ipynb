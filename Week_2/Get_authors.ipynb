{
 "cells": [
  {
   "cell_type": "code",
   "execution_count": 18,
   "metadata": {
    "collapsed": true
   },
   "outputs": [],
   "source": [
    "import requests\n",
    "import os\n",
    "import time\n",
    "import pandas as pd\n",
    "path = os.getcwd()[:-1] + '1' + '\\\\data\\\\authors.txt'\n",
    "authors = []\n",
    "\n",
    "with open(path, 'r') as file:\n",
    "    for line in file.readlines():\n",
    "        authors.append(line[:-1])\n",
    "\n",
    "BASE_URL = \"https://api.semanticscholar.org/graph/\"\n",
    "VERSION = \"v1/\"\n",
    "RESOURCE = \"author/search\""
   ]
  },
  {
   "cell_type": "code",
   "execution_count": null,
   "outputs": [
    {
     "name": "stdout",
     "output_type": "stream",
     "text": [
      "Error at 13\n",
      "Error at 22\n",
      "Error at 25\n",
      "Error at 30\n",
      "Error at 37\n",
      "Error at 49\n",
      "Error at 56\n",
      "Error at 59\n",
      "Error at 63\n",
      "Error at 90\n",
      "Error at 96\n",
      "Reached 98 authors after 361.2979199886322 seconds, taking a break...\n",
      "Error at 112\n",
      "Error at 113\n",
      "Error at 114\n",
      "Error at 124\n",
      "Error at 150\n",
      "Error at 152\n",
      "Error at 163\n",
      "Error at 167\n",
      "Error at 171\n",
      "Reached 196 authors after 713.8285987377167 seconds, taking a break...\n",
      "Error at 222\n",
      "Error at 223\n",
      "Error at 240\n",
      "Error at 241\n",
      "Error at 247\n",
      "Error at 281\n",
      "Error at 291\n",
      "Reached 294 authors after 1065.7296659946442 seconds, taking a break...\n",
      "Error at 294\n",
      "Error at 313\n",
      "Error at 331\n",
      "Error at 344\n",
      "Error at 345\n",
      "Error at 349\n",
      "Error at 359\n",
      "Error at 370\n",
      "Reached 392 authors after 1415.7938368320465 seconds, taking a break...\n",
      "Error at 393\n",
      "Error at 423\n",
      "Error at 429\n",
      "Error at 443\n",
      "Error at 445\n",
      "Error at 450\n",
      "Error at 484\n",
      "Reached 490 authors after 1766.2983174324036 seconds, taking a break...\n",
      "Error at 501\n",
      "Error at 522\n",
      "Error at 523\n",
      "Error at 532\n",
      "Error at 555\n",
      "Error at 556\n",
      "Error at 572\n",
      "Error at 573\n",
      "Error at 585\n",
      "Reached 588 authors after 2114.241488456726 seconds, taking a break...\n",
      "Error at 600\n",
      "Error at 609\n",
      "Error at 623\n",
      "Error at 625\n",
      "Error at 653\n",
      "Error at 671\n",
      "Error at 679\n",
      "Reached 686 authors after 2465.778948545456 seconds, taking a break...\n",
      "Error at 687\n",
      "Error at 722\n",
      "Error at 729\n",
      "Error at 733\n",
      "Error at 734\n",
      "Error at 744\n",
      "Error at 767\n",
      "Error at 772\n",
      "Error at 780\n",
      "Reached 784 authors after 2815.521073102951 seconds, taking a break...\n",
      "Error at 791\n",
      "Error at 810\n",
      "Error at 815\n",
      "Error at 822\n",
      "Error at 823\n",
      "Error at 841\n",
      "Error at 853\n",
      "Error at 863\n",
      "Error at 866\n",
      "Error at 879\n",
      "Reached 882 authors after 3164.719709634781 seconds, taking a break...\n",
      "Error at 894\n",
      "Error at 919\n",
      "Error at 931\n",
      "Error at 934\n",
      "Error at 962\n",
      "Error at 967\n"
     ]
    }
   ],
   "source": [
    "IDs = []\n",
    "i = 0\n",
    "t = time.time()\n",
    "real_authors = []\n",
    "\n",
    "with open('data/IDs.txt', 'w') as file:\n",
    "    for author in authors:\n",
    "        if i % 98 == 0 and i > 0:\n",
    "            print(f'Reached {i} authors after {time.time() - t} seconds, taking a break...')\n",
    "            time.sleep(60*5)\n",
    "\n",
    "        params = {'query':author,\n",
    "                   \"offset\":0,\n",
    "                   \"limit\":1,\n",
    "                    \"fields\": \"authorId,aliases,papers\"}\n",
    "        my_url = BASE_URL+VERSION+RESOURCE\n",
    "        r = requests.get(my_url, params=params)\n",
    "\n",
    "        try:\n",
    "            ID = r.json()['data'][0]['authorId']\n",
    "            IDs.append(ID)\n",
    "            real_authors.append(author)\n",
    "            file.write(ID)\n",
    "            file.write('\\n')\n",
    "        except IndexError or KeyError:\n",
    "            print(f'Error at {i} {r.json()}')\n",
    "        i += 1"
   ],
   "metadata": {
    "collapsed": false
   }
  },
  {
   "cell_type": "code",
   "execution_count": 19,
   "outputs": [
    {
     "ename": "ValueError",
     "evalue": "Length of values (775) does not match length of index (2062)",
     "output_type": "error",
     "traceback": [
      "\u001B[1;31m---------------------------------------------------------------------------\u001B[0m",
      "\u001B[1;31mValueError\u001B[0m                                Traceback (most recent call last)",
      "Input \u001B[1;32mIn [19]\u001B[0m, in \u001B[0;36m<cell line: 1>\u001B[1;34m()\u001B[0m\n\u001B[0;32m      3\u001B[0m \u001B[38;5;28;01mfor\u001B[39;00m line \u001B[38;5;129;01min\u001B[39;00m file\u001B[38;5;241m.\u001B[39mreadlines():\n\u001B[0;32m      4\u001B[0m     IDs\u001B[38;5;241m.\u001B[39mappend(line)\n\u001B[1;32m----> 5\u001B[0m authors_df[\u001B[38;5;124m'\u001B[39m\u001B[38;5;124mIDs\u001B[39m\u001B[38;5;124m'\u001B[39m] \u001B[38;5;241m=\u001B[39m IDs\n",
      "File \u001B[1;32m~\\anaconda3\\lib\\site-packages\\pandas\\core\\frame.py:3655\u001B[0m, in \u001B[0;36mDataFrame.__setitem__\u001B[1;34m(self, key, value)\u001B[0m\n\u001B[0;32m   3652\u001B[0m     \u001B[38;5;28mself\u001B[39m\u001B[38;5;241m.\u001B[39m_setitem_array([key], value)\n\u001B[0;32m   3653\u001B[0m \u001B[38;5;28;01melse\u001B[39;00m:\n\u001B[0;32m   3654\u001B[0m     \u001B[38;5;66;03m# set column\u001B[39;00m\n\u001B[1;32m-> 3655\u001B[0m     \u001B[38;5;28;43mself\u001B[39;49m\u001B[38;5;241;43m.\u001B[39;49m\u001B[43m_set_item\u001B[49m\u001B[43m(\u001B[49m\u001B[43mkey\u001B[49m\u001B[43m,\u001B[49m\u001B[43m \u001B[49m\u001B[43mvalue\u001B[49m\u001B[43m)\u001B[49m\n",
      "File \u001B[1;32m~\\anaconda3\\lib\\site-packages\\pandas\\core\\frame.py:3832\u001B[0m, in \u001B[0;36mDataFrame._set_item\u001B[1;34m(self, key, value)\u001B[0m\n\u001B[0;32m   3822\u001B[0m \u001B[38;5;28;01mdef\u001B[39;00m \u001B[38;5;21m_set_item\u001B[39m(\u001B[38;5;28mself\u001B[39m, key, value) \u001B[38;5;241m-\u001B[39m\u001B[38;5;241m>\u001B[39m \u001B[38;5;28;01mNone\u001B[39;00m:\n\u001B[0;32m   3823\u001B[0m     \u001B[38;5;124;03m\"\"\"\u001B[39;00m\n\u001B[0;32m   3824\u001B[0m \u001B[38;5;124;03m    Add series to DataFrame in specified column.\u001B[39;00m\n\u001B[0;32m   3825\u001B[0m \n\u001B[1;32m   (...)\u001B[0m\n\u001B[0;32m   3830\u001B[0m \u001B[38;5;124;03m    ensure homogeneity.\u001B[39;00m\n\u001B[0;32m   3831\u001B[0m \u001B[38;5;124;03m    \"\"\"\u001B[39;00m\n\u001B[1;32m-> 3832\u001B[0m     value \u001B[38;5;241m=\u001B[39m \u001B[38;5;28;43mself\u001B[39;49m\u001B[38;5;241;43m.\u001B[39;49m\u001B[43m_sanitize_column\u001B[49m\u001B[43m(\u001B[49m\u001B[43mvalue\u001B[49m\u001B[43m)\u001B[49m\n\u001B[0;32m   3834\u001B[0m     \u001B[38;5;28;01mif\u001B[39;00m (\n\u001B[0;32m   3835\u001B[0m         key \u001B[38;5;129;01min\u001B[39;00m \u001B[38;5;28mself\u001B[39m\u001B[38;5;241m.\u001B[39mcolumns\n\u001B[0;32m   3836\u001B[0m         \u001B[38;5;129;01mand\u001B[39;00m value\u001B[38;5;241m.\u001B[39mndim \u001B[38;5;241m==\u001B[39m \u001B[38;5;241m1\u001B[39m\n\u001B[0;32m   3837\u001B[0m         \u001B[38;5;129;01mand\u001B[39;00m \u001B[38;5;129;01mnot\u001B[39;00m is_extension_array_dtype(value)\n\u001B[0;32m   3838\u001B[0m     ):\n\u001B[0;32m   3839\u001B[0m         \u001B[38;5;66;03m# broadcast across multiple columns if necessary\u001B[39;00m\n\u001B[0;32m   3840\u001B[0m         \u001B[38;5;28;01mif\u001B[39;00m \u001B[38;5;129;01mnot\u001B[39;00m \u001B[38;5;28mself\u001B[39m\u001B[38;5;241m.\u001B[39mcolumns\u001B[38;5;241m.\u001B[39mis_unique \u001B[38;5;129;01mor\u001B[39;00m \u001B[38;5;28misinstance\u001B[39m(\u001B[38;5;28mself\u001B[39m\u001B[38;5;241m.\u001B[39mcolumns, MultiIndex):\n",
      "File \u001B[1;32m~\\anaconda3\\lib\\site-packages\\pandas\\core\\frame.py:4538\u001B[0m, in \u001B[0;36mDataFrame._sanitize_column\u001B[1;34m(self, value)\u001B[0m\n\u001B[0;32m   4535\u001B[0m     \u001B[38;5;28;01mreturn\u001B[39;00m _reindex_for_setitem(value, \u001B[38;5;28mself\u001B[39m\u001B[38;5;241m.\u001B[39mindex)\n\u001B[0;32m   4537\u001B[0m \u001B[38;5;28;01mif\u001B[39;00m is_list_like(value):\n\u001B[1;32m-> 4538\u001B[0m     \u001B[43mcom\u001B[49m\u001B[38;5;241;43m.\u001B[39;49m\u001B[43mrequire_length_match\u001B[49m\u001B[43m(\u001B[49m\u001B[43mvalue\u001B[49m\u001B[43m,\u001B[49m\u001B[43m \u001B[49m\u001B[38;5;28;43mself\u001B[39;49m\u001B[38;5;241;43m.\u001B[39;49m\u001B[43mindex\u001B[49m\u001B[43m)\u001B[49m\n\u001B[0;32m   4539\u001B[0m \u001B[38;5;28;01mreturn\u001B[39;00m sanitize_array(value, \u001B[38;5;28mself\u001B[39m\u001B[38;5;241m.\u001B[39mindex, copy\u001B[38;5;241m=\u001B[39m\u001B[38;5;28;01mTrue\u001B[39;00m, allow_2d\u001B[38;5;241m=\u001B[39m\u001B[38;5;28;01mTrue\u001B[39;00m)\n",
      "File \u001B[1;32m~\\anaconda3\\lib\\site-packages\\pandas\\core\\common.py:557\u001B[0m, in \u001B[0;36mrequire_length_match\u001B[1;34m(data, index)\u001B[0m\n\u001B[0;32m    553\u001B[0m \u001B[38;5;124;03m\"\"\"\u001B[39;00m\n\u001B[0;32m    554\u001B[0m \u001B[38;5;124;03mCheck the length of data matches the length of the index.\u001B[39;00m\n\u001B[0;32m    555\u001B[0m \u001B[38;5;124;03m\"\"\"\u001B[39;00m\n\u001B[0;32m    556\u001B[0m \u001B[38;5;28;01mif\u001B[39;00m \u001B[38;5;28mlen\u001B[39m(data) \u001B[38;5;241m!=\u001B[39m \u001B[38;5;28mlen\u001B[39m(index):\n\u001B[1;32m--> 557\u001B[0m     \u001B[38;5;28;01mraise\u001B[39;00m \u001B[38;5;167;01mValueError\u001B[39;00m(\n\u001B[0;32m    558\u001B[0m         \u001B[38;5;124m\"\u001B[39m\u001B[38;5;124mLength of values \u001B[39m\u001B[38;5;124m\"\u001B[39m\n\u001B[0;32m    559\u001B[0m         \u001B[38;5;124mf\u001B[39m\u001B[38;5;124m\"\u001B[39m\u001B[38;5;124m(\u001B[39m\u001B[38;5;132;01m{\u001B[39;00m\u001B[38;5;28mlen\u001B[39m(data)\u001B[38;5;132;01m}\u001B[39;00m\u001B[38;5;124m) \u001B[39m\u001B[38;5;124m\"\u001B[39m\n\u001B[0;32m    560\u001B[0m         \u001B[38;5;124m\"\u001B[39m\u001B[38;5;124mdoes not match length of index \u001B[39m\u001B[38;5;124m\"\u001B[39m\n\u001B[0;32m    561\u001B[0m         \u001B[38;5;124mf\u001B[39m\u001B[38;5;124m\"\u001B[39m\u001B[38;5;124m(\u001B[39m\u001B[38;5;132;01m{\u001B[39;00m\u001B[38;5;28mlen\u001B[39m(index)\u001B[38;5;132;01m}\u001B[39;00m\u001B[38;5;124m)\u001B[39m\u001B[38;5;124m\"\u001B[39m\n\u001B[0;32m    562\u001B[0m     )\n",
      "\u001B[1;31mValueError\u001B[0m: Length of values (775) does not match length of index (2062)"
     ]
    }
   ],
   "source": [
    "with open('data/IDs.txt', 'r') as file:\n",
    "    IDs = []\n",
    "    for line in file.readlines():\n",
    "        IDs.append(line)"
   ],
   "metadata": {
    "collapsed": false
   }
  },
  {
   "cell_type": "code",
   "execution_count": 4,
   "outputs": [
    {
     "data": {
      "text/plain": "{'total': 9,\n 'offset': 0,\n 'next': 1,\n 'data': [{'authorId': '2107389568', 'name': 'Z. He'}]}"
     },
     "execution_count": 4,
     "metadata": {},
     "output_type": "execute_result"
    }
   ],
   "source": [
    "params = {'query':authors[0],\n",
    "                   \"offset\":0,\n",
    "                   \"limit\":1,\n",
    "          }#\"fields\":\"authorId\"}\n",
    "my_url = BASE_URL+VERSION+RESOURCE\n",
    "r = requests.get(my_url, params=params)\n",
    "r.json()"
   ],
   "metadata": {
    "collapsed": false
   }
  }
 ],
 "metadata": {
  "kernelspec": {
   "display_name": "Python 3",
   "language": "python",
   "name": "python3"
  },
  "language_info": {
   "codemirror_mode": {
    "name": "ipython",
    "version": 2
   },
   "file_extension": ".py",
   "mimetype": "text/x-python",
   "name": "python",
   "nbconvert_exporter": "python",
   "pygments_lexer": "ipython2",
   "version": "2.7.6"
  }
 },
 "nbformat": 4,
 "nbformat_minor": 0
}
