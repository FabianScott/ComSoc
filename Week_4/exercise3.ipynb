{
 "cells": [
  {
   "cell_type": "code",
   "execution_count": 2,
   "metadata": {
    "collapsed": true
   },
   "outputs": [],
   "source": [
    "import numpy as np\n",
    "import pandas as pd\n",
    "import networkx as nx\n",
    "from scipy import stats as st\n",
    "import matplotlib.pyplot as plt\n",
    "G = nx.Graph()\n",
    "# Given G as the graph"
   ]
  },
  {
   "cell_type": "markdown",
   "metadata": {
    "collapsed": false
   },
   "source": [
    "We use an undirected graph because human relationships are bi-directional in most cases. With an assumption that the author who comes first on a paper is the initiator of the relationship we would maybe have used a directed graph, but this is not a reasonable assumption."
   ]
  },
  {
   "cell_type": "code",
   "execution_count": null,
   "metadata": {
    "collapsed": false
   },
   "outputs": [],
   "source": [
    "print(f'There are {G.number_of_nodes()} and {G.number_of_edges()} in the graph with resulting density of {nx.density(G)}')"
   ]
  },
  {
   "cell_type": "code",
   "execution_count": null,
   "metadata": {
    "collapsed": false
   },
   "outputs": [],
   "source": [
    "degrees = np.array([d for _, d in G.degree()])\n",
    "\n",
    "print(f'Statistics for Degrees:\\nMedian {degrees.median()}\\nMean {degrees.mean()}\\nMode {st.mode(degrees)}\\nMin: {degrees.min()}\\nMax: {degrees.max()}')"
   ]
  },
  {
   "cell_type": "code",
   "execution_count": null,
   "metadata": {
    "collapsed": false
   },
   "outputs": [],
   "source": [
    "strengths = []\n",
    "for node in G.nodes:\n",
    "    strengths.append(sum([G.get_edge_data(*edge)['weight'] for edge in G.edges(node)]))\n",
    "print(f'Statistics for Node Strengths:\\nMedian {strengths.median()}\\nMean {strengths.mean()}\\nMode {st.mode(strengths)}\\nMin: {strengths.min()}\\nMax: {strengths.max()}')"
   ]
  },
  {
   "cell_type": "markdown",
   "metadata": {
    "collapsed": false
   },
   "source": []
  },
  {
   "cell_type": "code",
   "execution_count": null,
   "metadata": {
    "collapsed": false
   },
   "outputs": [],
   "source": [
    "plt.hist(degrees, nbins=100)\n",
    "plt.show()"
   ]
  },
  {
   "cell_type": "markdown",
   "metadata": {
    "collapsed": false
   },
   "source": [
    "This shows the heavy-tailed nature of the network."
   ]
  },
  {
   "cell_type": "markdown",
   "metadata": {
    "collapsed": false
   },
   "source": [
    "The following lines find the top author ID's by degree which we subsequently look up to find out what they study."
   ]
  },
  {
   "cell_type": "code",
   "execution_count": 3,
   "metadata": {
    "collapsed": false
   },
   "outputs": [
    {
     "data": {
      "text/plain": [
       "array([0.20084418, 0.21006797, 0.28561496, 0.53535729, 0.63216144])"
      ]
     },
     "execution_count": 3,
     "metadata": {},
     "output_type": "execute_result"
    }
   ],
   "source": [
    "degrees = np.random.random(7)\n",
    "G.nodes[np.argsort(degrees)[:5]]"
   ]
  },
  {
   "cell_type": "code",
   "execution_count": null,
   "metadata": {
    "collapsed": false
   },
   "outputs": [],
   "source": [
    "spearman_cor = st.spearmanr(G.nodes['median_citation_count'], degrees)\n",
    "plt.scatter(G.nodes['median_citation_count'], degrees)\n",
    "plt.title(f'Median Citation Count vs Degree Count')\n",
    "plt.xlabel(f'Median Citation Count')\n",
    "plt.ylabel(f'Degree Count')\n",
    "plt.show()"
   ]
  },
  {
   "cell_type": "markdown",
   "metadata": {
    "collapsed": false
   },
   "source": [
    "The spearman correlation s more robust to outliers, and it seems there are are couple of these in the data."
   ]
  },
  {
   "cell_type": "code",
   "execution_count": 12,
   "metadata": {},
   "outputs": [
    {
     "name": "stdout",
     "output_type": "stream",
     "text": [
      "total citationcount:  11739\n"
     ]
    },
    {
     "data": {
      "text/plain": [
       "[{'authorId': '3847277', 'name': 'Y. Michalakis', 'citationCount': 9111},\n",
       " {'authorId': '118515406', 'name': 'J. Corvino', 'citationCount': 199},\n",
       " {'authorId': '48961279', 'name': 'Adam Jochem', 'citationCount': 1210},\n",
       " {'authorId': '150304655', 'name': 'Sean R Peters', 'citationCount': 47},\n",
       " {'authorId': '34201396', 'name': 'M. Bhattacharyya', 'citationCount': 1172}]"
      ]
     },
     "execution_count": 12,
     "metadata": {},
     "output_type": "execute_result"
    }
   ],
   "source": [
    "# top 5 author's names:\n",
    "\n",
    "import requests\n",
    "import pandas as pd\n",
    "\n",
    "BASE_URL = \"https://api.semanticscholar.org/graph/\"\n",
    "VERSION = \"v1/\"\n",
    "RESOURCE = \"author/batch\"\n",
    "URL = BASE_URL + VERSION + RESOURCE\n",
    "id_list = [\n",
    "    3847277,\n",
    "    118515406,\n",
    "    48961279,\n",
    "    150304655,\n",
    "    34201396,\n",
    "]\n",
    "\n",
    "json_data = {\"ids\": [str(i) for i in id_list]}\n",
    "r = requests.post(URL, params={\"fields\": \"authorId,name,citationCount\"}, json=json_data)\n",
    "print(\"total citationcount: \", sum([i[\"citationCount\"] for i in r.json()]))\n",
    "r.json()"
   ]
  },
  {
   "attachments": {},
   "cell_type": "markdown",
   "metadata": {},
   "source": [
    "Y. Michalakis seems to have worked on a great number of papers, with many different subjects, and it's hard to pinpoint what type of researcher he is.\n",
    "\n",
    "J. Corvino has worked on several papers related to the same subject, same-sex marriage and morality, it seems like he is a specialist in this area.\n",
    "\n",
    "Adam Jochem has worked on some papers related to the mitocondria and other biology subjects, ergo he's probably a biologist.\n",
    "\n",
    "Sean R Peters with only a few works to base a conclusion on, it seems he's a biologist.\n",
    "\n",
    "Malay Bhattacharyya is a computer scientist."
   ]
  }
 ],
 "metadata": {
  "kernelspec": {
   "display_name": "Python 3",
   "language": "python",
   "name": "python3"
  },
  "language_info": {
   "codemirror_mode": {
    "name": "ipython",
    "version": 3
   },
   "file_extension": ".py",
   "mimetype": "text/x-python",
   "name": "python",
   "nbconvert_exporter": "python",
   "pygments_lexer": "ipython3",
   "version": "3.11.1"
  },
  "vscode": {
   "interpreter": {
    "hash": "376dd7633afddb7e11c0a9ffa5f656d1a19ddfafae55033d07193535982b765e"
   }
  }
 },
 "nbformat": 4,
 "nbformat_minor": 0
}
