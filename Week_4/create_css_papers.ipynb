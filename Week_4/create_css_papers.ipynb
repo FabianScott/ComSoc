{
 "cells": [
  {
   "cell_type": "code",
   "execution_count": 2,
   "metadata": {
    "collapsed": true
   },
   "outputs": [],
   "source": [
    "import os\n",
    "import pandas as pd\n",
    "import networkx as nx\n",
    "import ast\n",
    "import numpy as np"
   ]
  },
  {
   "cell_type": "code",
   "execution_count": 5,
   "metadata": {
    "collapsed": false
   },
   "outputs": [],
   "source": [
    "path_out = 'BigData/'\n",
    "path_in = 'BigData/'\n",
    "filenames = ['author_dataset.csv', 'paper_dataset.csv', 'paper_abstract_dataset.csv']\n",
    "frames = []\n",
    "for filename in filenames:\n",
    "    frames.append(pd.read_csv(path_in + filename))\n",
    "df_author, df_paper, df_paper_abs = frames"
   ]
  },
  {
   "cell_type": "code",
   "execution_count": 6,
   "metadata": {
    "collapsed": false
   },
   "outputs": [],
   "source": [
    "def string_to_list(inp):\n",
    "    for char in ['[', ']', ' ', \"'\"]:\n",
    "        inp = inp.replace(char, '')\n",
    "    inp = inp.split(',')\n",
    "    return inp\n",
    "\n",
    "\n",
    "def field_from_ID(IDs):\n",
    "    fields = [[] for _ in IDs]\n",
    "    # Returns in the order they appear in the dataset\n",
    "    for i, paper_IDs in enumerate(IDs):\n",
    "        paper_IDs = ast.literal_eval(paper_IDs)\n",
    "        paper_IDs = [int(el) if el is not None else None for el in paper_IDs]\n",
    "        rows = df_author[df_author['AuthorID'].isin(paper_IDs)]['Field']\n",
    "        rows = [ast.literal_eval(el) for el in rows.values]\n",
    "        for field_list in rows:\n",
    "            if field_list is not None:\n",
    "                fields[i] += list(field_list)\n",
    "    return list(fields)"
   ]
  },
  {
   "cell_type": "code",
   "execution_count": 7,
   "metadata": {
    "collapsed": false
   },
   "outputs": [],
   "source": [
    "field_column = field_from_ID(list(df_paper.authorIds))"
   ]
  },
  {
   "cell_type": "code",
   "execution_count": 8,
   "metadata": {
    "collapsed": false
   },
   "outputs": [],
   "source": [
    "df_paper['author_fields'] = field_column\n",
    "df_paper.to_csv(path_in + 'PaperDataset_af.csv')"
   ]
  },
  {
   "cell_type": "code",
   "execution_count": 9,
   "metadata": {
    "collapsed": false
   },
   "outputs": [],
   "source": [
    "df_paper = pd.read_csv(path_in + 'PaperDataset_af.csv')\n",
    "soc_sci_set = {'Political Science', 'Sociology', 'Economics'}\n",
    "quant_sci_set = {'Mathematics', 'Physics', 'Computer Science'}\n",
    "\n",
    "new_data = []\n",
    "valid = 0\n",
    "for i, row in df_paper.iterrows():\n",
    "    # if i == 10:\n",
    "    #     break\n",
    "    if type(row['fields']) != float:\n",
    "        fields_set = set(ast.literal_eval(row['fields']))\n",
    "        fields = fields_set.intersection(soc_sci_set).union(fields_set.intersection(quant_sci_set))\n",
    "    else:\n",
    "        fields = False\n",
    "\n",
    "    author_set = set(string_to_list(row['author_fields']))\n",
    "    fields_author = author_set.intersection(quant_sci_set)\n",
    "    author_len = len(ast.literal_eval(row['authorIds'])) < 10\n",
    "    date = row['year'] > 2008\n",
    "    DOI = row['externalId.DOI'] != 'None'\n",
    "\n",
    "    if date and DOI and (fields or fields_author):\n",
    "        valid += 1\n",
    "        new_data.append(row)"
   ]
  },
  {
   "cell_type": "code",
   "execution_count": 10,
   "metadata": {
    "collapsed": false
   },
   "outputs": [],
   "source": [
    "css_papers = pd.DataFrame(new_data)\n",
    "css_papers.to_csv('BigData/css_papers.csv')"
   ]
  }
 ],
 "metadata": {
  "kernelspec": {
   "display_name": "Python 3",
   "language": "python",
   "name": "python3"
  },
  "language_info": {
   "codemirror_mode": {
    "name": "ipython",
    "version": 2
   },
   "file_extension": ".py",
   "mimetype": "text/x-python",
   "name": "python",
   "nbconvert_exporter": "python",
   "pygments_lexer": "ipython2",
   "version": "3.11.1"
  },
  "vscode": {
   "interpreter": {
    "hash": "376dd7633afddb7e11c0a9ffa5f656d1a19ddfafae55033d07193535982b765e"
   }
  }
 },
 "nbformat": 4,
 "nbformat_minor": 0
}
