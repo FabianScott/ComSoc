{
 "cells": [
  {
   "cell_type": "markdown",
   "metadata": {},
   "source": [
    "#### Part 3 Exercise 2"
   ]
  },
  {
   "cell_type": "code",
   "execution_count": 1,
   "metadata": {},
   "outputs": [],
   "source": [
    "import pandas as pd\n",
    "import ast\n",
    "import itertools\n",
    "import networkx as nx"
   ]
  },
  {
   "cell_type": "code",
   "execution_count": 2,
   "metadata": {},
   "outputs": [
    {
     "name": "stdout",
     "output_type": "stream",
     "text": [
      "169913\n"
     ]
    }
   ],
   "source": [
    "df = pd.read_csv('paper_dataset.csv')\n",
    "lsts = [ast.literal_eval(lst) for lst in df.authorIds.values]\n",
    "print(len(lsts))"
   ]
  },
  {
   "cell_type": "markdown",
   "metadata": {},
   "source": [
    "### You do not have to run this"
   ]
  },
  {
   "cell_type": "code",
   "execution_count": 3,
   "metadata": {},
   "outputs": [],
   "source": [
    "from collections import defaultdict\n",
    "\n",
    "dictionary = defaultdict(int)\n",
    "for lst in lsts:\n",
    "    a = set(itertools.combinations(lst, 2))\n",
    "    for tuple in a:\n",
    "        try: \n",
    "            tuple = int(tuple[0]), int(tuple[1])\n",
    "            if tuple[0] > tuple[1]:\n",
    "                tuple = tuple[1], tuple[0]\n",
    "            dictionary[tuple] += 1\n",
    "        except: \n",
    "            continue\n"
   ]
  },
  {
   "cell_type": "code",
   "execution_count": 3,
   "metadata": {},
   "outputs": [
    {
     "data": {
      "text/plain": [
       "[2122617020,\n",
       " 78568827,\n",
       " 2069946704,\n",
       " 3574579,\n",
       " 31145660,\n",
       " 153215315,\n",
       " 2111393861,\n",
       " 114953360,\n",
       " 145218764,\n",
       " 1405511901]"
      ]
     },
     "execution_count": 3,
     "metadata": {},
     "output_type": "execute_result"
    }
   ],
   "source": [
    "df_authors = pd.read_csv('author_dataset.csv')\n",
    "authors = [int(value) for value in df_authors[\"AuthorID\"].values]\n",
    "authors[:10]"
   ]
  },
  {
   "cell_type": "markdown",
   "metadata": {},
   "source": [
    "## Stop here"
   ]
  },
  {
   "cell_type": "code",
   "execution_count": 6,
   "metadata": {},
   "outputs": [],
   "source": [
    "lst1 = [key[0] for key in dictionary.keys()]\n",
    "lst2 = [key[1] for key in dictionary.keys()]\n",
    "lst3 = [value for value in dictionary.values()]\n"
   ]
  },
  {
   "cell_type": "code",
   "execution_count": 9,
   "metadata": {},
   "outputs": [],
   "source": [
    "weighted_edges = [(e1, e2, e3) for e1, e2, e3 in zip(lst1, lst2, lst3)]"
   ]
  },
  {
   "cell_type": "code",
   "execution_count": 10,
   "metadata": {},
   "outputs": [],
   "source": [
    "import json"
   ]
  },
  {
   "cell_type": "code",
   "execution_count": 11,
   "metadata": {},
   "outputs": [],
   "source": [
    "with open(\"weighted_edges.csv\", \"w\") as f:\n",
    "    json.dump(weighted_edges, f)"
   ]
  },
  {
   "cell_type": "markdown",
   "metadata": {},
   "source": [
    "## Start here again"
   ]
  },
  {
   "cell_type": "code",
   "execution_count": 3,
   "metadata": {},
   "outputs": [],
   "source": [
    "import json\n",
    "import netwulf as wulf"
   ]
  },
  {
   "cell_type": "code",
   "execution_count": 4,
   "metadata": {},
   "outputs": [],
   "source": [
    "df_authors = pd.read_csv('author_dataset.csv')\n",
    "authors = [int(value) for value in df_authors[\"AuthorID\"].values]"
   ]
  },
  {
   "cell_type": "code",
   "execution_count": 7,
   "metadata": {},
   "outputs": [],
   "source": [
    "with open(\"weighted_edges.csv\", \"r\") as f:\n",
    "    weighted_edges = json.load(f)"
   ]
  },
  {
   "cell_type": "code",
   "execution_count": 8,
   "metadata": {},
   "outputs": [],
   "source": [
    "G = nx.Graph()\n",
    "G.add_nodes_from(authors)\n",
    "G.add_weighted_edges_from(weighted_edges)\n",
    "network, config = wulf.visualize(G)"
   ]
  },
  {
   "cell_type": "markdown",
   "metadata": {},
   "source": [
    "### Get node attributes"
   ]
  },
  {
   "cell_type": "code",
   "execution_count": 90,
   "metadata": {},
   "outputs": [
    {
     "data": {
      "text/plain": [
       "{2122617020: {'_name_': 'Óscar Javier Galindo-caballero',\n",
       "  'top_field': ['Psychology'],\n",
       "  'median_citation_count': 0,\n",
       "  'paper_count': 0,\n",
       "  'first_paper_year': 'N/A'},\n",
       " 78568827: {'_name_': 'Antonio Pais',\n",
       "  'top_field': ['Medicine'],\n",
       "  'median_citation_count': 0,\n",
       "  'paper_count': 0,\n",
       "  'first_paper_year': 'N/A'},\n",
       " 2069946704: {'_name_': 'Nagarjuna Kumarappan',\n",
       "  'top_field': ['Psychology'],\n",
       "  'median_citation_count': 0,\n",
       "  'paper_count': 0,\n",
       "  'first_paper_year': 'N/A'},\n",
       " 3574579: {'_name_': 'Jozsef Vitrai',\n",
       "  'top_field': ['Psychology'],\n",
       "  'median_citation_count': 2.0,\n",
       "  'paper_count': 1,\n",
       "  'first_paper_year': 2017},\n",
       " 31145660: {'_name_': 'Maarten Van Someren',\n",
       "  'top_field': ['Medicine', 'Engineering'],\n",
       "  'median_citation_count': 0,\n",
       "  'paper_count': 0,\n",
       "  'first_paper_year': 'N/A'}}"
      ]
     },
     "execution_count": 90,
     "metadata": {},
     "output_type": "execute_result"
    }
   ],
   "source": [
    "df = pd.read_csv('css_papers.csv')\n",
    "author_dict = {}\n",
    "\n",
    "for author in authors[:5]:\n",
    "    # get names\n",
    "    author_row = df_authors[df_authors[\"AuthorID\"] == author]\n",
    "    author_name = str()\n",
    "    if type(author_row[\"Aliases\"].values[0]) is str:\n",
    "        author_aliases = ast.literal_eval(author_row[\"Aliases\"].values[0])\n",
    "        for alias in author_aliases:\n",
    "            if \".\" not in alias:\n",
    "                if len(alias) > len(author_name):\n",
    "                    author_name = alias\n",
    "    if len(author_name) == 0:\n",
    "        author_name = author_row[\"Name\"]\n",
    "    # get top field\n",
    "    author_top_field = ast.literal_eval(author_row[\"Field\"].values[0])\n",
    "    # get paper count\n",
    "    author_papers = df[df[\"authorIds\"].str.contains(str(author))]\n",
    "    author_paper_count = author_papers.shape[0]\n",
    "    # get citation count\n",
    "    if author_paper_count > 0:\n",
    "        author_citation_count = sum(author_papers[\"Citation Count\"].values) / author_paper_count\n",
    "    else:\n",
    "        author_citation_count = 0\n",
    "    # first css paper\n",
    "    try: year = int(min(author_papers[\"year\"].values))\n",
    "    except: year = \"N/A\"\n",
    "    # find all paper ids that cite this author\n",
    "    author_dict[author] = {\"_name_\": author_name, \"top_field\": author_top_field, \n",
    "    \"median_citation_count\": author_citation_count, \"paper_count\": author_paper_count, \"first_paper_year\": year}\n",
    "\n",
    "author_dict\n"
   ]
  },
  {
   "cell_type": "code",
   "execution_count": null,
   "metadata": {},
   "outputs": [],
   "source": [
    "\"\"\"\n",
    "for paper_id in df[\"PaperID\"].values:\n",
    "        paper_row = df[df[\"PaperID\"] == paper_id]\n",
    "        paper_authors = ast.literal_eval(paper_row[\"AuthorIds\"])\n",
    "        if author in paper_authors:\n",
    "            print(paper_row)\n",
    "            author_number_of_css_paper += 1\n",
    "    author_citation_count = int(author_row[\"CitationCount\"])\n",
    "\"\"\""
   ]
  }
 ],
 "metadata": {
  "kernelspec": {
   "display_name": "Python 3",
   "language": "python",
   "name": "python3"
  },
  "language_info": {
   "codemirror_mode": {
    "name": "ipython",
    "version": 3
   },
   "file_extension": ".py",
   "mimetype": "text/x-python",
   "name": "python",
   "nbconvert_exporter": "python",
   "pygments_lexer": "ipython3",
   "version": "3.11.1"
  },
  "orig_nbformat": 4,
  "vscode": {
   "interpreter": {
    "hash": "376dd7633afddb7e11c0a9ffa5f656d1a19ddfafae55033d07193535982b765e"
   }
  }
 },
 "nbformat": 4,
 "nbformat_minor": 2
}
