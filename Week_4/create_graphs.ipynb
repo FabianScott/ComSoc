{
 "cells": [
  {
   "cell_type": "markdown",
   "metadata": {},
   "source": [
    "#### Part 3 Exercise 2"
   ]
  },
  {
   "cell_type": "code",
   "execution_count": 1,
   "metadata": {},
   "outputs": [],
   "source": [
    "import pandas as pd\n",
    "import ast\n",
    "import itertools\n",
    "import networkx as nx"
   ]
  },
  {
   "cell_type": "code",
   "execution_count": 2,
   "metadata": {},
   "outputs": [
    {
     "name": "stdout",
     "output_type": "stream",
     "text": [
      "169913\n"
     ]
    }
   ],
   "source": [
    "df = pd.read_csv('paper_dataset.csv')\n",
    "lsts = [ast.literal_eval(lst) for lst in df.authorIds.values]\n",
    "print(len(lsts))"
   ]
  },
  {
   "cell_type": "markdown",
   "metadata": {},
   "source": [
    "### You do not have to run this"
   ]
  },
  {
   "cell_type": "code",
   "execution_count": 3,
   "metadata": {},
   "outputs": [],
   "source": [
    "from collections import defaultdict\n",
    "\n",
    "dictionary = defaultdict(int)\n",
    "for lst in lsts:\n",
    "    a = set(itertools.combinations(lst, 2))\n",
    "    for tuple in a:\n",
    "        try: \n",
    "            tuple = int(tuple[0]), int(tuple[1])\n",
    "            if tuple[0] > tuple[1]:\n",
    "                tuple = tuple[1], tuple[0]\n",
    "            dictionary[tuple] += 1\n",
    "        except: \n",
    "            continue\n"
   ]
  },
  {
   "cell_type": "code",
   "execution_count": 3,
   "metadata": {},
   "outputs": [
    {
     "data": {
      "text/plain": [
       "[2122617020,\n",
       " 78568827,\n",
       " 2069946704,\n",
       " 3574579,\n",
       " 31145660,\n",
       " 153215315,\n",
       " 2111393861,\n",
       " 114953360,\n",
       " 145218764,\n",
       " 1405511901]"
      ]
     },
     "execution_count": 3,
     "metadata": {},
     "output_type": "execute_result"
    }
   ],
   "source": [
    "df_authors = pd.read_csv('author_dataset.csv')\n",
    "authors = [int(value) for value in df_authors[\"AuthorID\"].values]\n",
    "authors[:10]"
   ]
  },
  {
   "cell_type": "markdown",
   "metadata": {},
   "source": [
    "## Stop here"
   ]
  },
  {
   "cell_type": "code",
   "execution_count": 6,
   "metadata": {},
   "outputs": [],
   "source": [
    "lst1 = [key[0] for key in dictionary.keys()]\n",
    "lst2 = [key[1] for key in dictionary.keys()]\n",
    "lst3 = [value for value in dictionary.values()]\n"
   ]
  },
  {
   "cell_type": "code",
   "execution_count": 9,
   "metadata": {},
   "outputs": [],
   "source": [
    "weighted_edges = [(e1, e2, e3) for e1, e2, e3 in zip(lst1, lst2, lst3)]"
   ]
  },
  {
   "cell_type": "code",
   "execution_count": 10,
   "metadata": {},
   "outputs": [],
   "source": [
    "import json"
   ]
  },
  {
   "cell_type": "code",
   "execution_count": 11,
   "metadata": {},
   "outputs": [],
   "source": [
    "with open(\"weighted_edges.csv\", \"w\") as f:\n",
    "    json.dump(weighted_edges, f)"
   ]
  },
  {
   "cell_type": "markdown",
   "metadata": {},
   "source": [
    "## Start here again"
   ]
  },
  {
   "cell_type": "code",
   "execution_count": 6,
   "metadata": {},
   "outputs": [],
   "source": [
    "import json\n",
    "import netwulf as wulf"
   ]
  },
  {
   "cell_type": "code",
   "execution_count": null,
   "metadata": {},
   "outputs": [],
   "source": [
    "df_authors = pd.read_csv('author_dataset.csv')\n",
    "authors = [int(value) for value in df_authors[\"AuthorID\"].values]"
   ]
  },
  {
   "cell_type": "code",
   "execution_count": 7,
   "metadata": {},
   "outputs": [],
   "source": [
    "with open(\"weighted_edges.csv\", \"r\") as f:\n",
    "    weighted_edges = json.load(f)"
   ]
  },
  {
   "cell_type": "code",
   "execution_count": 8,
   "metadata": {},
   "outputs": [],
   "source": [
    "G = nx.Graph()\n",
    "G.add_nodes_from(authors)\n",
    "G.add_weighted_edges_from(weighted_edges)\n",
    "network, config = wulf.visualize(G)"
   ]
  },
  {
   "cell_type": "markdown",
   "metadata": {},
   "source": [
    "### Get node attributes"
   ]
  },
  {
   "cell_type": "code",
   "execution_count": null,
   "metadata": {},
   "outputs": [],
   "source": [
    "author_dict = dict()\n",
    "\n",
    "for author in authors[:5]:\n",
    "    # get names\n",
    "    author_row = df_authors[df_authors[\"AuthorID\"] == author]\n",
    "    print(author_row[\"Aliases\"])\n",
    "    author_aliases = author_row[\"Aliases\"]\n",
    "    author_name = None\n",
    "    print(\"aliases: \", author_aliases)\n",
    "    for alias in author_aliases:\n",
    "        print(alias)\n",
    "        if alias is list():\n",
    "            if \".\" not in alias:\n",
    "                print(\"new name: alias\")\n",
    "                author_name = alias\n",
    "    if author_name is None:\n",
    "        author_name = author_row[\"Name\"]\n",
    "    # get top field\n",
    "    author_top_field = author_row[\"Field\"]\n",
    "    # get citation count\n",
    "    author_number_of_css_paper = 0\n",
    "    # find all paper ids that cite this author\n",
    "\n",
    "    author_dict[author] = {\"_name_\": author_name, \"top_field\": author_top_field}\n",
    "\n",
    "\n",
    "#print(*author_dict.values())\n",
    "\n",
    "\n",
    "\"\"\"\n",
    "for paper_id in df[\"PaperID\"].values:\n",
    "        paper_row = df[df[\"PaperID\"] == paper_id]\n",
    "        paper_authors = ast.literal_eval(paper_row[\"AuthorIds\"])\n",
    "        if author in paper_authors:\n",
    "            print(paper_row)\n",
    "            author_number_of_css_paper += 1\n",
    "    author_citation_count = int(author_row[\"CitationCount\"])\n",
    "\"\"\"\n"
   ]
  },
  {
   "cell_type": "code",
   "execution_count": null,
   "metadata": {},
   "outputs": [],
   "source": []
  }
 ],
 "metadata": {
  "kernelspec": {
   "display_name": "Python 3.10.9 64-bit",
   "language": "python",
   "name": "python3"
  },
  "language_info": {
   "codemirror_mode": {
    "name": "ipython",
    "version": 3
   },
   "file_extension": ".py",
   "mimetype": "text/x-python",
   "name": "python",
   "nbconvert_exporter": "python",
   "pygments_lexer": "ipython3",
   "version": "3.10.9"
  },
  "orig_nbformat": 4,
  "vscode": {
   "interpreter": {
    "hash": "b0fa6594d8f4cbf19f97940f81e996739fb7646882a419484c72d19e05852a7e"
   }
  }
 },
 "nbformat": 4,
 "nbformat_minor": 2
}
