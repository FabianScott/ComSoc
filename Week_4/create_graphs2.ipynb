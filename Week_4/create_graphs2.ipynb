{
 "cells": [
  {
   "cell_type": "markdown",
   "metadata": {},
   "source": [
    "#### Part 3 Exercise 2"
   ]
  },
  {
   "cell_type": "code",
   "execution_count": 25,
   "metadata": {},
   "outputs": [],
   "source": [
    "import pandas as pd\n",
    "import ast\n",
    "import itertools\n",
    "\n",
    "import networkx as nx\n",
    "from netwulf import visualize"
   ]
  },
  {
   "cell_type": "code",
   "execution_count": 2,
   "metadata": {},
   "outputs": [],
   "source": [
    "df_papers = pd.read_csv('../Week_3/data/PaperDataset.csv')\n",
    "df_authors = pd.read_csv('../Week_3/data/AuthorDataframe.csv')\n",
    "\n",
    "paper_connection_list = [ast.literal_eval(lst) for lst in df_papers.authorIds.values]\n",
    "author_ids = list(set([int(value) for value in df_authors[\"AuthorID\"].values]))"
   ]
  },
  {
   "cell_type": "code",
   "execution_count": 3,
   "metadata": {},
   "outputs": [],
   "source": [
    "from collections import defaultdict\n",
    "\n",
    "pairing_dict = defaultdict(int)\n",
    "for lst in paper_connection_list:\n",
    "    combi = itertools.combinations(lst, 2)\n",
    "    try: combi = set([(int(i[0]), int(i[1])) for i in combi if int(i[0]) < int(i[1])])\n",
    "    except: continue\n",
    "    for pair in combi: pairing_dict[pair] += 1\n",
    "weighted_edges = [(pair[0], pair[1], w) for pair, w in pairing_dict.items()]"
   ]
  },
  {
   "cell_type": "code",
   "execution_count": 23,
   "metadata": {},
   "outputs": [],
   "source": [
    "G = nx.Graph()\n",
    "G.add_nodes_from(author_ids)\n",
    "G.add_weighted_edges_from(weighted_edges)\n",
    "\n",
    "visualize(G)"
   ]
  }
 ],
 "metadata": {
  "kernelspec": {
   "display_name": "Python 3",
   "language": "python",
   "name": "python3"
  },
  "language_info": {
   "codemirror_mode": {
    "name": "ipython",
    "version": 3
   },
   "file_extension": ".py",
   "mimetype": "text/x-python",
   "name": "python",
   "nbconvert_exporter": "python",
   "pygments_lexer": "ipython3",
   "version": "3.11.1 (tags/v3.11.1:a7a450f, Dec  6 2022, 19:58:39) [MSC v.1934 64 bit (AMD64)]"
  },
  "orig_nbformat": 4,
  "vscode": {
   "interpreter": {
    "hash": "376dd7633afddb7e11c0a9ffa5f656d1a19ddfafae55033d07193535982b765e"
   }
  }
 },
 "nbformat": 4,
 "nbformat_minor": 2
}
