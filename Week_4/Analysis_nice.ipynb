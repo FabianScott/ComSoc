{
 "cells": [
  {
   "cell_type": "code",
   "execution_count": 2,
   "metadata": {
    "collapsed": true
   },
   "outputs": [],
   "source": [
    "import numpy as np\n",
    "import pandas as pd\n",
    "import networkx as nx\n",
    "from scipy import stats as st\n",
    "import matplotlib.pyplot as plt\n",
    "G = nx.Graph()\n",
    "# Given G as the graph"
   ]
  },
  {
   "cell_type": "markdown",
   "source": [
    "We use an undirected graph because human relationships are bi-directional in most cases. With an assumption that the author who comes first on a paper is the initiator of the relationship we would maybe have used a directed graph, but this is not a reasonable assumption."
   ],
   "metadata": {
    "collapsed": false
   }
  },
  {
   "cell_type": "code",
   "execution_count": null,
   "outputs": [],
   "source": [
    "print(f'There are {G.number_of_nodes()} and {G.number_of_edges()} in the graph with resulting density of {nx.density(G)}')"
   ],
   "metadata": {
    "collapsed": false
   }
  },
  {
   "cell_type": "code",
   "execution_count": null,
   "outputs": [],
   "source": [
    "degrees = np.array([d for _, d in G.degree()])\n",
    "\n",
    "print(f'Statistics for Degrees:\\nMedian {degrees.median()}\\nMean {degrees.mean()}\\nMode {st.mode(degrees)}\\nMin: {degrees.min()}\\nMax: {degrees.max()}')"
   ],
   "metadata": {
    "collapsed": false
   }
  },
  {
   "cell_type": "code",
   "execution_count": null,
   "outputs": [],
   "source": [
    "strengths = []\n",
    "for node in G.nodes:\n",
    "    strengths.append(sum([G.get_edge_data(*edge)['weight'] for edge in G.edges(node)]))\n",
    "print(f'Statistics for Node Strengths:\\nMedian {strengths.median()}\\nMean {strengths.mean()}\\nMode {st.mode(strengths)}\\nMin: {strengths.min()}\\nMax: {strengths.max()}')"
   ],
   "metadata": {
    "collapsed": false
   }
  },
  {
   "cell_type": "markdown",
   "source": [],
   "metadata": {
    "collapsed": false
   }
  },
  {
   "cell_type": "code",
   "execution_count": null,
   "outputs": [],
   "source": [
    "plt.hist(degrees, nbins=100)\n",
    "plt.show()"
   ],
   "metadata": {
    "collapsed": false
   }
  },
  {
   "cell_type": "markdown",
   "source": [
    "The following lines find the top author ID's by degree which we subsequently look up to find out what they study."
   ],
   "metadata": {
    "collapsed": false
   }
  },
  {
   "cell_type": "code",
   "execution_count": 3,
   "outputs": [
    {
     "data": {
      "text/plain": "array([0.20084418, 0.21006797, 0.28561496, 0.53535729, 0.63216144])"
     },
     "execution_count": 3,
     "metadata": {},
     "output_type": "execute_result"
    }
   ],
   "source": [
    "degrees = np.random.random(7)\n",
    "G.nodes[np.argsort(degrees)[:5]]"
   ],
   "metadata": {
    "collapsed": false
   }
  },
  {
   "cell_type": "code",
   "execution_count": null,
   "outputs": [],
   "source": [
    "spearman_cor = st.spearmanr(G.nodes['median_citation_count'], degrees)\n",
    "plt.scatter(G.nodes['median_citation_count'], degrees)\n",
    "plt.title(f'Median Citation Count vs Degree Count')\n",
    "plt.xlabel(f'Median Citation Count')\n",
    "plt.ylabel(f'Degree Count')\n",
    "plt.show()"
   ],
   "metadata": {
    "collapsed": false
   }
  },
  {
   "cell_type": "code",
   "execution_count": null,
   "outputs": [],
   "source": [],
   "metadata": {
    "collapsed": false
   }
  },
  {
   "cell_type": "markdown",
   "source": [
    "The spearman correlation s more robust to outliers, and it seems there are are couple of these in the data."
   ],
   "metadata": {
    "collapsed": false
   }
  }
 ],
 "metadata": {
  "kernelspec": {
   "display_name": "Python 3",
   "language": "python",
   "name": "python3"
  },
  "language_info": {
   "codemirror_mode": {
    "name": "ipython",
    "version": 2
   },
   "file_extension": ".py",
   "mimetype": "text/x-python",
   "name": "python",
   "nbconvert_exporter": "python",
   "pygments_lexer": "ipython2",
   "version": "2.7.6"
  }
 },
 "nbformat": 4,
 "nbformat_minor": 0
}
