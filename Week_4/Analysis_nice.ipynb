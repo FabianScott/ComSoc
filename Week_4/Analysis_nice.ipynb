{
 "cells": [
  {
   "cell_type": "code",
   "execution_count": 4,
   "metadata": {
    "collapsed": true
   },
   "outputs": [],
   "source": [
    "import numpy as np\n",
    "import pandas as pd\n",
    "import networkx as nx\n",
    "import netwulf as nw\n",
    "from scipy import stats as st\n",
    "import matplotlib.pyplot as plt\n",
    "stylized_network, config, G = nw.load(\"Graph.json\")\n",
    "# Given G as the graph"
   ]
  },
  {
   "cell_type": "markdown",
   "source": [
    "We use an undirected graph because human relationships are bi-directional in most cases. With an assumption that the author who comes first on a paper is the initiator of the relationship we would maybe have used a directed graph, but this is not a reasonable assumption."
   ],
   "metadata": {
    "collapsed": false
   }
  },
  {
   "cell_type": "code",
   "execution_count": 6,
   "outputs": [
    {
     "name": "stdout",
     "output_type": "stream",
     "text": [
      "There are 45188 nodes and 975763 links in the graph with resulting density of 0.0009557354882954018\n"
     ]
    }
   ],
   "source": [
    "print(f'There are {G.number_of_nodes()} nodes and {G.number_of_edges()} links in the graph with resulting density of {nx.density(G)}')"
   ],
   "metadata": {
    "collapsed": false
   }
  },
  {
   "cell_type": "code",
   "execution_count": 15,
   "outputs": [
    {
     "name": "stdout",
     "output_type": "stream",
     "text": [
      "Statistics for Degrees:\n",
      "Median 6.0\n",
      "Mean 43.18681950960432\n",
      "Mode ModeResult(mode=array([1]), count=array([5379]))\n",
      "Min: 0\n",
      "Max: 1283\n"
     ]
    },
    {
     "name": "stderr",
     "output_type": "stream",
     "text": [
      "C:\\Users\\toell\\AppData\\Local\\Temp\\ipykernel_9724\\2164658309.py:3: FutureWarning: Unlike other reduction functions (e.g. `skew`, `kurtosis`), the default behavior of `mode` typically preserves the axis it acts along. In SciPy 1.11.0, this behavior will change: the default value of `keepdims` will become False, the `axis` over which the statistic is taken will be eliminated, and the value None will no longer be accepted. Set `keepdims` to True or False to avoid this warning.\n",
      "  print(f'Statistics for Degrees:\\nMedian {np.median(degrees)}\\nMean {degrees.mean()}\\nMode {st.mode(degrees)}\\nMin: {degrees.min()}\\nMax: {degrees.max()}')\n"
     ]
    }
   ],
   "source": [
    "degrees = np.array([d for _, d in G.degree()])\n",
    "\n",
    "print(f'Statistics for Degrees:\\nMedian {np.median(degrees)}\\nMean {degrees.mean()}\\nMode {st.mode(degrees)}\\nMin: {degrees.min()}\\nMax: {degrees.max()}')"
   ],
   "metadata": {
    "collapsed": false
   }
  },
  {
   "cell_type": "code",
   "execution_count": 11,
   "outputs": [
    {
     "name": "stdout",
     "output_type": "stream",
     "text": [
      "Statistics for Node Strengths:\n",
      "Median 8.0\n",
      "Mean 63.046295476675226\n",
      "Mode ModeResult(mode=array([2]), count=array([4772]))\n",
      "Min: 0\n",
      "Max: 2183\n"
     ]
    },
    {
     "name": "stderr",
     "output_type": "stream",
     "text": [
      "C:\\Users\\toell\\AppData\\Local\\Temp\\ipykernel_9724\\54632661.py:5: FutureWarning: Unlike other reduction functions (e.g. `skew`, `kurtosis`), the default behavior of `mode` typically preserves the axis it acts along. In SciPy 1.11.0, this behavior will change: the default value of `keepdims` will become False, the `axis` over which the statistic is taken will be eliminated, and the value None will no longer be accepted. Set `keepdims` to True or False to avoid this warning.\n",
      "  print(f'Statistics for Node Strengths:\\nMedian {np.median(strengths)}\\nMean {strengths.mean()}\\nMode {st.mode(strengths)}\\nMin: {strengths.min()}\\nMax: {strengths.max()}')\n"
     ]
    }
   ],
   "source": [
    "strengths = []\n",
    "for node in G.nodes:\n",
    "    strengths.append(sum([G.get_edge_data(*edge)['weight'] for edge in G.edges(node)]))\n",
    "strengths = np.array(strengths)\n",
    "print(f'Statistics for Node Strengths:\\nMedian {np.median(strengths)}\\nMean {strengths.mean()}\\nMode {st.mode(strengths)}\\nMin: {strengths.min()}\\nMax: {strengths.max()}')"
   ],
   "metadata": {
    "collapsed": false
   }
  },
  {
   "cell_type": "markdown",
   "source": [],
   "metadata": {
    "collapsed": false
   }
  },
  {
   "cell_type": "code",
   "execution_count": 13,
   "outputs": [
    {
     "data": {
      "text/plain": "<Figure size 640x480 with 1 Axes>",
      "image/png": "[encoded data removed]"
     },
     "metadata": {},
     "output_type": "display_data"
    }
   ],
   "source": [
    "plt.hist(degrees, bins=100)\n",
    "plt.show()"
   ],
   "metadata": {
    "collapsed": false
   }
  },
  {
   "cell_type": "markdown",
   "source": [
    "This shows the heavy-tailed nature of the network."
   ],
   "metadata": {
    "collapsed": false
   }
  },
  {
   "cell_type": "markdown",
   "source": [
    "The following lines find the top author ID's by degree which we subsequently look up to find out what they study."
   ],
   "metadata": {
    "collapsed": false
   }
  },
  {
   "cell_type": "code",
   "execution_count": 24,
   "outputs": [
    {
     "data": {
      "text/plain": "array([  3847277, 118515406,  48961279, 150304655,  34201396], dtype=int64)"
     },
     "execution_count": 24,
     "metadata": {},
     "output_type": "execute_result"
    }
   ],
   "source": [
    "np.array(G.nodes())[np.argsort(degrees) > (len(degrees) - 6)]\n",
    "# np.array(G.nodes)"
   ],
   "metadata": {
    "collapsed": false
   }
  },
  {
   "cell_type": "code",
   "execution_count": null,
   "outputs": [],
   "source": [
    "spearman_cor = st.spearmanr(G.nodes['median_citation_count'], degrees)\n",
    "plt.scatter(G.nodes['median_citation_count'], degrees)\n",
    "plt.title(f'Median Citation Count vs Degree Count')\n",
    "plt.xlabel(f'Median Citation Count')\n",
    "plt.ylabel(f'Degree Count')\n",
    "plt.show()"
   ],
   "metadata": {
    "collapsed": false,
    "pycharm": {
     "is_executing": true
    }
   }
  },
  {
   "cell_type": "code",
   "execution_count": null,
   "outputs": [],
   "source": [],
   "metadata": {
    "collapsed": false
   }
  },
  {
   "cell_type": "markdown",
   "source": [
    "The spearman correlation s more robust to outliers, and it seems there are couple of these in the data."
   ],
   "metadata": {
    "collapsed": false
   }
  }
 ],
 "metadata": {
  "kernelspec": {
   "display_name": "Python 3",
   "language": "python",
   "name": "python3"
  },
  "language_info": {
   "codemirror_mode": {
    "name": "ipython",
    "version": 2
   },
   "file_extension": ".py",
   "mimetype": "text/x-python",
   "name": "python",
   "nbconvert_exporter": "python",
   "pygments_lexer": "ipython2",
   "version": "2.7.6"
  }
 },
 "nbformat": 4,
 "nbformat_minor": 0
}
