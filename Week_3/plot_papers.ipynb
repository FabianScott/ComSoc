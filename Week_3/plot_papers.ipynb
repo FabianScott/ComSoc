{
 "cells": [
  {
   "cell_type": "code",
   "execution_count": 25,
   "metadata": {},
   "outputs": [],
   "source": [
    "import pandas as pd\n",
    "import numpy as np\n",
    "import matplotlib.pyplot as plt"
   ]
  },
  {
   "cell_type": "code",
   "execution_count": 26,
   "metadata": {},
   "outputs": [
    {
     "data": {
      "text/html": [
       "<div>\n",
       "<style scoped>\n",
       "    .dataframe tbody tr th:only-of-type {\n",
       "        vertical-align: middle;\n",
       "    }\n",
       "\n",
       "    .dataframe tbody tr th {\n",
       "        vertical-align: top;\n",
       "    }\n",
       "\n",
       "    .dataframe thead th {\n",
       "        text-align: right;\n",
       "    }\n",
       "</style>\n",
       "<table border=\"1\" class=\"dataframe\">\n",
       "  <thead>\n",
       "    <tr style=\"text-align: right;\">\n",
       "      <th></th>\n",
       "      <th>paperId</th>\n",
       "      <th>title</th>\n",
       "      <th>year</th>\n",
       "      <th>externalId.DOI</th>\n",
       "      <th>Citation Count</th>\n",
       "      <th>fields</th>\n",
       "      <th>authorIds</th>\n",
       "      <th>authorNames</th>\n",
       "    </tr>\n",
       "  </thead>\n",
       "  <tbody>\n",
       "    <tr>\n",
       "      <th>36</th>\n",
       "      <td>3d5e5f0111b84e7831ece9b711a2c194b9d71830</td>\n",
       "      <td>P2_4 Electromagnetic radiation from Mobile Phones</td>\n",
       "      <td>2009.0</td>\n",
       "      <td>None</td>\n",
       "      <td>0</td>\n",
       "      <td>['Computer Science']</td>\n",
       "      <td>['145032454', '46594767', '104061233', '206836...</td>\n",
       "      <td>['J. Anand', 'A. Buccheri', 'M. Gorley', 'I. W...</td>\n",
       "    </tr>\n",
       "    <tr>\n",
       "      <th>37</th>\n",
       "      <td>5f65fe40a3416e0351d87aab0d3c2c488f78355e</td>\n",
       "      <td>P2_3 A Tapered Tower</td>\n",
       "      <td>2009.0</td>\n",
       "      <td>None</td>\n",
       "      <td>0</td>\n",
       "      <td>['Mathematics']</td>\n",
       "      <td>['145032454', '46594767', '104061233', '206836...</td>\n",
       "      <td>['J. Anand', 'A. Buccheri', 'M. Gorley', 'I. W...</td>\n",
       "    </tr>\n",
       "    <tr>\n",
       "      <th>38</th>\n",
       "      <td>7ec750db31ba5551d3ce971a8a3e0675d1ed85cc</td>\n",
       "      <td>P2_15 Quantum well widths as a function of doping</td>\n",
       "      <td>2009.0</td>\n",
       "      <td>None</td>\n",
       "      <td>0</td>\n",
       "      <td>['Materials Science']</td>\n",
       "      <td>['46594767', '145032454', '104061233', '206836...</td>\n",
       "      <td>['A. Buccheri', 'J. Anand', 'M. Gorley', 'I. W...</td>\n",
       "    </tr>\n",
       "    <tr>\n",
       "      <th>39</th>\n",
       "      <td>8aad32b97061c86285907a79eaf960dd66d73ec2</td>\n",
       "      <td>P2_6 The influence of agricultural emissions o...</td>\n",
       "      <td>2009.0</td>\n",
       "      <td>None</td>\n",
       "      <td>0</td>\n",
       "      <td>['Environmental Science']</td>\n",
       "      <td>['104061233', '145032454', '2068360159', '4659...</td>\n",
       "      <td>['M. Gorley', 'J. Anand', 'I. Weaver', 'A. Buc...</td>\n",
       "    </tr>\n",
       "    <tr>\n",
       "      <th>40</th>\n",
       "      <td>9d3d9fdc02d7a85ddb77cf4f204cc15ed997de18</td>\n",
       "      <td>P2_1 Cultural Segregation on the Sugarscape</td>\n",
       "      <td>2009.0</td>\n",
       "      <td>None</td>\n",
       "      <td>0</td>\n",
       "      <td>['Sociology']</td>\n",
       "      <td>['104061233', '145032454', '2068360159', '4659...</td>\n",
       "      <td>['M. Gorley', 'J. Anand', 'I. Weaver', 'A. Buc...</td>\n",
       "    </tr>\n",
       "  </tbody>\n",
       "</table>\n",
       "</div>"
      ],
      "text/plain": [
       "                                     paperId  \\\n",
       "36  3d5e5f0111b84e7831ece9b711a2c194b9d71830   \n",
       "37  5f65fe40a3416e0351d87aab0d3c2c488f78355e   \n",
       "38  7ec750db31ba5551d3ce971a8a3e0675d1ed85cc   \n",
       "39  8aad32b97061c86285907a79eaf960dd66d73ec2   \n",
       "40  9d3d9fdc02d7a85ddb77cf4f204cc15ed997de18   \n",
       "\n",
       "                                                title    year externalId.DOI  \\\n",
       "36  P2_4 Electromagnetic radiation from Mobile Phones  2009.0           None   \n",
       "37                               P2_3 A Tapered Tower  2009.0           None   \n",
       "38  P2_15 Quantum well widths as a function of doping  2009.0           None   \n",
       "39  P2_6 The influence of agricultural emissions o...  2009.0           None   \n",
       "40        P2_1 Cultural Segregation on the Sugarscape  2009.0           None   \n",
       "\n",
       "    Citation Count                     fields  \\\n",
       "36               0       ['Computer Science']   \n",
       "37               0            ['Mathematics']   \n",
       "38               0      ['Materials Science']   \n",
       "39               0  ['Environmental Science']   \n",
       "40               0              ['Sociology']   \n",
       "\n",
       "                                            authorIds  \\\n",
       "36  ['145032454', '46594767', '104061233', '206836...   \n",
       "37  ['145032454', '46594767', '104061233', '206836...   \n",
       "38  ['46594767', '145032454', '104061233', '206836...   \n",
       "39  ['104061233', '145032454', '2068360159', '4659...   \n",
       "40  ['104061233', '145032454', '2068360159', '4659...   \n",
       "\n",
       "                                          authorNames  \n",
       "36  ['J. Anand', 'A. Buccheri', 'M. Gorley', 'I. W...  \n",
       "37  ['J. Anand', 'A. Buccheri', 'M. Gorley', 'I. W...  \n",
       "38  ['A. Buccheri', 'J. Anand', 'M. Gorley', 'I. W...  \n",
       "39  ['M. Gorley', 'J. Anand', 'I. Weaver', 'A. Buc...  \n",
       "40  ['M. Gorley', 'J. Anand', 'I. Weaver', 'A. Buc...  "
      ]
     },
     "execution_count": 26,
     "metadata": {},
     "output_type": "execute_result"
    }
   ],
   "source": [
    "paperDataset = pd.read_csv(\"PaperDataset.csv\")\n",
    "paper2009 = paperDataset.loc[paperDataset[\"year\"] == 2009.0]\n",
    "paper2009.head()\n"
   ]
  },
  {
   "cell_type": "code",
   "execution_count": 27,
   "metadata": {},
   "outputs": [
    {
     "data": {
      "image/png": "[encoded data removed]",
      "text/plain": [
       "<Figure size 640x480 with 1 Axes>"
      ]
     },
     "metadata": {},
     "output_type": "display_data"
    }
   ],
   "source": [
    "plt.hist(paper2009[\"Citation Count\"], bins=100)\n",
    "plt.show()"
   ]
  },
  {
   "cell_type": "code",
   "execution_count": 28,
   "metadata": {},
   "outputs": [
    {
     "data": {
      "image/png": "[encoded data removed]",
      "text/plain": [
       "<Figure size 640x480 with 1 Axes>"
      ]
     },
     "metadata": {},
     "output_type": "display_data"
    }
   ],
   "source": [
    "plt.hist(paperDataset[\"Citation Count\"], bins=100)\n",
    "plt.show()\n"
   ]
  },
  {
   "cell_type": "code",
   "execution_count": null,
   "metadata": {},
   "outputs": [],
   "source": []
  }
 ],
 "metadata": {
  "kernelspec": {
   "display_name": "Python 3.10.9 64-bit",
   "language": "python",
   "name": "python3"
  },
  "language_info": {
   "codemirror_mode": {
    "name": "ipython",
    "version": 3
   },
   "file_extension": ".py",
   "mimetype": "text/x-python",
   "name": "python",
   "nbconvert_exporter": "python",
   "pygments_lexer": "ipython3",
   "version": "3.10.9"
  },
  "orig_nbformat": 4,
  "vscode": {
   "interpreter": {
    "hash": "b0fa6594d8f4cbf19f97940f81e996739fb7646882a419484c72d19e05852a7e"
   }
  }
 },
 "nbformat": 4,
 "nbformat_minor": 2
}
