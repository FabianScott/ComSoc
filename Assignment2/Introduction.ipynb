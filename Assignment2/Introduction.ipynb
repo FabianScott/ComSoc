{
 "cells": [
  {
   "cell_type": "markdown",
   "source": [
    "The link to the full repository is:\n",
    "https: // github.com / FabianScott / ComSoc\n",
    "In the folder 'Assignment2'"
   ],
   "metadata": {
    "collapsed": false
   }
  },
  {
   "cell_type": "code",
   "execution_count": null,
   "outputs": [],
   "source": [
    "import pandas as pd\n",
    "\n",
    "# Contribution Table in proportions\n",
    "p1 = [0.5, 0.25, 0.25]\n",
    "p2 = [0.5, 0.25, 0.25]\n",
    "p3 = [0.25, 0.25, 0.5]\n",
    "p4 = [0.25, 0.5, 0.25]\n",
    "p5 = [0.25, 0.5, 0.25]\n",
    "pd.DataFrame([p1, p2, p3], columns=['Lucas', 'Alexander', 'Fabian'])"
   ],
   "metadata": {
    "collapsed": false
   }
  }
 ],
 "metadata": {
  "kernelspec": {
   "display_name": "Python 3",
   "language": "python",
   "name": "python3"
  },
  "language_info": {
   "codemirror_mode": {
    "name": "ipython",
    "version": 2
   },
   "file_extension": ".py",
   "mimetype": "text/x-python",
   "name": "python",
   "nbconvert_exporter": "python",
   "pygments_lexer": "ipython2",
   "version": "2.7.6"
  }
 },
 "nbformat": 4,
 "nbformat_minor": 0
}
