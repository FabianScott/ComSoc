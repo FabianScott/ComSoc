{
 "cells": [
  {
   "cell_type": "markdown",
   "metadata": {},
   "source": [
    "## Part 1: Mixing Patterns and Assortativity"
   ]
  },
  {
   "cell_type": "markdown",
   "metadata": {},
   "source": [
    "Let's dig in and try to understand more about the network of Computational Social Scientists using more advanced features. If your network has more than one component, just work on the giant connected component (GCC) in the exercises below. For the exercises below, you shall use the network you built in Week 4."
   ]
  },
  {
   "cell_type": "markdown",
   "metadata": {},
   "source": [
    "-----"
   ]
  },
  {
   "cell_type": "markdown",
   "metadata": {},
   "source": [
    "### Exercise 1:  Mixing Patterns and Assortativity."
   ]
  },
  {
   "cell_type": "markdown",
   "metadata": {},
   "source": [
    "##### Loading graph:"
   ]
  },
  {
   "cell_type": "code",
   "execution_count": 1,
   "metadata": {},
   "outputs": [],
   "source": [
    "import os\n",
    "import pickle\n",
    "import numpy as np\n",
    "import pandas as pd\n",
    "import networkx as nx\n",
    "import netwulf as nw\n",
    "from scipy import stats as st\n",
    "import matplotlib.pyplot as plt"
   ]
  },
  {
   "cell_type": "code",
   "execution_count": 2,
   "metadata": {},
   "outputs": [],
   "source": [
    "def load_graph():\n",
    "    stylized_network, config, G = nw.load(\"Graph.json\")\n",
    "    print(G)\n",
    "    with open('graphdata.pickle', 'rb') as file:\n",
    "        attribute_dict = pickle.load(file)\n",
    "    print(*[item for item in attribute_dict.items()][:3], sep='\\n')\n",
    "    nx.set_node_attributes(G, attribute_dict)\n",
    "    return G"
   ]
  },
  {
   "cell_type": "code",
   "execution_count": 3,
   "metadata": {},
   "outputs": [
    {
     "name": "stdout",
     "output_type": "stream",
     "text": [
      "Graph with 45188 nodes and 975763 edges\n",
      "(2122617020, {'_name_': 'Óscar Javier Galindo-caballero', 'top_field': ['Psychology'], 'median_citation_count': 0, 'paper_count': 0, 'first_paper_year': 'N/A'})\n",
      "(78568827, {'_name_': 'Antonio Pais', 'top_field': ['Medicine'], 'median_citation_count': 0, 'paper_count': 0, 'first_paper_year': 'N/A'})\n",
      "(2069946704, {'_name_': 'Nagarjuna Kumarappan', 'top_field': ['Psychology'], 'median_citation_count': 0, 'paper_count': 0, 'first_paper_year': 'N/A'})\n"
     ]
    }
   ],
   "source": [
    "G = load_graph()"
   ]
  },
  {
   "cell_type": "markdown",
   "metadata": {},
   "source": [
    "1. For each node, compute the fraction of edges that connect to a node that works in the same top field. Find the average value across all nodes."
   ]
  },
  {
   "cell_type": "code",
   "execution_count": 4,
   "metadata": {},
   "outputs": [
    {
     "name": "stdout",
     "output_type": "stream",
     "text": [
      "First 10 fractions:  [0.0, 0.0, 0.138, 0.182, 0.111, 0.176, 0.098, 0.333, 0.333, 0.0]\n",
      "Average fraction of edges connecting nodes in the same top field: 0.07804470168233815\n"
     ]
    }
   ],
   "source": [
    "types_of_top_fields = []\n",
    "\n",
    "def get_fractions(G, print_statements=False):\n",
    "    fraction_of_edges_to_same_top_field = []\n",
    "\n",
    "    for node in G.nodes:\n",
    "        nodes = 0\n",
    "        edges = 0\n",
    "        try: top_fields = G.nodes[node]['top_field']\n",
    "        except: continue\n",
    "        if top_fields is None:\n",
    "            continue\n",
    "        for top_field in top_fields:\n",
    "            if top_field not in types_of_top_fields:\n",
    "                types_of_top_fields.append(top_field)\n",
    "            for neighbor in G.neighbors(node):\n",
    "                if \"top_field\" in G.nodes[neighbor]:\n",
    "                    if G.nodes[neighbor]['top_field'] is None:\n",
    "                        pass\n",
    "                    elif top_field in G.nodes[neighbor]['top_field']:\n",
    "                        edges += 1\n",
    "                nodes += 1\n",
    "        fraction_of_edges_to_same_top_field.append(edges/nodes)\n",
    "\n",
    "    avg_fraction = sum(fraction_of_edges_to_same_top_field) / len(fraction_of_edges_to_same_top_field)\n",
    "    if print_statements:\n",
    "        print(\"First 10 fractions: \", [round(x, 3) for x in fraction_of_edges_to_same_top_field[:10]])\n",
    "        print('Average fraction of edges connecting nodes in the same top field:', avg_fraction)\n",
    "    return avg_fraction\n",
    "\n",
    "original_avg_fractions = get_fractions(G, print_statements=True)"
   ]
  },
  {
   "cell_type": "markdown",
   "metadata": {},
   "source": [
    "----\n",
    "2. Create a new graph, with the same nodes and edges, but where the association between nodes and field is shuffled. Compute the measure above for this randomized graph."
   ]
  },
  {
   "cell_type": "markdown",
   "metadata": {},
   "source": [
    "Our way of solving this exercise was to make a list of unique types of top fields. We then ran over every single node and randomized the types of top_fields, but keeping the numbers of top_fields the same as before."
   ]
  },
  {
   "cell_type": "code",
   "execution_count": 39,
   "metadata": {},
   "outputs": [
    {
     "data": {
      "text/plain": [
       "['Sociology',\n",
       " 'Political Science',\n",
       " 'Computer Science',\n",
       " 'Engineering',\n",
       " 'Physics',\n",
       " 'Mathematics',\n",
       " 'Medicine',\n",
       " 'Psychology',\n",
       " 'Environmental Science',\n",
       " 'Philosophy',\n",
       " 'Geography',\n",
       " 'Biology',\n",
       " 'Economics',\n",
       " 'History',\n",
       " 'Materials Science',\n",
       " 'Art',\n",
       " 'Business',\n",
       " 'Chemistry',\n",
       " 'Geology']"
      ]
     },
     "execution_count": 39,
     "metadata": {},
     "output_type": "execute_result"
    }
   ],
   "source": [
    "types_of_top_fields"
   ]
  },
  {
   "cell_type": "code",
   "execution_count": 40,
   "metadata": {},
   "outputs": [],
   "source": [
    "import random\n",
    "\n",
    "G_copy = G.copy()\n",
    "node_list = list(G_copy.nodes())"
   ]
  },
  {
   "cell_type": "code",
   "execution_count": 42,
   "metadata": {},
   "outputs": [
    {
     "name": "stdout",
     "output_type": "stream",
     "text": [
      "First 10 fractions:  [0.0, 0.0, 0.0, 0.0, 0.0, 0.0, 0.024, 0.0, 0.0, 0.0]\n",
      "Average fraction of edges connecting nodes in the same top field: 0.010137278760206899\n"
     ]
    },
    {
     "data": {
      "text/plain": [
       "0.010137278760206899"
      ]
     },
     "execution_count": 42,
     "metadata": {},
     "output_type": "execute_result"
    }
   ],
   "source": [
    "attribute_dict = {}\n",
    "for node in G_copy.nodes():\n",
    "    try: top_fields = G.nodes[node]['top_field']\n",
    "    except: attribute_dict[node] = {\"top_field\": None}; continue\n",
    "    if top_fields is None:\n",
    "        attribute_dict[node] = {\"top_field\": None}\n",
    "    else:\n",
    "        attribute_dict[node] = {\"top_field\": random.sample(types_of_top_fields, k=len(top_fields))}\n",
    "\n",
    "nx.set_node_attributes(G_copy, attribute_dict)\n",
    "get_fractions(G_copy, print_statements=True)"
   ]
  },
  {
   "cell_type": "markdown",
   "metadata": {},
   "source": [
    "This gives a much lower average fraction which is also expected as the connection between the nodes have been randomized"
   ]
  },
  {
   "cell_type": "markdown",
   "metadata": {},
   "source": [
    "----\n",
    "3. Repeat the point above 100 times (at least). Plot the distribution of the values obtained and compare it with the value you have found for the real graph. Is the chance to connect to a member of the same field significantly higher than it would be by chance?"
   ]
  },
  {
   "cell_type": "markdown",
   "metadata": {},
   "source": [
    "We implement the scipt in 2. in a func"
   ]
  },
  {
   "cell_type": "code",
   "execution_count": 55,
   "metadata": {},
   "outputs": [],
   "source": [
    "from tqdm import tqdm\n",
    "\n",
    "def randomize_top_fields(number_of_times):\n",
    "    values = []\n",
    "    for i in tqdm(range(number_of_times)):\n",
    "        G_copy = G.copy()\n",
    "        node_list = list(G_copy.nodes())\n",
    "        attribute_dict = {}\n",
    "        for node in G_copy.nodes():\n",
    "            try: top_fields = G.nodes[node]['top_field']\n",
    "            except: attribute_dict[node] = {\"top_field\": None}; continue\n",
    "            if top_fields is None:\n",
    "                attribute_dict[node] = {\"top_field\": None}\n",
    "            else:\n",
    "                attribute_dict[node] = {\"top_field\": random.sample(types_of_top_fields, k=len(top_fields))}\n",
    "        nx.set_node_attributes(G_copy, attribute_dict)\n",
    "        values.append(get_fractions(G_copy))\n",
    "    return values\n",
    "\n",
    "def plot_distribution(fractions):\n",
    "    plt.hist(fractions, bins=20, alpha=0.5, density=True)\n",
    "    plt.axvline(x=original_avg_fractions, color='r')\n",
    "\n",
    "    plt.xlabel('Fractions')\n",
    "    plt.ylabel('Density')\n",
    "    plt.title('Distribution of fractions of edges connecting nodes in the same top field in a randomized setting')\n",
    "    plt.show()"
   ]
  },
  {
   "cell_type": "code",
   "execution_count": 53,
   "metadata": {},
   "outputs": [
    {
     "name": "stderr",
     "output_type": "stream",
     "text": [
      "100%|██████████| 100/100 [03:57<00:00,  2.38s/it]\n"
     ]
    }
   ],
   "source": [
    "fractions = randomize_top_fields(100)"
   ]
  },
  {
   "cell_type": "code",
   "execution_count": 56,
   "metadata": {},
   "outputs": [
    {
     "data": {
      "image/png": "[encoded data removed]",
      "text/plain": [
       "<Figure size 640x480 with 1 Axes>"
      ]
     },
     "metadata": {},
     "output_type": "display_data"
    }
   ],
   "source": [
    "plot_distribution(fractions)"
   ]
  },
  {
   "cell_type": "markdown",
   "metadata": {},
   "source": [
    "Where the red line is the average fraction in our graph G"
   ]
  },
  {
   "cell_type": "code",
   "execution_count": 61,
   "metadata": {},
   "outputs": [
    {
     "name": "stdout",
     "output_type": "stream",
     "text": [
      "For randomized settings:\n",
      "mean:  0.010106881218046725\n",
      "std:  0.0005725089237009744\n",
      "\n",
      "\n",
      "original average fraction:  0.07804470168233815\n",
      "Value is significantly different\n"
     ]
    }
   ],
   "source": [
    "mean = np.mean(fractions)\n",
    "std = np.std(fractions)\n",
    "\n",
    "print(\"For randomized settings:\")\n",
    "print(\"mean: \", mean)\n",
    "print(\"std: \", std)\n",
    "print(\"\\n\")\n",
    "\n",
    "print(\"original average fraction: \", original_avg_fractions)\n",
    "if original_avg_fractions < mean-2*std or original_avg_fractions > mean+2*std:\n",
    "    print(\"Value is significantly different\")\n",
    "else: \n",
    "    print(\"Value is not significantly different\")"
   ]
  },
  {
   "cell_type": "markdown",
   "metadata": {},
   "source": [
    "Thereby we can conclude that the chance to connect to a member of the same field is significantly higher than it would be by chance"
   ]
  },
  {
   "cell_type": "markdown",
   "metadata": {},
   "source": [
    "----\n",
    "4. Compute the assortativity coefficient with respect to author's field. How do you interpret the value you obtain? (Hint: See this paper, eq (2)). Important: here I do not want you to use the NetworkX implementation, but rather to implement your own version of the measure."
   ]
  },
  {
   "cell_type": "markdown",
   "metadata": {},
   "source": [
    "Our own implementation:"
   ]
  },
  {
   "cell_type": "code",
   "execution_count": 20,
   "metadata": {},
   "outputs": [],
   "source": [
    "def assortativity_coefficient(G):\n",
    "    degrees = dict(G.degree())\n",
    "    sum_degrees = sum([deg for node, deg in degrees.items()])\n",
    "    sum_top_fields = 0\n",
    "\n",
    "    for u, v in G.edges():\n",
    "        try: top_field1 = G.nodes[u]['top_field']; top_field2 = G.nodes[v]['top_field']\n",
    "        except: continue\n",
    "        if top_field1 is None or top_field2 is None:\n",
    "            continue\n",
    "        sum_top_fields += (sum([1 if x == y else 0 for x, y in zip(top_field1, top_field2)])/len([1 if x == y else 0 for x, y in zip(top_field1, top_field2)]))\n",
    "        \n",
    "    r = (sum_top_fields - sum_degrees) / (1 - sum_degrees)\n",
    "    return r"
   ]
  },
  {
   "cell_type": "code",
   "execution_count": 21,
   "metadata": {},
   "outputs": [],
   "source": [
    "def assortativity_coefficient_alternative(G):\n",
    "    degrees = dict(G.degree())\n",
    "    sum_degrees = sum([deg for node, deg in degrees.items()])\n",
    "    sum_degrees_sq = sum_degrees ** 2\n",
    "    sum_sq_degrees = sum([deg**2 for node, deg in degrees.items()])\n",
    "    sum_top_fields = 0\n",
    "\n",
    "    for u, v in G.edges():\n",
    "        try: top_field1 = G.nodes[u]['top_field']; top_field2 = G.nodes[v]['top_field']\n",
    "        except: continue\n",
    "        if top_field1 is None or top_field2 is None:\n",
    "            continue\n",
    "        sum_top_fields += sum([1 if x == y else 0 for x, y in zip(top_field1, top_field2)])\n",
    "        \n",
    "    r = (sum_top_fields * sum_degrees - sum_degrees_sq) / (sum_sq_degrees - sum_degrees_sq)\n",
    "    return r"
   ]
  },
  {
   "cell_type": "code",
   "execution_count": 22,
   "metadata": {},
   "outputs": [
    {
     "data": {
      "text/plain": [
       "(0.9909350379831158, 0.9908555414023319)"
      ]
     },
     "execution_count": 22,
     "metadata": {},
     "output_type": "execute_result"
    }
   ],
   "source": [
    "assortativity_coefficient(G), assortativity_coefficient_alternative(G)"
   ]
  },
  {
   "cell_type": "markdown",
   "metadata": {},
   "source": [
    "We get an extremely high in both of our implementations. We tried to make another alternative as we found that the first implement was very high, but the second implementation (which is very much alike, but uses another formula) seems to be just as high. This convinces us that the assortative mixing is near perfect when it comes to top_fields. This means that the individuals in the graph has a extremely high tendency to form connections with others who are similar to themselves. "
   ]
  },
  {
   "cell_type": "markdown",
   "metadata": {},
   "source": [
    "----\n",
    "5. Is the graph assortative with respect to the degree? (e.g. do high-degree scientists tend to link to other high-degree scientists, and low-degree scientists to other low-degree scientists?). Provide an interpretation of your answer."
   ]
  },
  {
   "cell_type": "markdown",
   "metadata": {},
   "source": [
    "To compute this we can simply use networkx implementation, which should work completely fine for this problem:"
   ]
  },
  {
   "cell_type": "code",
   "execution_count": 8,
   "metadata": {},
   "outputs": [
    {
     "name": "stdout",
     "output_type": "stream",
     "text": [
      "Assortativity coefficient r = 0.575\n"
     ]
    }
   ],
   "source": [
    "r = nx.degree_assortativity_coefficient(G)\n",
    "print(f\"Assortativity coefficient r = {r:.3f}\")"
   ]
  },
  {
   "cell_type": "markdown",
   "metadata": {},
   "source": [
    "As we were unsure if our own function was needed we also created this:"
   ]
  },
  {
   "cell_type": "code",
   "execution_count": 23,
   "metadata": {},
   "outputs": [
    {
     "name": "stdout",
     "output_type": "stream",
     "text": [
      "Number of equal degrees: 13099\n",
      "Number of not equal degrees: 975763\n",
      "Assortativity coefficient r = 0.566\n"
     ]
    }
   ],
   "source": [
    "def degree_assortativity_coefficient(G):\n",
    "    degrees = dict(G.degree())\n",
    "    sum_degrees = sum([a*b for a,b in zip(degrees.values(), degrees.values())])\n",
    "    equal_degree, not_equal_degree = 0, 0\n",
    "    degree_assortativity = 0\n",
    "    for u, v in G.edges():\n",
    "        if degrees[u] == degrees[v]:\n",
    "            equal_degree += 1\n",
    "            degree_assortativity += degrees[u] * degrees[v]\n",
    "        not_equal_degree += 1\n",
    "\n",
    "    r = (degree_assortativity - sum_degrees) / (1 - sum_degrees)\n",
    "    print(f\"Number of equal degrees: {equal_degree}\")\n",
    "    print(f\"Number of not equal degrees: {not_equal_degree}\")\n",
    "    return r\n",
    "\n",
    "print(f\"Assortativity coefficient r = {degree_assortativity_coefficient(G):.3f}\")"
   ]
  },
  {
   "cell_type": "markdown",
   "metadata": {},
   "source": [
    "We can see that our implementation gives nearly the same value as networkx' implementation. This could be due to them using another formula and to the fact that this value has some small error around it."
   ]
  },
  {
   "cell_type": "markdown",
   "metadata": {},
   "source": [
    "A value of .566 shows that the graph assortative with respect to the degree is decently high, although not as high as top_fields. High degree scientist often link to other high degree scientist, but there is also a bunch of connections between high degree and low degree scientists, or at least where the degree is different. The value shows that this assortative is stronger than a completely random/useless assortative which would have a value of around 0. (or actually closer to .1 as we saw in above in the randomized settings)."
   ]
  },
  {
   "cell_type": "markdown",
   "metadata": {},
   "source": [
    "----"
   ]
  },
  {
   "cell_type": "markdown",
   "metadata": {},
   "source": []
  }
 ],
 "metadata": {
  "kernelspec": {
   "display_name": "Python 3.11.2 64-bit",
   "language": "python",
   "name": "python3"
  },
  "language_info": {
   "codemirror_mode": {
    "name": "ipython",
    "version": 3
   },
   "file_extension": ".py",
   "mimetype": "text/x-python",
   "name": "python",
   "nbconvert_exporter": "python",
   "pygments_lexer": "ipython3",
   "version": "3.11.2"
  },
  "orig_nbformat": 4,
  "vscode": {
   "interpreter": {
    "hash": "b0fa6594d8f4cbf19f97940f81e996739fb7646882a419484c72d19e05852a7e"
   }
  }
 },
 "nbformat": 4,
 "nbformat_minor": 2
}
