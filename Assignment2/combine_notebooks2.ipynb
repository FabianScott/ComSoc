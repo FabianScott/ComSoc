{
 "cells": [
  {
   "cell_type": "code",
   "execution_count": 1,
   "outputs": [],
   "source": [
    "import os\n",
    "import nbformat"
   ],
   "metadata": {
    "collapsed": false
   }
  },
  {
   "cell_type": "code",
   "execution_count": 4,
   "outputs": [],
   "source": [
    "names = ['Introduction.ipynb'] + [f'Exercise{i}.ipynb' for i in range(1,5)]\n",
    "notebooks = [nbformat.read(os.path.join(os.getcwd(), name), 4) for name in names]"
   ],
   "metadata": {
    "collapsed": false
   }
  },
  {
   "cell_type": "code",
   "execution_count": 6,
   "outputs": [
    {
     "name": "stderr",
     "output_type": "stream",
     "text": [
      "C:\\Users\\toell\\AppData\\Local\\Programs\\Python\\Python310\\lib\\site-packages\\nbformat\\__init__.py:128: MissingIDFieldWarning: Code cell is missing an id field, this will become a hard error in future nbformat versions. You may want to use `normalize()` on your notebooks before validations (available since nbformat 5.1.4). Previous versions of nbformat are fixing this issue transparently, and will stop doing so in the future.\n",
      "  validate(nb)\n",
      "C:\\Users\\toell\\AppData\\Local\\Programs\\Python\\Python310\\lib\\site-packages\\nbformat\\__init__.py:128: DuplicateCellId: Non-unique cell id 'e86f043b' detected. Corrected to '6165a3ab'.\n",
      "  validate(nb)\n",
      "C:\\Users\\toell\\AppData\\Local\\Programs\\Python\\Python310\\lib\\site-packages\\nbformat\\__init__.py:128: DuplicateCellId: Non-unique cell id 'b1c733b7' detected. Corrected to '3e3370ae'.\n",
      "  validate(nb)\n"
     ]
    }
   ],
   "source": [
    "final_notebook = nbformat.v4.new_notebook(metadata=notebooks[0].metadata)\n",
    "final_notebook.cells = notebooks[0].cells\n",
    "for notebook in notebooks:\n",
    "    final_notebook.cells += notebook.cells\n",
    "nbformat.write(final_notebook, 'Assignment2.ipynb')"
   ],
   "metadata": {
    "collapsed": false
   }
  },
  {
   "cell_type": "code",
   "execution_count": null,
   "outputs": [],
   "source": [],
   "metadata": {
    "collapsed": false
   }
  }
 ],
 "metadata": {
  "kernelspec": {
   "display_name": "Python 3",
   "language": "python",
   "name": "python3"
  },
  "language_info": {
   "codemirror_mode": {
    "name": "ipython",
    "version": 2
   },
   "file_extension": ".py",
   "mimetype": "text/x-python",
   "name": "python",
   "nbconvert_exporter": "python",
   "pygments_lexer": "ipython2",
   "version": "2.7.6"
  }
 },
 "nbformat": 4,
 "nbformat_minor": 0
}
