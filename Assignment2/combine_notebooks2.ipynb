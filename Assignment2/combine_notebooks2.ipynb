{
 "cells": [
  {
   "cell_type": "code",
   "execution_count": 1,
   "metadata": {
    "collapsed": false
   },
   "outputs": [],
   "source": [
    "import os\n",
    "import nbformat"
   ]
  },
  {
   "cell_type": "code",
   "execution_count": 4,
   "metadata": {
    "collapsed": false
   },
   "outputs": [],
   "source": [
    "names = ['Introduction.ipynb'] + [f'Exercise{i}.ipynb' for i in range(1,6)]\n",
    "notebooks = [nbformat.read(os.path.join(os.getcwd(), name), 4) for name in names]"
   ]
  },
  {
   "cell_type": "code",
   "execution_count": 5,
   "metadata": {
    "collapsed": false
   },
   "outputs": [
    {
     "name": "stderr",
     "output_type": "stream",
     "text": [
      "c:\\Python39\\lib\\site-packages\\nbformat\\__init__.py:129: DuplicateCellId: Non-unique cell id 'f3bebcf5' detected. Corrected to '7903194d'.\n",
      "  validate(nb)\n",
      "c:\\Python39\\lib\\site-packages\\nbformat\\__init__.py:129: DuplicateCellId: Non-unique cell id '20e7a6a4' detected. Corrected to 'bcad156b'.\n",
      "  validate(nb)\n"
     ]
    }
   ],
   "source": [
    "final_notebook = nbformat.v4.new_notebook(metadata=notebooks[0].metadata)\n",
    "final_notebook.cells = notebooks[0].cells\n",
    "for notebook in notebooks:\n",
    "    final_notebook.cells += notebook.cells\n",
    "nbformat.write(final_notebook, 'Assignment2.ipynb')"
   ]
  },
  {
   "cell_type": "code",
   "execution_count": null,
   "metadata": {
    "collapsed": false
   },
   "outputs": [],
   "source": []
  }
 ],
 "metadata": {
  "kernelspec": {
   "display_name": "Python 3",
   "language": "python",
   "name": "python3"
  },
  "language_info": {
   "codemirror_mode": {
    "name": "ipython",
    "version": 3
   },
   "file_extension": ".py",
   "mimetype": "text/x-python",
   "name": "python",
   "nbconvert_exporter": "python",
   "pygments_lexer": "ipython3",
   "version": "3.9.0"
  }
 },
 "nbformat": 4,
 "nbformat_minor": 0
}
