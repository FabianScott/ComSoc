{
 "cells": [
  {
   "cell_type": "code",
   "execution_count": 5,
   "metadata": {},
   "outputs": [
    {
     "name": "stderr",
     "output_type": "stream",
     "text": [
      "/var/folders/pl/7f1cr2657p3bnpdt3bnm_9w00000gn/T/ipykernel_2116/3044418545.py:1: DtypeWarning: Columns (0,1,2,3) have mixed types. Specify dtype option on import or set low_memory=False.\n",
      "  paper_abstracts = pd.read_csv(\"paper_abstract_dataset_with_tokens.csv\")\n"
     ]
    }
   ],
   "source": [
    "import pandas as pd\n",
    "paper_abstracts = pd.read_csv(\"paper_abstract_dataset_with_tokens.csv\")"
   ]
  },
  {
   "cell_type": "code",
   "execution_count": 9,
   "metadata": {},
   "outputs": [],
   "source": [
    "from nltk import *\n",
    "bigrams_list = [list(bigrams(row)) for row in paper_abstracts[\"Tokens\"]]"
   ]
  },
  {
   "cell_type": "code",
   "execution_count": 31,
   "metadata": {},
   "outputs": [
    {
     "name": "stdout",
     "output_type": "stream",
     "text": [
      "0\n"
     ]
    }
   ],
   "source": [
    "import numpy as np\n",
    "import scipy\n",
    "import pickle\n",
    "p_values = []\n",
    "for i, bigrams in enumerate(bigrams_list):\n",
    "    len_bigrams = len(bigrams)\n",
    "    bigrams1 = np.array([bg[0] for bg in bigrams])\n",
    "    bigrams2 = np.array([bg[1] for bg in bigrams])\n",
    "    for bigram in bigrams:\n",
    "        first_value_true = bigram[0] == bigrams1\n",
    "        second_value_true = bigram[1] == bigrams2\n",
    "        contingency_table = np.empty((2,2))\n",
    "        contingency_table[0,0] = np.sum(np.logical_and(first_value_true, second_value_true))\n",
    "        contingency_table[1,0] = np.sum(np.logical_and(first_value_true, np.logical_not(second_value_true)))\n",
    "        contingency_table[0,1] = np.sum(np.logical_and(np.logical_not(first_value_true), second_value_true))\n",
    "        contingency_table[1,1] = np.sum(np.logical_and(np.logical_not(first_value_true), np.logical_not(second_value_true)))\n",
    "        p_value = scipy.stats.chi2_contingency(contingency_table)\n",
    "        p_values.append([i, bigram, p_value[1], len_bigrams])\n",
    "    if i % 10000 == 0:\n",
    "        print(i)\n",
    "        with open('p_values.pickle', 'wb') as handle:\n",
    "            pickle.dump(p_value, handle, protocol=pickle.HIGHEST_PROTOCOL)"
   ]
  },
  {
   "cell_type": "code",
   "execution_count": null,
   "metadata": {},
   "outputs": [],
   "source": [
    "with open('p_values.pickle', 'wb') as handle:\n",
    "    pickle.dump(p_value, handle, protocol=pickle.HIGHEST_PROTOCOL)"
   ]
  }
 ],
 "metadata": {
  "kernelspec": {
   "display_name": "Python 3.10.9 64-bit",
   "language": "python",
   "name": "python3"
  },
  "language_info": {
   "codemirror_mode": {
    "name": "ipython",
    "version": 3
   },
   "file_extension": ".py",
   "mimetype": "text/x-python",
   "name": "python",
   "nbconvert_exporter": "python",
   "pygments_lexer": "ipython3",
   "version": "3.10.9"
  },
  "orig_nbformat": 4,
  "vscode": {
   "interpreter": {
    "hash": "b0fa6594d8f4cbf19f97940f81e996739fb7646882a419484c72d19e05852a7e"
   }
  }
 },
 "nbformat": 4,
 "nbformat_minor": 2
}
