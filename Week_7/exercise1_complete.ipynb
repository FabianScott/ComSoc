{
 "cells": [
  {
   "cell_type": "code",
   "execution_count": 1,
   "metadata": {},
   "outputs": [
    {
     "name": "stderr",
     "output_type": "stream",
     "text": [
      "C:\\Users\\toell\\AppData\\Local\\Temp\\ipykernel_43328\\820860027.py:2: DtypeWarning: Columns (0,1,2,3) have mixed types. Specify dtype option on import or set low_memory=False.\n",
      "  paper_abstracts = pd.read_csv(\"paper_abstract_dataset_with_tokens.csv\")\n"
     ]
    }
   ],
   "source": [
    "import pandas as pd\n",
    "paper_abstracts = pd.read_csv(\"paper_abstract_dataset_with_tokens.csv\")"
   ]
  },
  {
   "cell_type": "code",
   "execution_count": 4,
   "metadata": {},
   "outputs": [
    {
     "ename": "KeyboardInterrupt",
     "evalue": "",
     "output_type": "error",
     "traceback": [
      "\u001B[1;31m---------------------------------------------------------------------------\u001B[0m",
      "\u001B[1;31mKeyboardInterrupt\u001B[0m                         Traceback (most recent call last)",
      "Cell \u001B[1;32mIn [4], line 2\u001B[0m\n\u001B[0;32m      1\u001B[0m \u001B[38;5;28;01mfrom\u001B[39;00m \u001B[38;5;21;01mnltk\u001B[39;00m \u001B[38;5;28;01mimport\u001B[39;00m \u001B[38;5;241m*\u001B[39m\n\u001B[1;32m----> 2\u001B[0m bigrams_list \u001B[38;5;241m=\u001B[39m [\u001B[38;5;28mlist\u001B[39m(bigrams(row)) \u001B[38;5;28;01mif\u001B[39;00m \u001B[38;5;28mtype\u001B[39m(row) \u001B[38;5;129;01mis\u001B[39;00m \u001B[38;5;129;01mnot\u001B[39;00m \u001B[38;5;28mfloat\u001B[39m \u001B[38;5;28;01melse\u001B[39;00m \u001B[38;5;28;01mNone\u001B[39;00m \u001B[38;5;28;01mfor\u001B[39;00m row \u001B[38;5;129;01min\u001B[39;00m paper_abstracts[\u001B[38;5;124m\"\u001B[39m\u001B[38;5;124mTokens\u001B[39m\u001B[38;5;124m\"\u001B[39m]]\n\u001B[0;32m      3\u001B[0m bigrams_list \u001B[38;5;241m=\u001B[39m [lst \u001B[38;5;28;01mfor\u001B[39;00m lst \u001B[38;5;129;01min\u001B[39;00m bigrams_list \u001B[38;5;28;01mif\u001B[39;00m lst \u001B[38;5;129;01mis\u001B[39;00m \u001B[38;5;129;01mnot\u001B[39;00m \u001B[38;5;28;01mNone\u001B[39;00m]\n",
      "Cell \u001B[1;32mIn [4], line 2\u001B[0m, in \u001B[0;36m<listcomp>\u001B[1;34m(.0)\u001B[0m\n\u001B[0;32m      1\u001B[0m \u001B[38;5;28;01mfrom\u001B[39;00m \u001B[38;5;21;01mnltk\u001B[39;00m \u001B[38;5;28;01mimport\u001B[39;00m \u001B[38;5;241m*\u001B[39m\n\u001B[1;32m----> 2\u001B[0m bigrams_list \u001B[38;5;241m=\u001B[39m [\u001B[38;5;28mlist\u001B[39m(bigrams(row)) \u001B[38;5;28;01mif\u001B[39;00m \u001B[38;5;28mtype\u001B[39m(row) \u001B[38;5;129;01mis\u001B[39;00m \u001B[38;5;129;01mnot\u001B[39;00m \u001B[38;5;28mfloat\u001B[39m \u001B[38;5;28;01melse\u001B[39;00m \u001B[38;5;28;01mNone\u001B[39;00m \u001B[38;5;28;01mfor\u001B[39;00m row \u001B[38;5;129;01min\u001B[39;00m paper_abstracts[\u001B[38;5;124m\"\u001B[39m\u001B[38;5;124mTokens\u001B[39m\u001B[38;5;124m\"\u001B[39m]]\n\u001B[0;32m      3\u001B[0m bigrams_list \u001B[38;5;241m=\u001B[39m [lst \u001B[38;5;28;01mfor\u001B[39;00m lst \u001B[38;5;129;01min\u001B[39;00m bigrams_list \u001B[38;5;28;01mif\u001B[39;00m lst \u001B[38;5;129;01mis\u001B[39;00m \u001B[38;5;129;01mnot\u001B[39;00m \u001B[38;5;28;01mNone\u001B[39;00m]\n",
      "\u001B[1;31mKeyboardInterrupt\u001B[0m: "
     ]
    }
   ],
   "source": [
    "from nltk import *\n",
    "bigrams_list = [list(bigrams(row)) if type(row) is not float else None for row in paper_abstracts[\"Tokens\"]]\n",
    "bigrams_list = [lst for lst in bigrams_list if lst is not None]"
   ]
  },
  {
   "cell_type": "code",
   "execution_count": 31,
   "metadata": {},
   "outputs": [
    {
     "name": "stdout",
     "output_type": "stream",
     "text": [
      "0\n"
     ]
    }
   ],
   "source": [
    "import numpy as np\n",
    "import scipy\n",
    "import pickle\n",
    "p_values = []\n",
    "for i, bigrams in enumerate(bigrams_list):\n",
    "    len_bigrams = len(bigrams)\n",
    "    bigrams1 = np.array([bg[0] for bg in bigrams])\n",
    "    bigrams2 = np.array([bg[1] for bg in bigrams])\n",
    "    for bigram in bigrams:\n",
    "        first_value_true = bigram[0] == bigrams1\n",
    "        second_value_true = bigram[1] == bigrams2\n",
    "        contingency_table = np.empty((2,2))\n",
    "        contingency_table[0,0] = np.sum(np.logical_and(first_value_true, second_value_true))\n",
    "        contingency_table[1,0] = np.sum(np.logical_and(first_value_true, np.logical_not(second_value_true)))\n",
    "        contingency_table[0,1] = np.sum(np.logical_and(np.logical_not(first_value_true), second_value_true))\n",
    "        contingency_table[1,1] = np.sum(np.logical_and(np.logical_not(first_value_true), np.logical_not(second_value_true)))\n",
    "        p_value = scipy.stats.chi2_contingency(contingency_table)\n",
    "        p_values.append([i, bigram, p_value[1], len_bigrams])\n",
    "    if i % 10000 == 0:\n",
    "        print(i)\n",
    "        with open('p_values.pickle', 'wb') as handle:\n",
    "            pickle.dump(p_value, handle, protocol=pickle.HIGHEST_PROTOCOL)"
   ]
  },
  {
   "cell_type": "code",
   "execution_count": null,
   "metadata": {},
   "outputs": [],
   "source": [
    "with open('p_values.pickle', 'wb') as handle:\n",
    "    pickle.dump(p_value, handle, protocol=pickle.HIGHEST_PROTOCOL)"
   ]
  }
 ],
 "metadata": {
  "kernelspec": {
   "display_name": "Python 3.10.9 64-bit",
   "language": "python",
   "name": "python3"
  },
  "language_info": {
   "codemirror_mode": {
    "name": "ipython",
    "version": 3
   },
   "file_extension": ".py",
   "mimetype": "text/x-python",
   "name": "python",
   "nbconvert_exporter": "python",
   "pygments_lexer": "ipython3",
   "version": "3.10.9"
  },
  "orig_nbformat": 4,
  "vscode": {
   "interpreter": {
    "hash": "b0fa6594d8f4cbf19f97940f81e996739fb7646882a419484c72d19e05852a7e"
   }
  }
 },
 "nbformat": 4,
 "nbformat_minor": 2
}
