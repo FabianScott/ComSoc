{
 "cells": [
  {
   "cell_type": "code",
   "execution_count": null,
   "metadata": {
    "collapsed": true,
    "pycharm": {
     "is_executing": true
    }
   },
   "outputs": [],
   "source": [
    "import nltk\n",
    "import numpy as np\n",
    "import matplotlib.pyplot as plt\n",
    "from collections import defaultdict"
   ]
  },
  {
   "cell_type": "code",
   "execution_count": null,
   "outputs": [],
   "source": [
    "# nltk.download('all')"
   ],
   "metadata": {
    "collapsed": false,
    "pycharm": {
     "is_executing": true
    }
   }
  },
  {
   "cell_type": "code",
   "execution_count": null,
   "outputs": [],
   "source": [
    "from nltk.book import *"
   ],
   "metadata": {
    "collapsed": false,
    "pycharm": {
     "is_executing": true
    }
   }
  },
  {
   "cell_type": "code",
   "execution_count": null,
   "outputs": [],
   "source": [
    "text1.concordance('mum')"
   ],
   "metadata": {
    "collapsed": false,
    "pycharm": {
     "is_executing": true
    }
   }
  },
  {
   "cell_type": "code",
   "execution_count": null,
   "outputs": [],
   "source": [
    "text1.similar('mum')"
   ],
   "metadata": {
    "collapsed": false,
    "pycharm": {
     "is_executing": true
    }
   }
  },
  {
   "cell_type": "markdown",
   "source": [
    "Lexical diversity is the ratio between the number of unique words and the number of words in a text. This indicates how many different words are used in a text, as the closer to one the value comes the more different words are used. This text, for example has a lexical diversity of 0.63:"
   ],
   "metadata": {
    "collapsed": false
   }
  },
  {
   "cell_type": "code",
   "execution_count": null,
   "outputs": [],
   "source": [
    "def lexical_diversity(inp):\n",
    "    inp = inp.lower().split(' ')\n",
    "    return round(len(set(inp))/len(inp), 3)\n",
    "s = 'Lexical diversity is the ratio between the number of unique words and the number of words in a text. This indicates how many different words are used in a text, as the closer to one the value comes the more different words are used. This text, for example has a lexical diversity of 0.63'\n",
    "lexical_diversity(s)"
   ],
   "metadata": {
    "collapsed": false,
    "pycharm": {
     "is_executing": true
    }
   }
  },
  {
   "cell_type": "code",
   "execution_count": null,
   "outputs": [],
   "source": [
    "fdist = FreqDist(text2)\n",
    "words, frequencies = [], []\n",
    "while len(words) < 75:\n",
    "    for word, frequency in fdist.most_common():\n",
    "        if word not in ',.?+!-:;<>/*':\n",
    "            words.append(word)\n",
    "            frequencies.append(frequency)\n",
    "plt.plot(words, np.cumsum(frequencies))\n",
    "plt.show()"
   ],
   "metadata": {
    "collapsed": false,
    "pycharm": {
     "is_executing": true
    }
   }
  },
  {
   "cell_type": "code",
   "execution_count": null,
   "outputs": [],
   "source": [
    "tokens = s.split()\n",
    "\n",
    "text_Zipfs = nltk.text.Text(tokens)"
   ],
   "metadata": {
    "collapsed": false,
    "pycharm": {
     "is_executing": true
    }
   }
  },
  {
   "cell_type": "code",
   "execution_count": null,
   "outputs": [],
   "source": [
    "text_Zipfs.dispersion_plot(tokens)"
   ],
   "metadata": {
    "collapsed": false,
    "pycharm": {
     "is_executing": true
    }
   }
  },
  {
   "cell_type": "code",
   "execution_count": null,
   "outputs": [],
   "source": [
    "def plot_tokens(tokens, n, title='', xlabel='Rank (log scale)', ylabel='Frequency (log scale)'):\n",
    "    text_Zipfs = nltk.text.Text(tokens)\n",
    "    fdist = FreqDist(text_Zipfs)\n",
    "    frequencies = []\n",
    "    for _, frequency in fdist.most_common(n):\n",
    "        # if len(frequencies) % int(n/10) == 0:\n",
    "        #     print(f'{round(len(frequencies) / n, 2)} of the way there')\n",
    "        frequencies.append(frequency)\n",
    "    rank =  np.arange(0, len(frequencies), 1)\n",
    "    plt.plot(rank, frequencies)\n",
    "    plt.yscale('log')\n",
    "    plt.xscale('log')\n",
    "    plt.title(f'Log Log plot of {title}')\n",
    "    plt.xlabel(xlabel)\n",
    "    plt.ylabel(ylabel)\n",
    "    plt.show()\n",
    "\n",
    "import random\n",
    "text_random = ''\n",
    "for _ in range(2_000_000):\n",
    "    text_random += random.choice(\"abcdef \")\n",
    "print('Done random')\n",
    "tokens_random = text_random.split()\n",
    "plot_tokens(tokens_random, 100000, title='Random')"
   ],
   "metadata": {
    "collapsed": false,
    "pycharm": {
     "is_executing": true
    }
   }
  },
  {
   "cell_type": "code",
   "execution_count": null,
   "outputs": [],
   "source": [
    "freqdist = nltk.FreqDist(nltk.bigrams(s))"
   ],
   "metadata": {
    "collapsed": false,
    "pycharm": {
     "is_executing": true
    }
   }
  },
  {
   "cell_type": "code",
   "execution_count": null,
   "outputs": [],
   "source": [
    "freqdist[s[0]]"
   ],
   "metadata": {
    "collapsed": false,
    "pycharm": {
     "is_executing": true
    }
   }
  },
  {
   "cell_type": "code",
   "execution_count": null,
   "outputs": [],
   "source": [],
   "metadata": {
    "collapsed": false,
    "pycharm": {
     "is_executing": true
    }
   }
  }
 ],
 "metadata": {
  "kernelspec": {
   "display_name": "Python 3",
   "language": "python",
   "name": "python3"
  },
  "language_info": {
   "codemirror_mode": {
    "name": "ipython",
    "version": 2
   },
   "file_extension": ".py",
   "mimetype": "text/x-python",
   "name": "python",
   "nbconvert_exporter": "python",
   "pygments_lexer": "ipython2",
   "version": "2.7.6"
  }
 },
 "nbformat": 4,
 "nbformat_minor": 0
}
