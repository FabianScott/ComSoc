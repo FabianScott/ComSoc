{
 "cells": [
  {
   "cell_type": "code",
   "execution_count": 1,
   "outputs": [],
   "source": [
    "import requests\n",
    "from tqdm import tqdm"
   ],
   "metadata": {
    "collapsed": false
   }
  },
  {
   "cell_type": "code",
   "execution_count": 2,
   "outputs": [],
   "source": [
    "BASE_URL = \"https://starwars.fandom.com/api.php\"\n",
    "\n",
    "names = []\n",
    "with open('Character_names.txt', 'r') as file:\n",
    "    for name in file.readlines():\n",
    "        # Ignore '\\n'\n",
    "        names.append(name[:-1])"
   ],
   "metadata": {
    "collapsed": false
   }
  },
  {
   "cell_type": "code",
   "execution_count": 3,
   "outputs": [
    {
     "name": "stderr",
     "output_type": "stream",
     "text": [
      "100%|██████████| 221/221 [01:20<00:00,  2.76it/s]\n"
     ]
    }
   ],
   "source": [
    "jsons = []\n",
    "S = requests.Session()\n",
    "\n",
    "for name in tqdm(names):\n",
    "    URL = BASE_URL\n",
    "    PARAMS = {\n",
    "    \"action\": \"parse\",\n",
    "    \"page\": name,\n",
    "    \"format\": \"json\"\n",
    "}\n",
    "\n",
    "    R = S.get(url=URL, params=PARAMS)\n",
    "    try:\n",
    "        DATA = R.json()\n",
    "        jsons.append(DATA)\n",
    "    except:\n",
    "        print('Something failed')"
   ],
   "metadata": {
    "collapsed": false
   }
  },
  {
   "cell_type": "code",
   "execution_count": 26,
   "outputs": [
    {
     "data": {
      "text/plain": "[]"
     },
     "execution_count": 26,
     "metadata": {},
     "output_type": "execute_result"
    }
   ],
   "source": [
    "names\n"
   ],
   "metadata": {
    "collapsed": false
   }
  }
 ],
 "metadata": {
  "kernelspec": {
   "display_name": "Python 3",
   "language": "python",
   "name": "python3"
  },
  "language_info": {
   "codemirror_mode": {
    "name": "ipython",
    "version": 2
   },
   "file_extension": ".py",
   "mimetype": "text/x-python",
   "name": "python",
   "nbconvert_exporter": "python",
   "pygments_lexer": "ipython2",
   "version": "2.7.6"
  }
 },
 "nbformat": 4,
 "nbformat_minor": 0
}
