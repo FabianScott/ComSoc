{
 "cells": [
  {
   "cell_type": "code",
   "execution_count": 21,
   "outputs": [],
   "source": [
    "import requests\n",
    "import numpy as np\n",
    "import pandas as pd\n",
    "from tqdm import tqdm\n",
    "import re"
   ],
   "metadata": {
    "collapsed": false
   }
  },
  {
   "cell_type": "code",
   "execution_count": 19,
   "outputs": [],
   "source": [
    "BASE_URL = \"https://starwars.fandom.com/api.php\"\n",
    "\n",
    "names = []\n",
    "with open('Character_names.txt', 'r') as file:\n",
    "    for name in file.readlines():\n",
    "        # Ignore '\\n'\n",
    "        names.append(name[:-1])"
   ],
   "metadata": {
    "collapsed": false
   }
  },
  {
   "cell_type": "code",
   "execution_count": 20,
   "outputs": [
    {
     "name": "stderr",
     "output_type": "stream",
     "text": [
      "100%|██████████| 221/221 [01:23<00:00,  2.63it/s]\n"
     ]
    }
   ],
   "source": [
    "jsons = []\n",
    "S = requests.Session()\n",
    "\n",
    "for name in tqdm(names):\n",
    "    URL = BASE_URL\n",
    "    PARAMS = {\n",
    "    \"action\": \"parse\",\n",
    "    \"page\": name,\n",
    "    \"format\": \"json\"\n",
    "}\n",
    "\n",
    "    R = S.get(url=URL, params=PARAMS)\n",
    "    try:\n",
    "        DATA = R.json()\n",
    "        jsons.append(DATA)\n",
    "    except:\n",
    "        print('Something failed')"
   ],
   "metadata": {
    "collapsed": false
   }
  },
  {
   "cell_type": "code",
   "execution_count": 6,
   "outputs": [
    {
     "name": "stderr",
     "output_type": "stream",
     "text": [
      "100%|██████████| 221/221 [00:00<00:00, 110573.92it/s]\n"
     ]
    }
   ],
   "source": [
    "l = []\n",
    "for json in tqdm(jsons):\n",
    "    try:\n",
    "        text = json['parse']['text']\n",
    "        title = json['parse']['title']\n",
    "        l.append([title, text])\n",
    "    except KeyError:\n",
    "        pass\n",
    "\n",
    "df = pd.DataFrame(l)\n"
   ],
   "metadata": {
    "collapsed": false
   }
  },
  {
   "cell_type": "code",
   "execution_count": 8,
   "outputs": [],
   "source": [
    "df.to_csv('Text_dump.csv')"
   ],
   "metadata": {
    "collapsed": false
   }
  },
  {
   "cell_type": "code",
   "execution_count": 2,
   "outputs": [],
   "source": [
    "df = pd.read_csv('Text_dump.csv')"
   ],
   "metadata": {
    "collapsed": false
   }
  },
  {
   "cell_type": "code",
   "execution_count": null,
   "outputs": [],
   "source": [
    "for row in df.values:\n",
    "    name = row[1]\n",
    "    text = row[2]\n",
    "    print(re.match('<.?*>', text).span())\n",
    "    break\n",
    "\n"
   ],
   "metadata": {
    "collapsed": false,
    "pycharm": {
     "is_executing": true
    }
   }
  }
 ],
 "metadata": {
  "kernelspec": {
   "display_name": "Python 3",
   "language": "python",
   "name": "python3"
  },
  "language_info": {
   "codemirror_mode": {
    "name": "ipython",
    "version": 2
   },
   "file_extension": ".py",
   "mimetype": "text/x-python",
   "name": "python",
   "nbconvert_exporter": "python",
   "pygments_lexer": "ipython2",
   "version": "2.7.6"
  }
 },
 "nbformat": 4,
 "nbformat_minor": 0
}
