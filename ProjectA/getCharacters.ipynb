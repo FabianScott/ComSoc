{
 "cells": [
  {
   "cell_type": "markdown",
   "metadata": {},
   "source": [
    "### https://starwars-databank.vercel.app/character/getall"
   ]
  },
  {
   "cell_type": "code",
   "execution_count": 50,
   "metadata": {},
   "outputs": [],
   "source": [
    "import requests\n",
    "url = \"https://starwars-databank-server.vercel.app/api/v1/characters\""
   ]
  },
  {
   "cell_type": "code",
   "execution_count": 51,
   "metadata": {},
   "outputs": [],
   "source": [
    "import pandas as pd\n",
    "import os\n",
    "\n",
    "def getResponse(url):\n",
    "    response = requests.get(url)\n",
    "\n",
    "    if response.status_code != 200:\n",
    "        raise ValueError(f\"Failed to get data. Status code: {response.status_code}\")\n",
    "    data = response.json()\n",
    "    return data\n",
    "\n",
    "def convertDataToDataframe(data):\n",
    "    names, descriptions = [], []\n",
    "    list_of_people = data[\"data\"]\n",
    "    for person in list_of_people:\n",
    "        name = person[\"name\"]\n",
    "        names.append(cleanAndConvertToString(name))\n",
    "        description = person[\"description\"]\n",
    "        descriptions.append(cleanAndConvertToString(description))\n",
    "    df = pd.DataFrame({\"name\": names, \"description\": descriptions})\n",
    "    return df\n",
    "\n",
    "def cleanAndConvertToString(var):\n",
    "    return str(var).replace(\"\\\"\", \"\\'\")\n",
    "\n",
    "def concatDataframes(new_df, old_df=None):\n",
    "    if old_df is None:\n",
    "        return new_df\n",
    "    return pd.concat([old_df, new_df])\n",
    "\n",
    "def saveDataframe(df):\n",
    "    df.to_csv(\"Characters.csv\", index=False)\n",
    "\n",
    "def getNextUrl(data):\n",
    "    BASE_URL = \"https://starwars-databank-server.vercel.app/\"\n",
    "    try: return (BASE_URL + data[\"info\"][\"next\"])\n",
    "    except: return None"
   ]
  },
  {
   "cell_type": "code",
   "execution_count": 52,
   "metadata": {},
   "outputs": [],
   "source": [
    "# data = getResponse(url)\n",
    "# df = convertDataToDataframe(data)\n",
    "# saveDataframe(df)"
   ]
  },
  {
   "cell_type": "code",
   "execution_count": 54,
   "metadata": {},
   "outputs": [
    {
     "name": "stderr",
     "output_type": "stream",
     "text": [
      " 66%|██████▌   | 66/100 [00:29<00:15,  2.23it/s]"
     ]
    },
    {
     "name": "stdout",
     "output_type": "stream",
     "text": [
      "Done!\n"
     ]
    },
    {
     "name": "stderr",
     "output_type": "stream",
     "text": [
      "\n"
     ]
    }
   ],
   "source": [
    "from tqdm import tqdm\n",
    "old_df = None\n",
    "\n",
    "for _ in tqdm(range(100)):\n",
    "    data = getResponse(url)\n",
    "    df = convertDataToDataframe(data)\n",
    "    df = concatDataframes(df, old_df)\n",
    "    old_df = df\n",
    "    saveDataframe(df)\n",
    "    url = getNextUrl(data)\n",
    "    if url is None:\n",
    "        print(\"Done!\")\n",
    "        break\n"
   ]
  },
  {
   "cell_type": "code",
   "execution_count": null,
   "metadata": {},
   "outputs": [],
   "source": []
  }
 ],
 "metadata": {
  "kernelspec": {
   "display_name": "Python 3.11.2 64-bit",
   "language": "python",
   "name": "python3"
  },
  "language_info": {
   "codemirror_mode": {
    "name": "ipython",
    "version": 3
   },
   "file_extension": ".py",
   "mimetype": "text/x-python",
   "name": "python",
   "nbconvert_exporter": "python",
   "pygments_lexer": "ipython3",
   "version": "3.11.2"
  },
  "orig_nbformat": 4,
  "vscode": {
   "interpreter": {
    "hash": "b0fa6594d8f4cbf19f97940f81e996739fb7646882a419484c72d19e05852a7e"
   }
  }
 },
 "nbformat": 4,
 "nbformat_minor": 2
}
