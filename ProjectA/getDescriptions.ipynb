{
 "cells": [
  {
   "cell_type": "code",
   "execution_count": 1,
   "metadata": {},
   "outputs": [],
   "source": [
    "import pandas as pd\n",
    "from bs4 import BeautifulSoup\n",
    "import requests"
   ]
  },
  {
   "cell_type": "code",
   "execution_count": 2,
   "metadata": {},
   "outputs": [],
   "source": [
    "characters = pd.read_csv(\"Characters.csv\")\n",
    "names = characters[\"name\"].tolist()\n",
    "URL_ADDITIONS = [\"-\".join(name.lower().replace(\"\\'\", \"\").split()) for name in names]\n",
    "BASE_URL = \"https://www.starwars.com/databank/\""
   ]
  },
  {
   "cell_type": "code",
   "execution_count": 3,
   "metadata": {},
   "outputs": [],
   "source": [
    "errors = []\n",
    "number_of_errors = 0\n",
    "\n",
    "def add_one_error():\n",
    "    global number_of_errors\n",
    "    number_of_errors += 1\n",
    "\n",
    "def get_page(url):\n",
    "    try: response = requests.get(url)\n",
    "    except: errors.append(url); add_one_error(); return None\n",
    "    return BeautifulSoup(response.text, \"html.parser\")\n",
    "\n",
    "def check_if_error_404(soup):\n",
    "    try: soup.find_all(\"p\", class_=\"desc\")[0].text; return False\n",
    "    except: return True\n",
    "\n",
    "def get_properties(soup):\n",
    "    stats = soup.find_all(\"section\", class_=\"module stats span-full-screen content-span-full-screen secondary-theme dark\")\n",
    "    categories = stats[0].find_all(\"div\", class_=\"category\")\n",
    "    properties = {}\n",
    "    for category in categories:\n",
    "        heading = category.find_all(\"div\", class_=\"heading\")[0].text\n",
    "        property_names = [p.text for p in category.find_all(\"div\", class_=\"property-name\")]\n",
    "        properties[heading] = property_names\n",
    "    return properties\n",
    "\n",
    "def get_description(soup):\n",
    "    discription = soup.find_all(\"p\", class_=\"desc\")[0].text\n",
    "    return discription\n",
    "\n",
    "def get_history(soup):\n",
    "    all_referals = []\n",
    "    all_text = soup.find_all(\"div\", class_=\"rich-text-output\")\n",
    "    if len(all_text) == 0:\n",
    "        return None, None\n",
    "    minor_text_samples = all_text[0].find_all(\"p\")\n",
    "    all_history_text = \"\"\n",
    "    for sample in minor_text_samples:\n",
    "        referals = sample.find_all(\"a\")\n",
    "        for referal in referals:\n",
    "            all_referals.append(referal.text.strip())\n",
    "        all_history_text += \" \" + sample.text\n",
    "    return all_history_text, all_referals\n",
    "\n",
    "def get_descriptions(url):\n",
    "    soup = get_page(url)\n",
    "    if soup is None or check_if_error_404(soup):\n",
    "        errors.append(url)\n",
    "        add_one_error()\n",
    "        return None\n",
    "    description = get_description(soup)\n",
    "    history, referal = get_history(soup)\n",
    "    properties = get_properties(soup)\n",
    "    return description, referal, properties, history"
   ]
  },
  {
   "cell_type": "code",
   "execution_count": 4,
   "metadata": {},
   "outputs": [
    {
     "name": "stderr",
     "output_type": "stream",
     "text": [
      "100%|██████████| 964/964 [14:34<00:00,  1.10it/s]\n"
     ]
    }
   ],
   "source": [
    "from tqdm import tqdm\n",
    "\n",
    "# creating dataframe objects:\n",
    "new_names = []\n",
    "descriptions = []\n",
    "referals = []\n",
    "properties = []\n",
    "histories = []\n",
    "\n",
    "for i in tqdm(range(len(names))):\n",
    "    name = names[i]\n",
    "    url_addition = URL_ADDITIONS[i]\n",
    "    full_url = BASE_URL + url_addition\n",
    "    descriptions_tuple = get_descriptions(full_url)\n",
    "\n",
    "    if descriptions_tuple is None:\n",
    "        continue \n",
    "    \n",
    "    description, referal, property, history = descriptions_tuple\n",
    "    new_names.append(name)\n",
    "    descriptions.append(description)\n",
    "    referals.append(referal)\n",
    "    properties.append(property)\n",
    "    histories.append(history)"
   ]
  },
  {
   "cell_type": "code",
   "execution_count": 8,
   "metadata": {},
   "outputs": [],
   "source": [
    "df = pd.DataFrame({\"description\": descriptions, \"referals\": referals, \"properties\": properties, \"history\": history})\n",
    "df.to_csv(\"descriptions.csv\", sep=\";\")"
   ]
  },
  {
   "cell_type": "code",
   "execution_count": 11,
   "metadata": {},
   "outputs": [
    {
     "name": "stdout",
     "output_type": "stream",
     "text": [
      "Number of errors:  70\n"
     ]
    }
   ],
   "source": [
    "print(\"Number of errors: \", number_of_errors)\n",
    "with open(\"errors.csv\", \"w\") as f:\n",
    "    for line in errors:\n",
    "        f.write(line + \"\\n\")"
   ]
  },
  {
   "cell_type": "code",
   "execution_count": null,
   "metadata": {},
   "outputs": [],
   "source": []
  }
 ],
 "metadata": {
  "kernelspec": {
   "display_name": "Python 3.11.2 64-bit",
   "language": "python",
   "name": "python3"
  },
  "language_info": {
   "codemirror_mode": {
    "name": "ipython",
    "version": 3
   },
   "file_extension": ".py",
   "mimetype": "text/x-python",
   "name": "python",
   "nbconvert_exporter": "python",
   "pygments_lexer": "ipython3",
   "version": "3.11.2"
  },
  "orig_nbformat": 4,
  "vscode": {
   "interpreter": {
    "hash": "b0fa6594d8f4cbf19f97940f81e996739fb7646882a419484c72d19e05852a7e"
   }
  }
 },
 "nbformat": 4,
 "nbformat_minor": 2
}
