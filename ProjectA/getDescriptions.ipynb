{
 "cells": [
  {
   "cell_type": "code",
   "execution_count": 12,
   "metadata": {},
   "outputs": [],
   "source": [
    "import pandas as pd\n",
    "from bs4 import BeautifulSoup\n",
    "import requests"
   ]
  },
  {
   "cell_type": "code",
   "execution_count": 13,
   "metadata": {},
   "outputs": [],
   "source": [
    "characters = pd.read_csv(\"Characters.csv\")\n",
    "names = characters[\"name\"].tolist()\n",
    "URL_ADDITIONS = [\"-\".join(name.lower().replace(\"\\'\", \"\").split()) for name in names]\n",
    "BASE_URL = \"https://www.starwars.com/databank/\""
   ]
  },
  {
   "cell_type": "code",
   "execution_count": 55,
   "metadata": {},
   "outputs": [],
   "source": [
    "def get_page(url):\n",
    "    try: response = requests.get(url)\n",
    "    except: print(url); return None\n",
    "    return BeautifulSoup(response.text, \"html.parser\")\n",
    "\n",
    "def get_descriptions(url):\n",
    "    soup = get_page(url)\n",
    "    if soup is None:\n",
    "        return None, None\n",
    "\n",
    "def get_properties(soup):\n",
    "    stats = soup.find_all(\"section\", class_=\"module stats span-full-screen content-span-full-screen secondary-theme dark\")\n",
    "    categories = stats[0].find_all(\"div\", class_=\"category\")\n",
    "    properties = {}\n",
    "    for category in categories:\n",
    "        heading = category.find_all(\"div\", class_=\"heading\")[0].text\n",
    "        property_names = [p.text for p in category.find_all(\"div\", class_=\"property-name\")]\n",
    "        properties[heading] = property_names\n",
    "    return properties\n",
    "\n",
    "def get_description(soup):\n",
    "    discription = soup.find_all(\"p\", class_=\"desc\")[0].text\n",
    "    return discription\n",
    "\n",
    "def get_history(soup):\n",
    "    all_referals = []\n",
    "    all_text = soup.find_all(\"div\", class_=\"rich-text-output\")\n",
    "    if len(all_text) == 0:\n",
    "        return None\n",
    "    minor_text_samples = all_text[0].find_all(\"p\")\n",
    "    all_history_text = \"\"\n",
    "    for sample in minor_text_samples:\n",
    "        referals = sample.find_all(\"a\")\n",
    "        for referal in referals:\n",
    "            all_referals.append(referal.text.strip())\n",
    "        all_history_text += \" \" + sample.text\n",
    "    return all_history_text, all_referals"
   ]
  },
  {
   "cell_type": "code",
   "execution_count": 56,
   "metadata": {},
   "outputs": [
    {
     "data": {
      "text/plain": [
       "['Mon Calamari',\n",
       " 'Mon Cala',\n",
       " 'Prince Lee-Char',\n",
       " 'Separatist',\n",
       " 'Quarren',\n",
       " 'Alliance',\n",
       " 'Empire',\n",
       " 'Emperor',\n",
       " 'second Death Star',\n",
       " 'Endor',\n",
       " 'Lando Calrissian',\n",
       " 'Wedge Antilles',\n",
       " 'the New Republic',\n",
       " 'Jakku',\n",
       " 'Leia Organa',\n",
       " 'Resistance']"
      ]
     },
     "execution_count": 56,
     "metadata": {},
     "output_type": "execute_result"
    }
   ],
   "source": [
    "full_url = BASE_URL + \"admiral-ackbar\"\n",
    "soup = get_page(full_url)\n",
    "#print(soup)\n",
    "text, referals = get_history(soup)\n",
    "referals\n"
   ]
  },
  {
   "cell_type": "code",
   "execution_count": 10,
   "metadata": {},
   "outputs": [
    {
     "data": {
      "text/plain": [
       "['hyper-rod',\n",
       " 'quick-draw-quasar',\n",
       " 'steel-claw-kane',\n",
       " 'the-trickster-flash-raktor',\n",
       " '2br-ntb']"
      ]
     },
     "execution_count": 10,
     "metadata": {},
     "output_type": "execute_result"
    }
   ],
   "source": [
    "# creating dataframe objects:\n",
    "names = []\n",
    "descriptions = []\n",
    "referals = []\n",
    "properties = []\n",
    "history = []\n",
    "\n",
    "for url_addition in URL_ADDITIONS:\n",
    "    full_url = BASE_URL + url_addition"
   ]
  },
  {
   "cell_type": "code",
   "execution_count": null,
   "metadata": {},
   "outputs": [],
   "source": []
  }
 ],
 "metadata": {
  "kernelspec": {
   "display_name": "Python 3.11.2 64-bit",
   "language": "python",
   "name": "python3"
  },
  "language_info": {
   "codemirror_mode": {
    "name": "ipython",
    "version": 3
   },
   "file_extension": ".py",
   "mimetype": "text/x-python",
   "name": "python",
   "nbconvert_exporter": "python",
   "pygments_lexer": "ipython3",
   "version": "3.11.2"
  },
  "orig_nbformat": 4,
  "vscode": {
   "interpreter": {
    "hash": "b0fa6594d8f4cbf19f97940f81e996739fb7646882a419484c72d19e05852a7e"
   }
  }
 },
 "nbformat": 4,
 "nbformat_minor": 2
}
