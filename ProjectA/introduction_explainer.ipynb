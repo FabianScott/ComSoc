{
 "cells": [
  {
   "attachments": {},
   "cell_type": "markdown",
   "metadata": {},
   "source": [
    "## Star Wars Analysis"
   ]
  },
  {
   "cell_type": "markdown",
   "metadata": {},
   "source": [
    "Our website is at: https://fabianscott.github.io/"
   ]
  },
  {
   "attachments": {},
   "cell_type": "markdown",
   "metadata": {},
   "source": [
    "---"
   ]
  },
  {
   "attachments": {},
   "cell_type": "markdown",
   "metadata": {},
   "source": [
    "#### Datasets"
   ]
  },
  {
   "attachments": {},
   "cell_type": "markdown",
   "metadata": {},
   "source": [
    "We initially started with only one dataset this being the Characters dataset. We created this dataset ourselves by making both requests to an API and by making request to the star wars databank website. This process is explained in more detail futher down this notebook."
   ]
  },
  {
   "attachments": {},
   "cell_type": "markdown",
   "metadata": {},
   "source": [
    "We chose this dataset as we wanted to get information on each character and try to group them together based on different features/traits. We thought this could give us an idea of how well some groups actually represent the best way of grouping the characters together with the Louvain Algorithm. What are the most dominant groups? Are the characters mainly connected by social, political or other types of relationsships?\n",
    "\n",
    "Together with this we would want to analyze the words that each group use. What are the words from each group dominated by? Are there a significant different in the words used in different groups?"
   ]
  },
  {
   "attachments": {},
   "cell_type": "markdown",
   "metadata": {},
   "source": [
    "We also wanted to analyze the movie scripts for further word analysis. We went on to find a few different datasets with the biggest one being one from kaggle with movies script for move 4,5 & 6. We first made some preprocessing and then analysis on this. We wanted to find out which characters where the most dominant in each movie. Would that match our expectation? Could we predict the story of the movie by using TF-IDF? What where the most used words by each main character? What are their semantics?"
   ]
  },
  {
   "attachments": {},
   "cell_type": "markdown",
   "metadata": {},
   "source": [
    "Those are some of the question we would like to answer in this project."
   ]
  },
  {
   "attachments": {},
   "cell_type": "markdown",
   "metadata": {},
   "source": [
    "---\n",
    "### Goal"
   ]
  },
  {
   "attachments": {},
   "cell_type": "markdown",
   "metadata": {},
   "source": [
    "Our goal was to give the user an introduction to the Star Wars Universe and explain the social structures within. We also wanted to give some more in-depth knowledge on the main characters in the selected movies, what words they use, if they are mainly in a negative or positive context and how present they are.\n",
    "\n",
    "Hopefully this would aid anyone being interested in the Star Wars Universe and their understanding of the connections within."
   ]
  },
  {
   "attachments": {},
   "cell_type": "markdown",
   "metadata": {},
   "source": [
    "---"
   ]
  }
 ],
 "metadata": {
  "kernelspec": {
   "display_name": "Python 3.11.2 64-bit",
   "language": "python",
   "name": "python3"
  },
  "language_info": {
   "name": "python",
   "version": "3.11.2"
  },
  "orig_nbformat": 4,
  "vscode": {
   "interpreter": {
    "hash": "b0fa6594d8f4cbf19f97940f81e996739fb7646882a419484c72d19e05852a7e"
   }
  }
 },
 "nbformat": 4,
 "nbformat_minor": 2
}
