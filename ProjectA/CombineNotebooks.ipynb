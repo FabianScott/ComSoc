{
 "cells": [
  {
   "cell_type": "code",
   "execution_count": 1,
   "metadata": {
    "collapsed": false
   },
   "outputs": [],
   "source": [
    "import os\n",
    "import nbformat"
   ]
  },
  {
   "cell_type": "code",
   "execution_count": 2,
   "metadata": {
    "collapsed": false
   },
   "outputs": [],
   "source": [
    "names = ['introduction_explainer.ipynb', 'get_description_dataset.ipynb', 'get_description_tokens.ipynb', 'Build_graph.ipynb','Visualise_graph.ipynb',\n",
    "         'makeMovieScriptDataset.ipynb', 'discussion_explainer.ipynb']\n",
    "notebooks = [nbformat.read(os.path.join(os.getcwd(), name), 4) for name in names]"
   ]
  },
  {
   "cell_type": "code",
   "execution_count": 3,
   "metadata": {
    "collapsed": false
   },
   "outputs": [
    {
     "name": "stderr",
     "output_type": "stream",
     "text": [
      "C:\\Users\\toell\\AppData\\Local\\Programs\\Python\\Python310\\lib\\site-packages\\nbformat\\__init__.py:128: MissingIDFieldWarning: Code cell is missing an id field, this will become a hard error in future nbformat versions. You may want to use `normalize()` on your notebooks before validations (available since nbformat 5.1.4). Previous versions of nbformat are fixing this issue transparently, and will stop doing so in the future.\n",
      "  validate(nb)\n",
      "C:\\Users\\toell\\AppData\\Local\\Programs\\Python\\Python310\\lib\\site-packages\\nbformat\\__init__.py:128: DuplicateCellId: Non-unique cell id '5f372831' detected. Corrected to '3900d404'.\n",
      "  validate(nb)\n",
      "C:\\Users\\toell\\AppData\\Local\\Programs\\Python\\Python310\\lib\\site-packages\\nbformat\\__init__.py:128: DuplicateCellId: Non-unique cell id 'a0c092b0' detected. Corrected to 'a560598a'.\n",
      "  validate(nb)\n",
      "C:\\Users\\toell\\AppData\\Local\\Programs\\Python\\Python310\\lib\\site-packages\\nbformat\\__init__.py:128: DuplicateCellId: Non-unique cell id '5adc3be0' detected. Corrected to '7a6f080a'.\n",
      "  validate(nb)\n",
      "C:\\Users\\toell\\AppData\\Local\\Programs\\Python\\Python310\\lib\\site-packages\\nbformat\\__init__.py:128: DuplicateCellId: Non-unique cell id 'e686e542' detected. Corrected to '924c8af1'.\n",
      "  validate(nb)\n",
      "C:\\Users\\toell\\AppData\\Local\\Programs\\Python\\Python310\\lib\\site-packages\\nbformat\\__init__.py:128: DuplicateCellId: Non-unique cell id '5fa15c70' detected. Corrected to '2e880688'.\n",
      "  validate(nb)\n",
      "C:\\Users\\toell\\AppData\\Local\\Programs\\Python\\Python310\\lib\\site-packages\\nbformat\\__init__.py:128: DuplicateCellId: Non-unique cell id '5a85b925' detected. Corrected to '1bb3a38f'.\n",
      "  validate(nb)\n",
      "C:\\Users\\toell\\AppData\\Local\\Programs\\Python\\Python310\\lib\\site-packages\\nbformat\\__init__.py:128: DuplicateCellId: Non-unique cell id 'f55c7c4f' detected. Corrected to '7edd6b75'.\n",
      "  validate(nb)\n",
      "C:\\Users\\toell\\AppData\\Local\\Programs\\Python\\Python310\\lib\\site-packages\\nbformat\\__init__.py:128: DuplicateCellId: Non-unique cell id '10d8532e' detected. Corrected to '3a568460'.\n",
      "  validate(nb)\n",
      "C:\\Users\\toell\\AppData\\Local\\Programs\\Python\\Python310\\lib\\site-packages\\nbformat\\__init__.py:128: DuplicateCellId: Non-unique cell id 'e7f9e6c9' detected. Corrected to '156ab136'.\n",
      "  validate(nb)\n",
      "C:\\Users\\toell\\AppData\\Local\\Programs\\Python\\Python310\\lib\\site-packages\\nbformat\\__init__.py:128: DuplicateCellId: Non-unique cell id '80d97872' detected. Corrected to 'ae019536'.\n",
      "  validate(nb)\n",
      "C:\\Users\\toell\\AppData\\Local\\Programs\\Python\\Python310\\lib\\site-packages\\nbformat\\__init__.py:128: DuplicateCellId: Non-unique cell id 'f8ddfcd3' detected. Corrected to '6fb98a6f'.\n",
      "  validate(nb)\n"
     ]
    }
   ],
   "source": [
    "final_notebook = nbformat.v4.new_notebook(metadata=notebooks[0].metadata)\n",
    "final_notebook.cells = notebooks[0].cells\n",
    "for notebook in notebooks:\n",
    "    final_notebook.cells += notebook.cells\n",
    "nbformat.write(final_notebook, 'ExplainerNotebook.ipynb')"
   ]
  },
  {
   "cell_type": "code",
   "execution_count": null,
   "outputs": [],
   "source": [],
   "metadata": {
    "collapsed": false
   }
  }
 ],
 "metadata": {
  "kernelspec": {
   "display_name": "Python 3",
   "language": "python",
   "name": "python3"
  },
  "language_info": {
   "codemirror_mode": {
    "name": "ipython",
    "version": 3
   },
   "file_extension": ".py",
   "mimetype": "text/x-python",
   "name": "python",
   "nbconvert_exporter": "python",
   "pygments_lexer": "ipython3",
   "version": "3.9.0"
  }
 },
 "nbformat": 4,
 "nbformat_minor": 0
}
