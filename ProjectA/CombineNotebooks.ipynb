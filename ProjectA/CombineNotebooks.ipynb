{
 "cells": [
  {
   "cell_type": "code",
   "execution_count": 1,
   "metadata": {
    "collapsed": false
   },
   "outputs": [],
   "source": [
    "import os\n",
    "import nbformat"
   ]
  },
  {
   "cell_type": "code",
   "execution_count": 2,
   "metadata": {
    "collapsed": false
   },
   "outputs": [],
   "source": [
    "names = ['get_description_dataset.ipynb', 'Build_graph.ipynb', 'get_description_tokens.ipynb',\n",
    "         'makeMovieScriptDataset.ipynb', 'Visualise_graph.ipynb']\n",
    "notebooks = [nbformat.read(os.path.join(os.getcwd(), name), 4) for name in names]"
   ]
  },
  {
   "cell_type": "code",
   "execution_count": 3,
   "metadata": {
    "collapsed": false
   },
   "outputs": [
    {
     "name": "stderr",
     "output_type": "stream",
     "text": [
      "C:\\Users\\toell\\AppData\\Local\\Programs\\Python\\Python310\\lib\\site-packages\\nbformat\\__init__.py:128: MissingIDFieldWarning: Code cell is missing an id field, this will become a hard error in future nbformat versions. You may want to use `normalize()` on your notebooks before validations (available since nbformat 5.1.4). Previous versions of nbformat are fixing this issue transparently, and will stop doing so in the future.\n",
      "  validate(nb)\n",
      "C:\\Users\\toell\\AppData\\Local\\Programs\\Python\\Python310\\lib\\site-packages\\nbformat\\__init__.py:128: DuplicateCellId: Non-unique cell id '63d74fa8' detected. Corrected to 'b7e24826'.\n",
      "  validate(nb)\n",
      "C:\\Users\\toell\\AppData\\Local\\Programs\\Python\\Python310\\lib\\site-packages\\nbformat\\__init__.py:128: DuplicateCellId: Non-unique cell id '4f224319' detected. Corrected to '46c64e50'.\n",
      "  validate(nb)\n",
      "C:\\Users\\toell\\AppData\\Local\\Programs\\Python\\Python310\\lib\\site-packages\\nbformat\\__init__.py:128: DuplicateCellId: Non-unique cell id 'a11fc376' detected. Corrected to '8f475f54'.\n",
      "  validate(nb)\n",
      "C:\\Users\\toell\\AppData\\Local\\Programs\\Python\\Python310\\lib\\site-packages\\nbformat\\__init__.py:128: DuplicateCellId: Non-unique cell id '23170ead' detected. Corrected to '4b4d3f12'.\n",
      "  validate(nb)\n",
      "C:\\Users\\toell\\AppData\\Local\\Programs\\Python\\Python310\\lib\\site-packages\\nbformat\\__init__.py:128: DuplicateCellId: Non-unique cell id '78689146' detected. Corrected to '12cbc896'.\n",
      "  validate(nb)\n",
      "C:\\Users\\toell\\AppData\\Local\\Programs\\Python\\Python310\\lib\\site-packages\\nbformat\\__init__.py:128: DuplicateCellId: Non-unique cell id 'd8f41abb' detected. Corrected to 'f3950ac6'.\n",
      "  validate(nb)\n",
      "C:\\Users\\toell\\AppData\\Local\\Programs\\Python\\Python310\\lib\\site-packages\\nbformat\\__init__.py:128: DuplicateCellId: Non-unique cell id '61f44231' detected. Corrected to '7f9fc9ac'.\n",
      "  validate(nb)\n",
      "C:\\Users\\toell\\AppData\\Local\\Programs\\Python\\Python310\\lib\\site-packages\\nbformat\\__init__.py:128: DuplicateCellId: Non-unique cell id '60d525e7' detected. Corrected to '7ca78e57'.\n",
      "  validate(nb)\n",
      "C:\\Users\\toell\\AppData\\Local\\Programs\\Python\\Python310\\lib\\site-packages\\nbformat\\__init__.py:128: DuplicateCellId: Non-unique cell id '40f1ca00' detected. Corrected to '904f1dbd'.\n",
      "  validate(nb)\n",
      "C:\\Users\\toell\\AppData\\Local\\Programs\\Python\\Python310\\lib\\site-packages\\nbformat\\__init__.py:128: DuplicateCellId: Non-unique cell id '7ec676bb' detected. Corrected to 'c2ba3be5'.\n",
      "  validate(nb)\n",
      "C:\\Users\\toell\\AppData\\Local\\Programs\\Python\\Python310\\lib\\site-packages\\nbformat\\__init__.py:128: DuplicateCellId: Non-unique cell id '5c7990f0' detected. Corrected to '1edcca64'.\n",
      "  validate(nb)\n",
      "C:\\Users\\toell\\AppData\\Local\\Programs\\Python\\Python310\\lib\\site-packages\\nbformat\\__init__.py:128: DuplicateCellId: Non-unique cell id '9fdad6a8' detected. Corrected to '7f6e7f8d'.\n",
      "  validate(nb)\n",
      "C:\\Users\\toell\\AppData\\Local\\Programs\\Python\\Python310\\lib\\site-packages\\nbformat\\__init__.py:128: DuplicateCellId: Non-unique cell id '7184c5a1' detected. Corrected to '1a50f133'.\n",
      "  validate(nb)\n",
      "C:\\Users\\toell\\AppData\\Local\\Programs\\Python\\Python310\\lib\\site-packages\\nbformat\\__init__.py:128: DuplicateCellId: Non-unique cell id '1f18ec75' detected. Corrected to 'b409c2e3'.\n",
      "  validate(nb)\n",
      "C:\\Users\\toell\\AppData\\Local\\Programs\\Python\\Python310\\lib\\site-packages\\nbformat\\__init__.py:128: DuplicateCellId: Non-unique cell id '7e0bc7f9' detected. Corrected to 'bda9416a'.\n",
      "  validate(nb)\n",
      "C:\\Users\\toell\\AppData\\Local\\Programs\\Python\\Python310\\lib\\site-packages\\nbformat\\__init__.py:128: DuplicateCellId: Non-unique cell id '8ca8a54b' detected. Corrected to '75ab48d7'.\n",
      "  validate(nb)\n"
     ]
    }
   ],
   "source": [
    "final_notebook = nbformat.v4.new_notebook(metadata=notebooks[0].metadata)\n",
    "final_notebook.cells = notebooks[0].cells\n",
    "for notebook in notebooks:\n",
    "    final_notebook.cells += notebook.cells\n",
    "nbformat.write(final_notebook, 'ExplainerNotebook.ipynb')"
   ]
  },
  {
   "cell_type": "code",
   "execution_count": null,
   "outputs": [],
   "source": [],
   "metadata": {
    "collapsed": false
   }
  }
 ],
 "metadata": {
  "kernelspec": {
   "display_name": "Python 3",
   "language": "python",
   "name": "python3"
  },
  "language_info": {
   "codemirror_mode": {
    "name": "ipython",
    "version": 3
   },
   "file_extension": ".py",
   "mimetype": "text/x-python",
   "name": "python",
   "nbconvert_exporter": "python",
   "pygments_lexer": "ipython3",
   "version": "3.9.0"
  }
 },
 "nbformat": 4,
 "nbformat_minor": 0
}
