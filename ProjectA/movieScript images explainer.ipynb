{
 "cells": [
  {
   "attachments": {},
   "cell_type": "markdown",
   "metadata": {},
   "source": [
    "After looking at how the different characters connect with the help of our graphs, we'll now take a look at how the different characters are explaind through their most \"frequent\" (TF-IDF) words. But first we'll try to do the same for each episode IV, V and VI.\n",
    "\n",
    "To achieve these bar plots, we did have to do a little tinkering, since there really wasn't enough documents to perform a proper TF-IDF analysis, so we opted to compare/cross-reference the words with the news section of the nltk brown corpus. This way we could get a better idea of what words were unique to the Star Wars universe both within and oustide the context of the movies. Below you'll see the bar plots with the brown corpus words left in:\n",
    "\n",
    "### ::picture of all three movies with browns::\n",
    "\n",
    "But as you can probably see, many of these words are not really that unique to the Star Wars universe, and instead originate from the nltk dataset we artificially included. But we found that simply removing the words from the brown corpus from the bar plots, we could get a much better idea of what words were unique to the Star Wars universe. Below you'll see the bar plots with the brown corpus words removed:\n",
    "\n",
    "### ::picture of all three movies::\n",
    "\n",
    "There are some clear characteristics you can observe for each of the movies. In episode IV, we know that there is a very big focus on Luke, Obi-wan Kenobi, his two droids C-3PO and R2-D2. This is also reflected in the plot, where we see all these characters except C3-PO mentioned. And besides that the main \"mission\" is also clearly seen, being that of bringing \"Artoo\" to the \"planet\", \"Alderaan\".\n",
    "\n",
    "In episode V, we know that Luke, Han Solo, Chewbacca and Leia are together throughout a lot of the movie, and we meet the main antagonist Darth Vader. This is also somewhat reflected in the plot, where we see the names of \"chewie\", \"vader\", \"luke\". We also see \"lando\" the name of a secondary character, but who is also a big part of the movie. This movie is also the first time the characters travel a lot between planets which is reflected in the plot with words like \"light-speed\" and \"hyperdrive\".\n",
    "\n",
    "In episode VI, we see much of the same as in episode V since we've been introduced too all the main and secondary main characters, except for the notable new addition, \"Jabba\" who is a major antagonist in the movie."
   ]
  },
  {
   "attachments": {},
   "cell_type": "markdown",
   "metadata": {},
   "source": [
    "Now that we've looked at how the different episodes are characterized by these plots, we'll now take a look at how the different characters are characterized by the plots. We'll take a look at the 5 main characters Luke, Leia, Han Solo, C3-PO and Darth Vader.\n",
    "\n",
    "### ::picture of all five character plots::\n",
    "\n",
    "When looking at these plots it instantly becomes apparent where some of the words from the episode plots come from. For example, we see that C3-PO is characterized by words like \"Oh\", \"Ohhh\", \"Uh\", \"Sir\", which also make an appearance in all three episodes. And makes sense for C3-PO since his a scaredy-cat.\n",
    "\n",
    "For Luke and Leia we see similar plots, with the names of the main cast mentioned the most.\n",
    "\n",
    "For Han Solo, we see a lot of casual exclamations \"Hey\", \"Yeah\", \"Okay\", \"Huh\", \"What\", \"Gonna\" etc. which makes sense for his character, since he's a very casual and laid back character. And he also mentions Chewie, his partner, a lot.\n",
    "\n",
    "For Darth Vader, we see a lot of words related to military, \"Emperor\", \"Admiral\", \"betray\", \"asteroid\", \"dark\", etc. And his enemy \"Obi-wan\" and him and his sons last name \"Skywalker\"."
   ]
  }
 ],
 "metadata": {
  "language_info": {
   "name": "python"
  },
  "orig_nbformat": 4
 },
 "nbformat": 4,
 "nbformat_minor": 2
}
