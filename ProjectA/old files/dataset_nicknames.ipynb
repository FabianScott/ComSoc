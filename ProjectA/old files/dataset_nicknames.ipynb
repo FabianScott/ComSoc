{
 "cells": [
  {
   "cell_type": "code",
   "execution_count": null,
   "metadata": {},
   "outputs": [],
   "source": [
    "# Loading the descriptions dataset and fixing minor errors:\n",
    "character_data = pd.read_csv('ProjectA/descriptions.csv', sep=\";\", usecols=[1, 2, 3, 4, 5], converters={4: literal_eval})\n",
    "\n",
    "ind_list = np.nonzero([r\"(\" in i for i in character_data[\"name\"]])[0]\n",
    "char_list = list([character_data[\"name\"].iloc[i] for i in ind_list])\n",
    "bool_list = [char.split(\" \") for char in list(char_list)]\n",
    "\n",
    "names = []\n",
    "nicknames = []\n",
    "for i in bool_list:\n",
    "    for idx, el in enumerate(i):\n",
    "        if r\"(\" in el:\n",
    "            names.append(\" \".join(i[:idx]))\n",
    "            nicknames.append([\" \".join(i[:idx]), \" \".join(i[idx:])[1:-1]])\n",
    "\n",
    "for i in range(len(ind_list)):\n",
    "    character_data[\"name\"].iloc[ind_list[i]] = names[i]\n",
    "    \n",
    "name_dict = dict(zip(names, nicknames))\n",
    "\n",
    "def funcer(x):\n",
    "    try: return name_dict[x]\n",
    "    except: return [x]\n",
    "\n",
    "character_data['nicknames'] = character_data[\"name\"].apply(funcer)\n",
    "character_data[\"name\"].iloc[:4] = [\"Rod\", \"Quasar\", \"Kane\", \"Flash Raktor\"]\n",
    "character_data[\"nicknames\"].iloc[:4] = [[\"Hyper\", \"Rod\"], [\"Quick-Draw\", \"Quasar\"], [\"Steel Claw\", \"Kane\"], [\"The Trickster\", \"Flash Raktor\"]]\n",
    "character_data.set_index(\"name\", inplace=True)\n",
    "character_data = character_data.sort_index()"
   ]
  }
 ],
 "metadata": {
  "language_info": {
   "name": "python"
  },
  "orig_nbformat": 4
 },
 "nbformat": 4,
 "nbformat_minor": 2
}
