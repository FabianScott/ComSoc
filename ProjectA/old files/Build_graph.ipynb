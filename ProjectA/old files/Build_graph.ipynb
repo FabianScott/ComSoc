{
 "cells": [
  {
   "cell_type": "code",
   "execution_count": null,
   "outputs": [],
   "source": [
    "import os\n",
    "import re\n",
    "import pickle\n",
    "import numpy as np\n",
    "import pandas as pd\n",
    "import netwulf as nw\n",
    "import networkx as nx\n",
    "from scipy import stats as st\n",
    "import matplotlib.pyplot as plt\n",
    "from collections import defaultdict\n",
    "import networkx.algorithms.community as nx_comm"
   ],
   "metadata": {
    "collapsed": false
   }
  },
  {
   "cell_type": "code",
   "execution_count": null,
   "outputs": [],
   "source": [
    "names = []\n",
    "names_all = {}\n",
    "with open('Character_names.txt', 'r') as file:\n",
    "    for nick_name in file.readlines():\n",
    "        names.append(nick_name[:-1])  # Ignore '\\n'"
   ],
   "metadata": {
    "collapsed": false
   }
  },
  {
   "cell_type": "code",
   "execution_count": null,
   "outputs": [],
   "source": [
    "texts = []"
   ],
   "metadata": {
    "collapsed": false
   }
  },
  {
   "cell_type": "code",
   "execution_count": null,
   "outputs": [],
   "source": [
    "adjacency_matrix = np.zeros((len(names), len(names)))\n",
    "\n",
    "# Assuming a clean text with only lower case words, no punctuation\n",
    "for i, text in enumerate(texts):\n",
    "    # word_array = np.array(text.split(' '))\n",
    "    counts = []\n",
    "    for real_name in names:\n",
    "        count = 0\n",
    "        for nick_name in names_all[real_name]:\n",
    "            count += len(re.findall(nick_name, text))\n",
    "        counts.append(count)\n",
    "    # counts = np.array(counts)\n",
    "    # The row is the node from which the edge comes and the column is thus the receiving node\n",
    "    adjacency_matrix[i] += np.array(counts)\n",
    "    # adjacency_matrix[:, i] += counts.T"
   ],
   "metadata": {
    "collapsed": false
   }
  },
  {
   "cell_type": "code",
   "execution_count": null,
   "outputs": [],
   "source": [
    "# Show graph before creating communities\n",
    "G = nx.from_numpy_matrix(adjacency_matrix)\n",
    "\n",
    "network, config = nw.visualize(G, config={'zoom':0.6, 'node charge':-15, 'node gravity': 0.7})\n",
    "fig, ax = nw.draw_netwulf(network)\n",
    "plt.savefig('StarWarsGraph')"
   ],
   "metadata": {
    "collapsed": false
   }
  },
  {
   "cell_type": "code",
   "execution_count": null,
   "outputs": [],
   "source": [
    "# Compute the communities\n",
    "partition = nx_comm.louvain_communities(G)\n",
    "# Create a list of the number of nodes in each community\n",
    "sizes = [len(c) for c in partition]\n",
    "print(\n",
    "    f'The average community size is {round(np.mean(sizes), 2)}, with a standard deviation of {round(np.std(sizes), 2)}. The largest is of size {np.max(sizes)} and the smallest {np.min(sizes)}')"
   ],
   "metadata": {
    "collapsed": false
   }
  },
  {
   "cell_type": "code",
   "execution_count": null,
   "outputs": [],
   "source": [
    "# Create a np array of nodes to use for finding their positions in the graph's list\n",
    "G_where = np.array(G.nodes)\n",
    "# Initialize the array for colours and the values for which to colour\n",
    "degreeColor = np.empty(len(G_where), dtype=object)\n",
    "valueToPlot = np.log10(sizes)\n",
    "# we rescale the colours to be in the RGB format (0 to 255 for three colours)\n",
    "valueToPlotRescaled = 255*(valueToPlot - np.min(valueToPlot))/np.max(valueToPlot)\n",
    "\n",
    "for size, c in zip(sizes, partition):\n",
    "    for node in c:\n",
    "        # Use the size to set the colour\n",
    "        color = '#%02x%02x%02x' % (int(size), 0, 50)\n",
    "        degreeColor[np.where(G_where == node)] = color\n",
    "# zip it up into a dictionary and set it as node attribute\n",
    "dictionaryColor = dict(zip(list(G.nodes), degreeColor))\n",
    "nx.set_node_attributes(G, dictionaryColor, 'group')"
   ],
   "metadata": {
    "collapsed": false
   }
  },
  {
   "cell_type": "code",
   "execution_count": null,
   "outputs": [],
   "source": [
    "def modularity(G, communities):\n",
    "    m = G.number_of_edges()\n",
    "    q = .0\n",
    "    for c in communities:\n",
    "        lc = G.subgraph(c).number_of_edges()\n",
    "        kc = sum(G.degree(n) for n in c)\n",
    "        q += lc / m - (kc / (2 * m)) ** 2\n",
    "    return q\n",
    "\n",
    "modularity_from_current_communities = modularity(G, partition)"
   ],
   "metadata": {
    "collapsed": false
   }
  }
 ],
 "metadata": {
  "kernelspec": {
   "display_name": "Python 3",
   "language": "python",
   "name": "python3"
  },
  "language_info": {
   "codemirror_mode": {
    "name": "ipython",
    "version": 2
   },
   "file_extension": ".py",
   "mimetype": "text/x-python",
   "name": "python",
   "nbconvert_exporter": "python",
   "pygments_lexer": "ipython2",
   "version": "2.7.6"
  }
 },
 "nbformat": 4,
 "nbformat_minor": 0
}
