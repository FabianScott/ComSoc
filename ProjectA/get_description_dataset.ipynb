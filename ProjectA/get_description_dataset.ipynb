{
 "cells": [
  {
   "cell_type": "markdown",
   "metadata": {},
   "source": [
    "---"
   ]
  },
  {
   "cell_type": "code",
   "execution_count": 1,
   "metadata": {},
   "outputs": [],
   "source": [
    "from bs4 import BeautifulSoup\n",
    "import pandas as pd\n",
    "import requests\n",
    "from tqdm import tqdm\n",
    "from ast import literal_eval"
   ]
  },
  {
   "attachments": {},
   "cell_type": "markdown",
   "metadata": {},
   "source": [
    "# Initial data collecting"
   ]
  },
  {
   "attachments": {},
   "cell_type": "markdown",
   "metadata": {},
   "source": [
    "To get data from all the starwars characters from the official Starwars Databank, we first need to know all the possible URLs to get the data from. This is done by getting the list of all the characters from the 'starwars-databank-server.vercel.app' API, which is then appended to the base URL:"
   ]
  },
  {
   "cell_type": "code",
   "execution_count": null,
   "metadata": {},
   "outputs": [],
   "source": [
    "URL_CHARACTERS = \"https://starwars-databank-server.vercel.app/api/v1/characters\"\n",
    "\n",
    "def getResponse(url):\n",
    "    response = requests.get(url)\n",
    "    if response.status_code != 200:\n",
    "        raise ValueError(f\"Failed to get data. Status code: {response.status_code}\")\n",
    "    data = response.json()\n",
    "    return data\n",
    "\n",
    "def cleanString(var):\n",
    "    return str(var).replace(\"\\\"\", \"\\'\")\n",
    "\n",
    "def getNextUrl(data):\n",
    "    BASE_URL = \"https://starwars-databank-server.vercel.app/\"\n",
    "    try: return (BASE_URL + data[\"info\"][\"next\"])\n",
    "    except: return None"
   ]
  },
  {
   "cell_type": "code",
   "execution_count": null,
   "metadata": {},
   "outputs": [
    {
     "name": "stderr",
     "output_type": "stream",
     "text": [
      " 96%|█████████▌| 96/100 [00:54<00:02,  1.75it/s]"
     ]
    },
    {
     "name": "stdout",
     "output_type": "stream",
     "text": [
      "Done!\n"
     ]
    },
    {
     "name": "stderr",
     "output_type": "stream",
     "text": [
      "\n"
     ]
    }
   ],
   "source": [
    "character_df_old = None\n",
    "temp_url = URL_CHARACTERS\n",
    "character_name_list = []\n",
    "\n",
    "for _ in tqdm(range(100)):\n",
    "    data = getResponse(temp_url)\n",
    "    character_name_list += [cleanString(character[\"name\"]) for character in data[\"data\"]]\n",
    "    \n",
    "    # Since the getResponse function doesn't return all characters\n",
    "    # we need to loop through the different API \"pages\" with getNextUrl\n",
    "    temp_url = getNextUrl(data)\n",
    "    if temp_url is None:\n",
    "        print(\"Done!\")\n",
    "        break\n",
    "\n",
    "url_name_list = [\"-\".join(name.lower().replace(\"\\'\", \"\").split()) for name in character_name_list]"
   ]
  },
  {
   "attachments": {},
   "cell_type": "markdown",
   "metadata": {},
   "source": [
    "Now that we have a list of character names we can then start getting the character data we actually want from the official Star Wars databank website. So we start appending and checking the different URLs, from the resulting HTML pages we can then extract the desired data:"
   ]
  },
  {
   "cell_type": "code",
   "execution_count": null,
   "metadata": {},
   "outputs": [],
   "source": [
    "BASE_URL = \"https://www.starwars.com/databank/\"\n",
    "URL_ADDITIONS = url_name_list\n",
    "\n",
    "errors = []\n",
    "number_of_errors = 0\n",
    "\n",
    "def add_one_error():\n",
    "    global number_of_errors\n",
    "    number_of_errors += 1\n",
    "\n",
    "def get_page(url):\n",
    "    try: response = requests.get(url)\n",
    "    except: errors.append(url); add_one_error(); return None\n",
    "    return BeautifulSoup(response.text, \"html.parser\")\n",
    "\n",
    "def check_if_error_404(soup):\n",
    "    try: soup.find_all(\"p\", class_=\"desc\")[0].text; return False\n",
    "    except: return True\n",
    "\n",
    "def get_properties(soup):\n",
    "    stats = soup.find_all(\"section\", class_=\"module stats span-full-screen content-span-full-screen secondary-theme dark\")\n",
    "    categories = stats[0].find_all(\"div\", class_=\"category\")\n",
    "    properties = {}\n",
    "    for category in categories:\n",
    "        heading = category.find_all(\"div\", class_=\"heading\")[0].text\n",
    "        property_names = [p.text for p in category.find_all(\"div\", class_=\"property-name\")]\n",
    "        properties[heading] = property_names\n",
    "    return properties\n",
    "\n",
    "def get_description(soup):\n",
    "    discription = soup.find_all(\"p\", class_=\"desc\")[0].text\n",
    "    discription = discription.replace(\"\\n\", \"\")\n",
    "    return discription\n",
    "\n",
    "def get_history(soup):\n",
    "    all_referals = []\n",
    "    all_text = soup.find_all(\"div\", class_=\"rich-text-output\")\n",
    "    if len(all_text) == 0:\n",
    "        return None, None\n",
    "    minor_text_samples = all_text[0].find_all(\"p\")\n",
    "    all_history_text = \"\"\n",
    "    for sample in minor_text_samples:\n",
    "        referals = sample.find_all(\"a\")\n",
    "        for referal in referals:\n",
    "            all_referals.append(referal.text.strip())\n",
    "        all_history_text += \" \" + sample.text\n",
    "    return all_history_text, all_referals\n",
    "\n",
    "def get_descriptions(url):\n",
    "    soup = get_page(url)\n",
    "    if soup is None or check_if_error_404(soup):\n",
    "        errors.append(url)\n",
    "        add_one_error()\n",
    "        return None\n",
    "    description = get_description(soup)\n",
    "    history, referal = get_history(soup)\n",
    "    properties = get_properties(soup)\n",
    "    return description, referal, properties, history"
   ]
  },
  {
   "cell_type": "markdown",
   "metadata": {},
   "source": [
    "#### Getting all the correct URL's before proceeding"
   ]
  },
  {
   "cell_type": "markdown",
   "metadata": {},
   "source": [
    "We noticed that some of the automade URL's did not work properly. We then saved these to an error.csv file:"
   ]
  },
  {
   "cell_type": "code",
   "execution_count": null,
   "metadata": {},
   "outputs": [],
   "source": [
    "def check_if_working_url(url):\n",
    "    soup = get_page(url)\n",
    "    return not (soup is None or check_if_error_404(soup))"
   ]
  },
  {
   "cell_type": "code",
   "execution_count": null,
   "metadata": {},
   "outputs": [
    {
     "name": "stderr",
     "output_type": "stream",
     "text": [
      "100%|██████████| 964/964 [11:32<00:00,  1.39it/s]\n"
     ]
    }
   ],
   "source": [
    "all_urls = []\n",
    "errors = []\n",
    "\n",
    "for i in tqdm(range(len(character_name_list))):\n",
    "    name = character_name_list[i]\n",
    "    url_addition = URL_ADDITIONS[i]\n",
    "    full_url = BASE_URL + url_addition\n",
    "    if check_if_working_url(full_url):\n",
    "        all_urls.append((name, full_url))\n",
    "    else:\n",
    "        errors.append((name, full_url))"
   ]
  },
  {
   "cell_type": "markdown",
   "metadata": {},
   "source": [
    "### Concat cleaned errors and all_urls"
   ]
  },
  {
   "cell_type": "markdown",
   "metadata": {},
   "source": [
    "The error.csv was only 43 lines long, so we decided to manully search for the person on the star-wars databank, and then copy the correct html back into the error.csv, as we found this to be most efficient and accurate way of correcting the mistakes:"
   ]
  },
  {
   "cell_type": "code",
   "execution_count": null,
   "metadata": {},
   "outputs": [],
   "source": [
    "potentially_cleaned_urls = []\n",
    "\n",
    "cleaned_errors = [lst.split(\"\\n\") for lst in open(\"cleaned_errors.csv\", \"r\").readlines()]\n",
    "for cleaned_error in cleaned_errors:\n",
    "    potentially_cleaned_urls.append(cleaned_error[0])"
   ]
  },
  {
   "cell_type": "code",
   "execution_count": null,
   "metadata": {},
   "outputs": [
    {
     "name": "stderr",
     "output_type": "stream",
     "text": [
      "100%|██████████| 68/68 [00:41<00:00,  1.63it/s]\n"
     ]
    }
   ],
   "source": [
    "errors = []\n",
    "\n",
    "for i in tqdm(range(len( potentially_cleaned_urls))):\n",
    "    name = literal_eval(potentially_cleaned_urls[i])[0]\n",
    "    full_url = literal_eval(potentially_cleaned_urls[i])[1]\n",
    "    if check_if_working_url(full_url):\n",
    "        all_urls.append((name, full_url))\n",
    "    else:\n",
    "        errors.append((name, full_url))"
   ]
  },
  {
   "cell_type": "code",
   "execution_count": null,
   "metadata": {},
   "outputs": [],
   "source": [
    "with open(\"errors.csv\", \"w\") as f:\n",
    "    for line in errors:\n",
    "        f.write(str(line) + \"\\n\")"
   ]
  },
  {
   "cell_type": "markdown",
   "metadata": {},
   "source": [
    "We then had an errors.csv with no lines left, which is exactly what we wanted."
   ]
  },
  {
   "cell_type": "markdown",
   "metadata": {},
   "source": [
    "### Making the dataframe"
   ]
  },
  {
   "cell_type": "code",
   "execution_count": null,
   "metadata": {},
   "outputs": [
    {
     "name": "stderr",
     "output_type": "stream",
     "text": [
      "100%|██████████| 958/958 [10:44<00:00,  1.49it/s]"
     ]
    },
    {
     "name": "stdout",
     "output_type": "stream",
     "text": [
      "Number of errors:  0\n",
      "\n"
     ]
    },
    {
     "name": "stderr",
     "output_type": "stream",
     "text": [
      "\n"
     ]
    }
   ],
   "source": [
    "# creating dataframe objects:\n",
    "new_names = []\n",
    "errors = []\n",
    "descriptions = []\n",
    "referrals = []\n",
    "properties = []\n",
    "histories = []\n",
    "number_of_errors = 0\n",
    "\n",
    "for i in tqdm(range(len(all_urls))):\n",
    "    name = all_urls[i][0]\n",
    "    full_url = all_urls[i][1]\n",
    "    descriptions_tuple = get_descriptions(full_url)\n",
    "\n",
    "    if descriptions_tuple is None:\n",
    "        continue \n",
    "    \n",
    "    description, referral, property, history = descriptions_tuple\n",
    "    new_names.append(name)\n",
    "    descriptions.append(description)\n",
    "    referrals.append(referral)\n",
    "    properties.append(property)\n",
    "    histories.append(history)\n",
    "\n",
    "    all_urls.append((name, full_url))  \n",
    "\n",
    "print(\"Number of errors: \", number_of_errors)\n",
    "print(*errors, sep=\"\\n\") \n",
    "\n",
    "cleaned_descriptions = [description.replace(\"\\n\", \"\").replace(\"\\r\", \"\") for description in descriptions]\n",
    "df = pd.DataFrame({\"name\": new_names, \"description\": cleaned_descriptions, \"referrals\": referrals, \"properties\": properties, \"history\": history})\n",
    "df.to_csv(\"descriptions.csv\", sep=\";\")"
   ]
  },
  {
   "cell_type": "code",
   "execution_count": null,
   "metadata": {},
   "outputs": [
    {
     "name": "stdout",
     "output_type": "stream",
     "text": [
      "Number of errors:  0\n"
     ]
    }
   ],
   "source": [
    "print(\"Number of errors: \", number_of_errors)\n",
    "with open(\"errors.csv\", \"w\") as f:\n",
    "    for line in errors:\n",
    "        f.write(line + \"\\n\")"
   ]
  },
  {
   "cell_type": "markdown",
   "metadata": {},
   "source": [
    "We now have a dataset with a lot of information about each character:"
   ]
  },
  {
   "cell_type": "code",
   "execution_count": 6,
   "metadata": {},
   "outputs": [
    {
     "data": {
      "text/html": [
       "<div>\n",
       "<style scoped>\n",
       "    .dataframe tbody tr th:only-of-type {\n",
       "        vertical-align: middle;\n",
       "    }\n",
       "\n",
       "    .dataframe tbody tr th {\n",
       "        vertical-align: top;\n",
       "    }\n",
       "\n",
       "    .dataframe thead th {\n",
       "        text-align: right;\n",
       "    }\n",
       "</style>\n",
       "<table border=\"1\" class=\"dataframe\">\n",
       "  <thead>\n",
       "    <tr style=\"text-align: right;\">\n",
       "      <th></th>\n",
       "      <th>Unnamed: 0</th>\n",
       "      <th>name</th>\n",
       "      <th>description</th>\n",
       "      <th>referrals</th>\n",
       "      <th>properties</th>\n",
       "      <th>history</th>\n",
       "    </tr>\n",
       "  </thead>\n",
       "  <tbody>\n",
       "    <tr>\n",
       "      <th>0</th>\n",
       "      <td>0</td>\n",
       "      <td>'Hyper' Rod</td>\n",
       "      <td>In his specially-modified Seven Deuce Blaster,...</td>\n",
       "      <td>NaN</td>\n",
       "      <td>{'Appearances': ['Star Wars: The Bad Batch']}</td>\n",
       "      <td>NaN</td>\n",
       "    </tr>\n",
       "    <tr>\n",
       "      <th>1</th>\n",
       "      <td>1</td>\n",
       "      <td>'Quick-Draw' Quasar</td>\n",
       "      <td>An amalgamation of droid parts, riot racer \"Qu...</td>\n",
       "      <td>NaN</td>\n",
       "      <td>{'Appearances': ['Star Wars: The Bad Batch']}</td>\n",
       "      <td>NaN</td>\n",
       "    </tr>\n",
       "    <tr>\n",
       "      <th>2</th>\n",
       "      <td>2</td>\n",
       "      <td>'Steel Claw' Kane</td>\n",
       "      <td>At the Safa Toma riot races, \"Steel Claw\" Kane...</td>\n",
       "      <td>NaN</td>\n",
       "      <td>{'Appearances': ['Star Wars: The Bad Batch'], ...</td>\n",
       "      <td>NaN</td>\n",
       "    </tr>\n",
       "    <tr>\n",
       "      <th>3</th>\n",
       "      <td>3</td>\n",
       "      <td>'The Trickster' Flash Raktor</td>\n",
       "      <td>Perhaps riot racer Flash Raktor gets his nickn...</td>\n",
       "      <td>NaN</td>\n",
       "      <td>{'Appearances': ['Star Wars: The Bad Batch'], ...</td>\n",
       "      <td>NaN</td>\n",
       "    </tr>\n",
       "    <tr>\n",
       "      <th>4</th>\n",
       "      <td>4</td>\n",
       "      <td>2BR-NTB</td>\n",
       "      <td>Loyal to Norath Kev, the droid 2BR-NTB has a d...</td>\n",
       "      <td>NaN</td>\n",
       "      <td>{'Appearances': ['Star Wars Resistance']}</td>\n",
       "      <td>NaN</td>\n",
       "    </tr>\n",
       "    <tr>\n",
       "      <th>...</th>\n",
       "      <td>...</td>\n",
       "      <td>...</td>\n",
       "      <td>...</td>\n",
       "      <td>...</td>\n",
       "      <td>...</td>\n",
       "      <td>...</td>\n",
       "    </tr>\n",
       "    <tr>\n",
       "      <th>953</th>\n",
       "      <td>953</td>\n",
       "      <td>Venisa Doza</td>\n",
       "      <td>A fearless freedom fighter, Venisa Doza once f...</td>\n",
       "      <td>['the Resistance', 'Colossus', 'Jade Squadron']</td>\n",
       "      <td>{'Appearances': ['Star Wars Resistance'], 'Gen...</td>\n",
       "      <td>NaN</td>\n",
       "    </tr>\n",
       "    <tr>\n",
       "      <th>954</th>\n",
       "      <td>954</td>\n",
       "      <td>Wicket W. Warrick</td>\n",
       "      <td>Wicket W. Warrick was the brave young Ewok who...</td>\n",
       "      <td>['Empire', 'Endor', 'Ewok', 'Bright Tree Villa...</td>\n",
       "      <td>{'Appearances': ['Star Wars: Return of the Jed...</td>\n",
       "      <td>NaN</td>\n",
       "    </tr>\n",
       "    <tr>\n",
       "      <th>955</th>\n",
       "      <td>955</td>\n",
       "      <td>Willie (W1-LE)</td>\n",
       "      <td>W1-LE was Lando Calrissian’s personal attendan...</td>\n",
       "      <td>NaN</td>\n",
       "      <td>{'Appearances': ['Star Wars Rebels'], 'droid':...</td>\n",
       "      <td>NaN</td>\n",
       "    </tr>\n",
       "    <tr>\n",
       "      <th>956</th>\n",
       "      <td>956</td>\n",
       "      <td>Xi'an</td>\n",
       "      <td>An athletic and agile Twi'lek, Xi'an is the bl...</td>\n",
       "      <td>NaN</td>\n",
       "      <td>{'Appearances': ['The Mandalorian'], 'Gender':...</td>\n",
       "      <td>NaN</td>\n",
       "    </tr>\n",
       "    <tr>\n",
       "      <th>957</th>\n",
       "      <td>957</td>\n",
       "      <td>Yarna d'al' Gargan</td>\n",
       "      <td>One of Jabba's many possessions, the ample Yar...</td>\n",
       "      <td>NaN</td>\n",
       "      <td>{'Appearances': ['Star Wars: Return of the Jed...</td>\n",
       "      <td>NaN</td>\n",
       "    </tr>\n",
       "  </tbody>\n",
       "</table>\n",
       "<p>958 rows × 6 columns</p>\n",
       "</div>"
      ],
      "text/plain": [
       "     Unnamed: 0                          name  \\\n",
       "0             0                   'Hyper' Rod   \n",
       "1             1           'Quick-Draw' Quasar   \n",
       "2             2             'Steel Claw' Kane   \n",
       "3             3  'The Trickster' Flash Raktor   \n",
       "4             4                       2BR-NTB   \n",
       "..          ...                           ...   \n",
       "953         953                   Venisa Doza   \n",
       "954         954             Wicket W. Warrick   \n",
       "955         955                Willie (W1-LE)   \n",
       "956         956                         Xi'an   \n",
       "957         957            Yarna d'al' Gargan   \n",
       "\n",
       "                                           description  \\\n",
       "0    In his specially-modified Seven Deuce Blaster,...   \n",
       "1    An amalgamation of droid parts, riot racer \"Qu...   \n",
       "2    At the Safa Toma riot races, \"Steel Claw\" Kane...   \n",
       "3    Perhaps riot racer Flash Raktor gets his nickn...   \n",
       "4    Loyal to Norath Kev, the droid 2BR-NTB has a d...   \n",
       "..                                                 ...   \n",
       "953  A fearless freedom fighter, Venisa Doza once f...   \n",
       "954  Wicket W. Warrick was the brave young Ewok who...   \n",
       "955  W1-LE was Lando Calrissian’s personal attendan...   \n",
       "956  An athletic and agile Twi'lek, Xi'an is the bl...   \n",
       "957  One of Jabba's many possessions, the ample Yar...   \n",
       "\n",
       "                                             referrals  \\\n",
       "0                                                  NaN   \n",
       "1                                                  NaN   \n",
       "2                                                  NaN   \n",
       "3                                                  NaN   \n",
       "4                                                  NaN   \n",
       "..                                                 ...   \n",
       "953    ['the Resistance', 'Colossus', 'Jade Squadron']   \n",
       "954  ['Empire', 'Endor', 'Ewok', 'Bright Tree Villa...   \n",
       "955                                                NaN   \n",
       "956                                                NaN   \n",
       "957                                                NaN   \n",
       "\n",
       "                                            properties  history  \n",
       "0        {'Appearances': ['Star Wars: The Bad Batch']}      NaN  \n",
       "1        {'Appearances': ['Star Wars: The Bad Batch']}      NaN  \n",
       "2    {'Appearances': ['Star Wars: The Bad Batch'], ...      NaN  \n",
       "3    {'Appearances': ['Star Wars: The Bad Batch'], ...      NaN  \n",
       "4            {'Appearances': ['Star Wars Resistance']}      NaN  \n",
       "..                                                 ...      ...  \n",
       "953  {'Appearances': ['Star Wars Resistance'], 'Gen...      NaN  \n",
       "954  {'Appearances': ['Star Wars: Return of the Jed...      NaN  \n",
       "955  {'Appearances': ['Star Wars Rebels'], 'droid':...      NaN  \n",
       "956  {'Appearances': ['The Mandalorian'], 'Gender':...      NaN  \n",
       "957  {'Appearances': ['Star Wars: Return of the Jed...      NaN  \n",
       "\n",
       "[958 rows x 6 columns]"
      ]
     },
     "execution_count": 6,
     "metadata": {},
     "output_type": "execute_result"
    }
   ],
   "source": [
    "import pandas as pd\n",
    "df = pd.read_csv(\"descriptions.csv\", sep=\";\")\n",
    "df"
   ]
  },
  {
   "cell_type": "markdown",
   "metadata": {},
   "source": [
    "---"
   ]
  }
 ],
 "metadata": {
  "kernelspec": {
   "display_name": "Python 3.11.2 64-bit",
   "language": "python",
   "name": "python3"
  },
  "language_info": {
   "codemirror_mode": {
    "name": "ipython",
    "version": 3
   },
   "file_extension": ".py",
   "mimetype": "text/x-python",
   "name": "python",
   "nbconvert_exporter": "python",
   "pygments_lexer": "ipython3",
   "version": "3.11.2"
  },
  "orig_nbformat": 4,
  "vscode": {
   "interpreter": {
    "hash": "b0fa6594d8f4cbf19f97940f81e996739fb7646882a419484c72d19e05852a7e"
   }
  }
 },
 "nbformat": 4,
 "nbformat_minor": 2
}
