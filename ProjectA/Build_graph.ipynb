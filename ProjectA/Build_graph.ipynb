{
 "cells": [
  {
   "cell_type": "code",
   "execution_count": 1,
   "outputs": [],
   "source": [
    "import os\n",
    "import re\n",
    "from tqdm import tqdm\n",
    "import pickle\n",
    "import numpy as np\n",
    "import pandas as pd\n",
    "import netwulf as nw\n",
    "import networkx as nx\n",
    "from scipy import stats as st\n",
    "import matplotlib.pyplot as plt\n",
    "from collections import defaultdict\n",
    "import networkx.algorithms.community as nx_comm"
   ],
   "metadata": {
    "collapsed": false
   }
  },
  {
   "cell_type": "code",
   "execution_count": 2,
   "outputs": [],
   "source": [
    "df = pd.read_csv('Characters.csv')\n",
    "names = df['name'].values"
   ],
   "metadata": {
    "collapsed": false
   }
  },
  {
   "cell_type": "code",
   "execution_count": 3,
   "outputs": [],
   "source": [
    "df_texts = pd.read_csv('descriptions.csv', sep=';')\n",
    "texts = df_texts['description'].values\n",
    "hyper_refs = df_texts['referals']"
   ],
   "metadata": {
    "collapsed": false
   }
  },
  {
   "cell_type": "code",
   "execution_count": 4,
   "outputs": [
    {
     "name": "stderr",
     "output_type": "stream",
     "text": [
      "894it [00:33, 26.80it/s]\n"
     ]
    }
   ],
   "source": [
    "adjacency_matrix = np.zeros((len(names), len(names)))\n",
    "names_all = {name: [name] for name in names}\n",
    "# Assuming a clean text with only lower case words, no punctuation\n",
    "for i, text in tqdm(enumerate(texts)):\n",
    "    # word_array = np.array(text.split(' '))\n",
    "    counts = []\n",
    "    for real_name in names:\n",
    "        count = 0\n",
    "        for nick_name in names_all[real_name]:\n",
    "            count += len(re.findall(nick_name, text))\n",
    "        counts.append(count)\n",
    "    # counts = np.array(counts)\n",
    "    # The row is the node from which the edge comes and the column is thus the receiving node\n",
    "    adjacency_matrix[i] += np.array(counts)\n",
    "    # adjacency_matrix[:, i] += counts.T"
   ],
   "metadata": {
    "collapsed": false
   }
  },
  {
   "cell_type": "code",
   "execution_count": 5,
   "outputs": [
    {
     "name": "stderr",
     "output_type": "stream",
     "text": [
      "894it [00:34, 26.06it/s]\n"
     ]
    }
   ],
   "source": [
    "adjacency_matrix_compare = np.zeros((len(names), len(names)))\n",
    "names_all = {name: [name] for name in names}\n",
    "# Assuming a clean text with only lower case words, no punctuation\n",
    "for i, text in tqdm(enumerate(hyper_refs)):\n",
    "    # word_array = np.array(text.split(' '))\n",
    "    counts = []\n",
    "    for real_name in names:\n",
    "        count = 0\n",
    "        for nick_name in names_all[real_name]:\n",
    "            count += len(re.findall(nick_name, str(text)))\n",
    "        counts.append(count)\n",
    "    # counts = np.array(counts)\n",
    "    # The row is the node from which the edge comes and the column is thus the receiving node\n",
    "    adjacency_matrix_compare[i] += np.array(counts)\n"
   ],
   "metadata": {
    "collapsed": false
   }
  },
  {
   "cell_type": "code",
   "execution_count": 31,
   "outputs": [],
   "source": [
    "adjacency_matrix += (adjacency_matrix_compare == 1) * (adjacency_matrix == 0)"
   ],
   "metadata": {
    "collapsed": false
   }
  },
  {
   "cell_type": "code",
   "execution_count": null,
   "outputs": [],
   "source": [
    "# Show graph before creating communities\n",
    "G = nx.from_numpy_matrix(adjacency_matrix)\n",
    "\n",
    "network, config = nw.visualize(G, config={'zoom':0.6, 'node charge':-15, 'node gravity': 0.7})\n",
    "fig, ax = nw.draw_netwulf(network)\n",
    "plt.savefig('StarWarsGraph')"
   ],
   "metadata": {
    "collapsed": false,
    "pycharm": {
     "is_executing": true
    }
   }
  },
  {
   "cell_type": "code",
   "execution_count": null,
   "outputs": [],
   "source": [],
   "metadata": {
    "collapsed": false
   }
  },
  {
   "cell_type": "code",
   "execution_count": 17,
   "outputs": [
    {
     "name": "stdout",
     "output_type": "stream",
     "text": [
      "The average community size is 12.85, with a standard deviation of 19.77. The largest is of size 85 and the smallest 1\n"
     ]
    }
   ],
   "source": [
    "# Compute the communities\n",
    "partition = nx_comm.louvain_communities(G)\n",
    "# Create a list of the number of nodes in each community\n",
    "sizes = [len(c) for c in partition]\n",
    "print(\n",
    "    f'The average community size is {round(np.mean(sizes), 2)}, with a standard deviation of {round(np.std(sizes), 2)}. The largest is of size {np.max(sizes)} and the smallest {np.min(sizes)}')"
   ],
   "metadata": {
    "collapsed": false
   }
  },
  {
   "cell_type": "code",
   "execution_count": null,
   "outputs": [],
   "source": [
    "# Create a np array of nodes to use for finding their positions in the graph's list\n",
    "G_where = np.array(G.nodes)\n",
    "# Initialize the array for colours and the values for which to colour\n",
    "degreeColor = np.empty(len(G_where), dtype=object)\n",
    "valueToPlot = np.log10(sizes)\n",
    "# we rescale the colours to be in the RGB format (0 to 255 for three colours)\n",
    "valueToPlotRescaled = 255*(valueToPlot - np.min(valueToPlot))/np.max(valueToPlot)\n",
    "\n",
    "for size, c in zip(sizes, partition):\n",
    "    for node in c:\n",
    "        # Use the size to set the colour\n",
    "        color = '#%02x%02x%02x' % (int(size), 0, 50)\n",
    "        degreeColor[np.where(G_where == node)] = color\n",
    "# zip it up into a dictionary and set it as node attribute\n",
    "dictionaryColor = dict(zip(list(G.nodes), degreeColor))\n",
    "nx.set_node_attributes(G, dictionaryColor, 'group')"
   ],
   "metadata": {
    "collapsed": false
   }
  },
  {
   "cell_type": "code",
   "execution_count": null,
   "outputs": [],
   "source": [
    "def modularity(G, communities):\n",
    "    m = G.number_of_edges()\n",
    "    q = .0\n",
    "    for c in communities:\n",
    "        lc = G.subgraph(c).number_of_edges()\n",
    "        kc = sum(G.degree(n) for n in c)\n",
    "        q += lc / m - (kc / (2 * m)) ** 2\n",
    "    return q\n",
    "\n",
    "modularity_from_current_communities = modularity(G, partition)"
   ],
   "metadata": {
    "collapsed": false
   }
  }
 ],
 "metadata": {
  "kernelspec": {
   "display_name": "Python 3",
   "language": "python",
   "name": "python3"
  },
  "language_info": {
   "codemirror_mode": {
    "name": "ipython",
    "version": 2
   },
   "file_extension": ".py",
   "mimetype": "text/x-python",
   "name": "python",
   "nbconvert_exporter": "python",
   "pygments_lexer": "ipython2",
   "version": "2.7.6"
  }
 },
 "nbformat": 4,
 "nbformat_minor": 0
}
