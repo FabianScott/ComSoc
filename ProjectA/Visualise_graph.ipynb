{
 "cells": [
  {
   "cell_type": "code",
   "execution_count": 1,
   "metadata": {
    "pycharm": {
     "is_executing": true
    }
   },
   "outputs": [],
   "source": [
    "import os\n",
    "import re\n",
    "from ast import literal_eval\n",
    "from tqdm import tqdm\n",
    "import pickle\n",
    "import numpy as np\n",
    "import pandas as pd\n",
    "import netwulf as nw\n",
    "import networkx as nx\n",
    "from scipy import stats as st\n",
    "import matplotlib.pyplot as plt\n",
    "from collections import defaultdict\n",
    "import networkx.algorithms.community as nx_comm\n",
    "import colorsys\n",
    "import random"
   ]
  },
  {
   "cell_type": "code",
   "execution_count": 2,
   "metadata": {},
   "outputs": [],
   "source": [
    "df_texts = pd.read_csv('descriptions.csv', sep=';', converters={'properties': literal_eval})\n",
    "\n",
    "stylized_network, config, G = nw.load(\"Graph.json\")"
   ]
  },
  {
   "cell_type": "code",
   "execution_count": 3,
   "metadata": {},
   "outputs": [],
   "source": [
    "def return_set():\n",
    "    return set()\n",
    "def return_list():\n",
    "    return []\n",
    "properties_dict = defaultdict(return_set)\n",
    "for dic in df_texts['properties']:\n",
    "    for el in dic.keys():\n",
    "        for el1 in dic[el]:\n",
    "            properties_dict[el].add(el1)"
   ]
  },
  {
   "cell_type": "code",
   "execution_count": 4,
   "metadata": {},
   "outputs": [],
   "source": [
    "def generate_colors(n):\n",
    "    # Set the number of color hues to evenly space the colors\n",
    "    hue_values = [i/n for i in range(n)]\n",
    "    saturation = 0.5\n",
    "    value = 0.95\n",
    "\n",
    "    # Convert the HSV color values to RGB format and store them in a list\n",
    "    colors = []\n",
    "    for hue in hue_values:\n",
    "        r, g, b = colorsys.hsv_to_rgb(hue, saturation, value)\n",
    "        r, g, b = int(r * 255), int(g * 255), int(b * 255)\n",
    "        colors.append((r, g, b))\n",
    "\n",
    "    # Shuffle the list to randomize the order of colors\n",
    "    random.shuffle(colors)\n",
    "\n",
    "    return colors\n",
    "\n",
    "def graph_with_grouping(properties_dict, attribute, properties_list, Graph, return_communities=False):\n",
    "    \"\"\"\n",
    "    Given the dictionay of properties and the property/attribute\n",
    "    of interest, along with the list of properties ordered by\n",
    "    node, return the graph with randomised colors.\n",
    "    If return_communities, it will return a list of lists of\n",
    "    communities\n",
    "    :param properties_dict:\n",
    "    :param attribute:\n",
    "    :param Graph:\n",
    "    :return:\n",
    "    \"\"\"\n",
    "    from copy import deepcopy\n",
    "\n",
    "    Graph = deepcopy(Graph)\n",
    "    possible_values = properties_dict[attribute]\n",
    "    colors_avail = generate_colors(len(possible_values))\n",
    "    color_dict = {key: value for key, value in zip(possible_values, colors_avail)}\n",
    "    color_list = []\n",
    "    communities = defaultdict(return_list)\n",
    "\n",
    "    for props, node in zip(properties_list, Graph.nodes):\n",
    "        # Use the size to set the colour\n",
    "        \n",
    "        if attribute in props.keys():\n",
    "            communities[props[attribute][0]].append(node)\n",
    "            color = '#%02x%02x%02x' % color_dict[props[attribute][0]]\n",
    "        else:\n",
    "#             communities[None].append(node)\n",
    "            color = '#%02x%02x%02x' % (150, 150, 150)\n",
    "        color_list.append(color)\n",
    "        \n",
    "    # zip it up into a dictionary and set it as node attribute\n",
    "    dictionaryColor = dict(zip(list(Graph.nodes), color_list))\n",
    "    nx.set_node_attributes(Graph, dictionaryColor, 'group')\n",
    "    \n",
    "    if return_communities:\n",
    "        communities = [val for val in communities.values()]\n",
    "        return Graph, communities\n",
    "    return Graph\n",
    "\n",
    "def modularity(G, communities):\n",
    "    m = G.number_of_edges()\n",
    "    q = .0\n",
    "    for c in communities:\n",
    "        lc = G.subgraph(c).number_of_edges()\n",
    "        kc = sum(G.degree(n) for n in c)\n",
    "        q += lc / m - (kc / (2 * m)) ** 2\n",
    "    return q"
   ]
  },
  {
   "cell_type": "code",
   "execution_count": null,
   "metadata": {},
   "outputs": [
    {
     "name": "stdout",
     "output_type": "stream",
     "text": [
      "Appearances has modularity: 0.3005900808653643\n"
     ]
    }
   ],
   "source": [
    "for attribute in properties_dict.keys():\n",
    "    G1, communities = graph_with_grouping(properties_dict, attribute, properties_list, G, return_communities=True)\n",
    "    network, config = nw.visualize(G1, config={'zoom':0.73, 'node charge':-15, 'node gravity': 0.7, 'post to python': True})\n",
    "    nx.draw(G1)\n",
    "#     nw.save(f\"Graph_{attribute}.json\", network, config, G1)\n",
    "    plt.savefig(f\"Graph_{attribute}.png\")\n",
    "    print(f\"{attribute} has modularity: {modularity(G1, communities)}\")"
   ]
  }
 ],
 "metadata": {
  "kernelspec": {
   "display_name": "Python 3 (ipykernel)",
   "language": "python",
   "name": "python3"
  },
  "language_info": {
   "codemirror_mode": {
    "name": "ipython",
    "version": 3
   },
   "file_extension": ".py",
   "mimetype": "text/x-python",
   "name": "python",
   "nbconvert_exporter": "python",
   "pygments_lexer": "ipython3",
   "version": "3.10.5"
  }
 },
 "nbformat": 4,
 "nbformat_minor": 1
}
