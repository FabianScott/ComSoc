{
 "cells": [
  {
   "cell_type": "code",
   "execution_count": 1,
   "metadata": {},
   "outputs": [],
   "source": [
    "import os\n",
    "import ast\n",
    "import re\n",
    "from ast import literal_eval\n",
    "from tqdm import tqdm\n",
    "import pickle\n",
    "import numpy as np\n",
    "import pandas as pd\n",
    "import netwulf as nw\n",
    "import networkx as nx\n",
    "from scipy import stats as st\n",
    "import matplotlib.pyplot as plt\n",
    "from collections import defaultdict\n",
    "import networkx.algorithms.community as nx_comm\n",
    "import colorsys\n",
    "import random"
   ]
  },
  {
   "cell_type": "code",
   "execution_count": 2,
   "metadata": {},
   "outputs": [],
   "source": [
    "# Load the network\n",
    "df_texts = pd.read_csv('descriptions.csv', sep=';', converters={'properties': literal_eval})\n",
    "stylized_network, config, G = nw.load(\"Graph.json\")"
   ]
  },
  {
   "cell_type": "code",
   "execution_count": 3,
   "metadata": {},
   "outputs": [],
   "source": [
    "# Create a dictionary and list in the format used by the functions\n",
    "def return_set():\n",
    "    return set()\n",
    "def return_list():\n",
    "    return []\n",
    "properties_dict = defaultdict(return_set)\n",
    "for dic in df_texts['properties']:\n",
    "    for el in dic.keys():\n",
    "        for el1 in dic[el]:\n",
    "            properties_dict[el].add(el1)\n",
    "properties_list = []\n",
    "for prop in df_texts['properties']:\n",
    "    properties_list.append(prop)"
   ]
  },
  {
   "cell_type": "code",
   "execution_count": 4,
   "metadata": {},
   "outputs": [],
   "source": [
    "def generate_colors(n):\n",
    "    # Set the number of color hues to evenly space the colors\n",
    "    hue_values = [i/n for i in range(n)]\n",
    "    saturation = 0.5\n",
    "    value = 0.95\n",
    "\n",
    "    # Convert the HSV color values to RGB format and store them in a list\n",
    "    colors = []\n",
    "    for hue in hue_values:\n",
    "        r, g, b = colorsys.hsv_to_rgb(hue, saturation, value)\n",
    "        r, g, b = int(r * 255), int(g * 255), int(b * 255)\n",
    "        colors.append((r, g, b))\n",
    "\n",
    "    # Shuffle the list to randomize the order of colors\n",
    "    random.shuffle(colors)\n",
    "\n",
    "    return colors\n",
    "\n",
    "def graph_with_grouping(properties_dict, attribute, properties_list, Graph, return_communities=False, return_dict=False):\n",
    "    \"\"\"\n",
    "    Given the dictionay of properties and the property/attribute\n",
    "    of interest, along with the list of properties ordered by\n",
    "    node, return the graph with randomised colors.\n",
    "    If return_communities, it will return a list of lists of\n",
    "    communities\n",
    "    :param properties_dict:\n",
    "    :param attribute:\n",
    "    :param Graph:\n",
    "    :return:\n",
    "    \"\"\"\n",
    "    from copy import deepcopy\n",
    "\n",
    "    Graph = deepcopy(Graph)\n",
    "    possible_values = properties_dict[attribute]\n",
    "    colors_avail = generate_colors(len(possible_values))\n",
    "    color_dict = {key: value for key, value in zip(possible_values, colors_avail)}\n",
    "    color_dict['None'] = (150, 150, 150)\n",
    "    color_list = []\n",
    "    communities = defaultdict(return_list)\n",
    "\n",
    "    for props, node in zip(properties_list, Graph.nodes):\n",
    "        # Use the size to set the colour\n",
    "        \n",
    "        if attribute in props.keys():\n",
    "            communities[props[attribute][0]].append(node)\n",
    "            color = '#%02x%02x%02x' % color_dict[props[attribute][0]]\n",
    "        else:\n",
    "#             communities[None].append(node)\n",
    "            color = '#%02x%02x%02x' % (150, 150, 150)\n",
    "        color_list.append(color)\n",
    "        \n",
    "    # zip it up into a dictionary and set it as node attribute\n",
    "    dictionaryColor = dict(zip(list(Graph.nodes), color_list))\n",
    "    nx.set_node_attributes(Graph, dictionaryColor, 'group')\n",
    "    communities = [val for val in communities.values()]\n",
    "    if return_dict:\n",
    "        return Graph, communities, color_dict\n",
    "    if return_communities:\n",
    "        return Graph, communities\n",
    "    return Graph\n",
    "\n",
    "def graph_with_louvain(Graph, communities, return_dict=False):\n",
    "    \"\"\"\n",
    "    Given the dictionay of properties and the property/attribute\n",
    "    of interest, along with the list of properties ordered by\n",
    "    node, return the graph with randomised colors.\n",
    "    If return_communities, it will return a list of lists of\n",
    "    communities\n",
    "    :param properties_dict:\n",
    "    :param attribute:\n",
    "    :param Graph:\n",
    "    :return:\n",
    "    \"\"\"\n",
    "    from copy import deepcopy\n",
    "\n",
    "    Graph = deepcopy(Graph)\n",
    "    # possible_values = properties_dict[attribute]\n",
    "    colors_avail = generate_colors(len(communities))\n",
    "    color_dict = {}\n",
    "\n",
    "    for com_set, color in zip(communities, colors_avail):\n",
    "        for val in com_set:\n",
    "            color_dict[val] = color\n",
    "\n",
    "    color_list = []\n",
    "    for node in Graph.nodes:\n",
    "        # Use the size to set the colour\n",
    "        color = '#%02x%02x%02x' % color_dict[node]\n",
    "        color_list.append(color)\n",
    "\n",
    "    # zip it up into a dictionary and set it as node attribute\n",
    "    dictionaryColor = dict(zip(list(Graph.nodes), color_list))\n",
    "    nx.set_node_attributes(Graph, dictionaryColor, 'group')\n",
    "\n",
    "    if return_dict:\n",
    "        return Graph, color_dict\n",
    "    return Graph\n",
    "\n",
    "def modularity(G, communities):\n",
    "    m = G.number_of_edges()\n",
    "    q = .0\n",
    "    for c in communities:\n",
    "        lc = G.subgraph(c).number_of_edges()\n",
    "        kc = sum(G.degree(n) for n in c)\n",
    "        q += lc / m - (kc / (2 * m)) ** 2\n",
    "    return q"
   ]
  },
  {
   "cell_type": "markdown",
   "metadata": {},
   "source": [
    "The following section creates the clusterings based on each attribute and visualises them using netwulf. We create the legends seperately because some of them are massive"
   ]
  },
  {
   "cell_type": "code",
   "execution_count": null,
   "metadata": {
    "pycharm": {
     "is_executing": true
    }
   },
   "outputs": [
    {
     "name": "stderr",
     "output_type": "stream",
     "text": [
      "C:\\Users\\toell\\AppData\\Local\\Temp\\ipykernel_35500\\1947316304.py:9: UserWarning: This figure includes Axes that are not compatible with tight_layout, so results might be incorrect.\n",
      "  plt.tight_layout()\n"
     ]
    },
    {
     "name": "stdout",
     "output_type": "stream",
     "text": [
      "Appearances has modularity: 0.3005900808653643\n",
      "species has modularity: 0.05355279221802146\n",
      "droid has modularity: 0.0007572923230413778\n",
      "Dimensions has modularity: 0.00238099926486032\n",
      "Weapons has modularity: 0.034859240443184225\n",
      "Locations has modularity: 0.08993810386473433\n",
      "Affiliations has modularity: 0.10825834252257929\n",
      "Gender has modularity: -0.0011822949485401774\n",
      "Vehicles has modularity: 0.020455917874396136\n",
      "Creature has modularity: -1.0666089056920815e-05\n",
      "generic has modularity: -3.2818735559756356e-06\n",
      "star wars has modularity: -5.5791850451585804e-05\n",
      "Tool has modularity: -0.0018362082545683679\n"
     ]
    }
   ],
   "source": [
    "import matplotlib.patches as mpatches\n",
    "\n",
    "color_dicts, modularities = [], []\n",
    "for attribute in properties_dict.keys():\n",
    "    # Creates the graph with attributes and corresponding colours\n",
    "    G1, communities, color_dict = graph_with_grouping(properties_dict, attribute, properties_list, G, return_dict=True)\n",
    "    network, config = nw.visualize(G1, config={'zoom':0.73, 'node charge':-15, 'node gravity': 0.7, 'post to python': True})\n",
    "    nx.draw(G1)\n",
    "    plt.tight_layout()\n",
    "    plt.savefig(f\"Graph_{attribute}.png\")\n",
    "    # nw.save(f\"Graph_{attribute}.json\", network, config, G1)\n",
    "\n",
    "    legendFig = plt.figure(\"Legend plot\")\n",
    "    handles = [mpatches.Patch(color=np.array(val)/255, label=key) for key, val in color_dict.items()]\n",
    "    # plt.legend(handles=handles)\n",
    "    legendFig.legend(handles=handles)\n",
    "    legendFig.set_figheight(10)\n",
    "    legendFig.savefig(f'legend_{attribute}.png')\n",
    "    modul = modularity(G1, communities)\n",
    "    print(f\"{attribute} has modularity: {modul}\")\n",
    "    # print(color_dict)\n",
    "    modularities.append(modul)\n",
    "    color_dicts.append(color_dict)\n",
    "    plt.clf()"
   ]
  },
  {
   "cell_type": "markdown",
   "metadata": {},
   "source": [
    "When looking at the modularities of the different clusterings, the only one above 0.25 is appearances. This is unsurprising as the appearances are a solid explanation for a link. If the two characters appear in the same material there is a high likelihood that they have something to do with each other."
   ]
  },
  {
   "cell_type": "code",
   "execution_count": null,
   "metadata": {},
   "outputs": [],
   "source": [
    "modularities"
   ]
  },
  {
   "cell_type": "code",
   "execution_count": null,
   "metadata": {},
   "outputs": [],
   "source": [
    "partition = nx_comm.louvain_communities(G)\n",
    "G1 = graph_with_louvain(G, partition)\n",
    "network, config = nw.visualize(G1, config={'zoom':0.73, 'node charge':-15, 'node gravity': 0.7, 'post to python': True})\n",
    "nx.draw(G1)\n",
    "plt.savefig(f\"Graph_louvain.png\")\n",
    "print(f'Louvain groups have modularity {modularity(G1, partition)}')"
   ]
  },
  {
   "cell_type": "markdown",
   "metadata": {},
   "source": [
    "Text for the section:\n",
    "In this section we show the graph coloured by property for each of the different properties found in our source. Some are rather sparse, as only a handful of character have any value for the property. There is a huge number of nodes that have no links to any other node. This is to be expected due to the nature of characters in the expanded universe of Star Wars. Many characters are introduced in obscure media such as books that few people read, and thus our source does not have much to say about them, leading to no connections. There are two properties in particular we wish to highlight. Firstly, the appearances graph shows that the material in which a character appears is a good predictor of being connected to one another. Secondly, the affiliations graph shows how what side you support does not indicate whether you are linked, despite this being an intuitive way of making connection. These two observations are supported by the modularity for each of the properties. The rest of the properties have very low modularity, and we thus conclude that the only good clustering to be found amongst properties is that of appearances.\n",
    "The final graph shown is the clustering created by the Louvain algorithm. This is closest to matching the appearances clustering.\n",
    "The bi-directionality of the graph does lead to some loss of information as the nature of the edges is a mention in one article of the other. However, we decided that such a connection should be a between both character as there were so few connections in the entire graph. We did consider using other sources to add nodes to the graph, but could not find sufficient material or methods to achieve this.\n",
    "Our main insight from the graph, is the strong connection that appearing in the same material provides, and that most other properties do not result in a link between two characters in our data source."
   ]
  },
  {
   "cell_type": "markdown",
   "metadata": {},
   "source": [
    "Så kommer alle graferne side om side med deres legends og modularity, starter med Appearances og Affiliations. Den sidste graf er Louvain-grafen. "
   ]
  }
 ],
 "metadata": {
  "kernelspec": {
   "display_name": "Python 3 (ipykernel)",
   "language": "python",
   "name": "python3"
  },
  "language_info": {
   "codemirror_mode": {
    "name": "ipython",
    "version": 3
   },
   "file_extension": ".py",
   "mimetype": "text/x-python",
   "name": "python",
   "nbconvert_exporter": "python",
   "pygments_lexer": "ipython3",
   "version": "3.10.5"
  }
 },
 "nbformat": 4,
 "nbformat_minor": 1
}
