{
 "cells": [
  {
   "attachments": {},
   "cell_type": "markdown",
   "metadata": {},
   "source": [
    "----"
   ]
  },
  {
   "attachments": {},
   "cell_type": "markdown",
   "metadata": {},
   "source": [
    "### Discussion:\n"
   ]
  },
  {
   "attachments": {},
   "cell_type": "markdown",
   "metadata": {},
   "source": [
    "#### We will now try to answer some of the question that we intended to answer from the introduction:"
   ]
  },
  {
   "attachments": {},
   "cell_type": "markdown",
   "metadata": {},
   "source": [
    "----"
   ]
  },
  {
   "attachments": {},
   "cell_type": "markdown",
   "metadata": {},
   "source": [
    "##### What are the most dominant groups? Are the characters mainly connected by social, political or other types of relationsships?"
   ]
  },
  {
   "attachments": {},
   "cell_type": "markdown",
   "metadata": {},
   "source": [
    "The dominant groups are the appearances. This means that the likelihood of two nodes being connected is highly determined by the material in which two characters appear. This makes a lot of sense as screen time together probably means interaction. The source from which we got the data is also inherently biased towards this type of interaction, as the nature of the movies means that sharing a scene correlates with having a meaningful relation."
   ]
  },
  {
   "attachments": {},
   "cell_type": "markdown",
   "metadata": {},
   "source": [
    "---\n",
    "##### What are the words from each group dominated by? Are there any significant differences in the words used in the different groups?"
   ]
  },
  {
   "attachments": {},
   "cell_type": "markdown",
   "metadata": {},
   "source": [
    "We discovered that it was indeed very easy to distinguish most of the big factions/groups by each other. With some groups mainly being dominated by military and hierarchical terms (the Empire), while others were dominated by more social and political terms (the Republic). The Jedi Order being very self-contained with terms related to their ideology etc. And the Rebels and the Resistance being very similar in their use of terms, with the Resistance including a lot of new names and words, because it is further ahead in time."
   ]
  },
  {
   "attachments": {},
   "cell_type": "markdown",
   "metadata": {},
   "source": [
    "---- \n",
    "##### We wanted to find out which characters where the most dominant in each movie. Would that match our expectation?"
   ]
  },
  {
   "attachments": {},
   "cell_type": "markdown",
   "metadata": {},
   "source": [
    "It did! It seems that all characters end up having the (very close to) same number of connections at the end. We can see that they do not have the same amount of dialogues, which means some people interact more with each other than others. The table in the page \"Movie Scripts\" proves the analysis made for each of the main characters. Luke is having many conversations with many different people. C-3PO has a bunch of conversation, but that with as many different people. Vader has the least amount of dialogues, but second most relationsships. Leia and Han have least amount of relationsships, but han with double the amount of dialogues. This matches the storyline in the movies."
   ]
  },
  {
   "attachments": {},
   "cell_type": "markdown",
   "metadata": {},
   "source": [
    "----\n",
    "##### Could we predict the story of the movie by using TF-IDF?"
   ]
  },
  {
   "attachments": {},
   "cell_type": "markdown",
   "metadata": {},
   "source": [
    "It wasn't exactly possible to predict the future story using TF-IDF, but it was possible to predict which episode was which based only on the TF-IDF plots."
   ]
  },
  {
   "attachments": {},
   "cell_type": "markdown",
   "metadata": {},
   "source": [
    "----"
   ]
  },
  {
   "attachments": {},
   "cell_type": "markdown",
   "metadata": {},
   "source": [
    "##### What where the most used words by each main character? What are their semantics?"
   ]
  },
  {
   "attachments": {},
   "cell_type": "markdown",
   "metadata": {},
   "source": [
    "Interestingly enough the words that often dominated the TF-IDF scores were exclamations like \"Oh\", \"Ohh\" and \"Uh\" for characters like C-3PO, and some for Luke Skywalker as well. And a laidback character like Han Solo had a lot of \"Yeah\", \"Ok\" and \"Hey\" in his vocabulary. But the most used words were often names of other characters, which makes sense, because the characters often talk about each other."
   ]
  },
  {
   "attachments": {},
   "cell_type": "markdown",
   "metadata": {},
   "source": [
    "---"
   ]
  },
  {
   "attachments": {},
   "cell_type": "markdown",
   "metadata": {},
   "source": [
    "- What went well?\n",
    "- What is still missing? What could be improved? Why?"
   ]
  },
  {
   "attachments": {},
   "cell_type": "markdown",
   "metadata": {},
   "source": [
    "We do feel like, we got some information out of this project. We think a lot of things could have been done better. Most of our time where spent of the graphs and TF-IDF. The graphs did not pay off. It was very close to impossible to see anything on them, although we did get a tiny bit of information.\n",
    "\n",
    "The TF-IDF went a lot better, and we used in both with the characters and movie scripts. We think that is the strongest part of this project.\n",
    "\n",
    "If we had more time, we would have:\n",
    "1. Gathered more data: We think it is possible to gather more data about Star Wars and analyze those.\n",
    "2. Do more work on the graphs to get better insight into the groups and social structures within. Unfortunately we were not really able to answer this question: \"Are the characters mainly connected by social, political or other types of relationsships?\", which we really would have loved to be able to.\n",
    "\n",
    "We hope that the website gives whoever visits it some insight into the social structures in the Star Wars Universe. We did think that we personally did get some more knowledge about how the different characters interact and the words they use."
   ]
  },
  {
   "cell_type": "markdown",
   "metadata": {},
   "source": []
  }
 ],
 "metadata": {
  "kernelspec": {
   "display_name": "Python 3.11.2 64-bit",
   "language": "python",
   "name": "python3"
  },
  "language_info": {
   "name": "python",
   "version": "3.11.2"
  },
  "orig_nbformat": 4,
  "vscode": {
   "interpreter": {
    "hash": "b0fa6594d8f4cbf19f97940f81e996739fb7646882a419484c72d19e05852a7e"
   }
  }
 },
 "nbformat": 4,
 "nbformat_minor": 2
}
