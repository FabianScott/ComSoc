{
 "cells": [
  {
   "cell_type": "code",
   "execution_count": 1,
   "metadata": {
    "collapsed": true
   },
   "outputs": [],
   "source": [
    "import numpy as np\n",
    "import networkx as nx\n",
    "import netwulf as nw\n",
    "import matplotlib.pyplot as plt\n",
    "import netwulf.interactive as interact\n",
    "stylized_network, config, G = nw.load(\"Graph.json\")"
   ]
  },
  {
   "cell_type": "code",
   "execution_count": 2,
   "outputs": [],
   "source": [
    "N = len(G.nodes)\n",
    "L = len(G.edges)\n",
    "degrees = np.array([d for _, d in G.degree()])\n",
    "\n",
    "p = 2 * L /(N * (N - 1))\n",
    "k = p * (N - 1)"
   ],
   "metadata": {
    "collapsed": false
   }
  },
  {
   "cell_type": "code",
   "execution_count": 3,
   "outputs": [],
   "source": [
    "G_random = nx.Graph()\n",
    "N = len(G.nodes)\n",
    "nodes = np.array(range(N))\n",
    "G_random.add_nodes_from(nodes)\n",
    "for node in G_random.nodes:\n",
    "    mask = np.random.random(N) < p\n",
    "    masked = nodes[mask]\n",
    "    node_vector = np.ones(len(masked)) * node\n",
    "    temp = np.column_stack((node_vector, masked))\n",
    "    G_random.add_edges_from(temp)"
   ],
   "metadata": {
    "collapsed": false
   }
  },
  {
   "cell_type": "code",
   "execution_count": 4,
   "outputs": [
    {
     "data": {
      "text/plain": "1283"
     },
     "execution_count": 4,
     "metadata": {},
     "output_type": "execute_result"
    }
   ],
   "source": [
    "np.max(degrees)"
   ],
   "metadata": {
    "collapsed": false
   }
  },
  {
   "cell_type": "code",
   "execution_count": 5,
   "outputs": [],
   "source": [
    "degrees = [d for _, d in G.degree()]\n",
    "# degrees[degrees != 0] = np.log(degrees[degrees != 0])\n",
    "degrees_random = np.array([d for _, d in G_random.degree()])\n",
    "degrees = np.array(degrees)"
   ],
   "metadata": {
    "collapsed": false
   }
  },
  {
   "cell_type": "code",
   "execution_count": 6,
   "outputs": [
    {
     "name": "stderr",
     "output_type": "stream",
     "text": [
      "C:\\Users\\toell\\AppData\\Local\\Temp\\ipykernel_29664\\2671511182.py:3: RuntimeWarning: divide by zero encountered in log10\n",
      "  hist = np.histogram(np.log10(degrees), bins=bins, density=True)\n"
     ]
    },
    {
     "data": {
      "text/plain": "((array([0.        , 0.        , 0.        , 0.        , 0.        ,\n         0.        , 0.        , 0.        , 0.00077942]),\n  array([1.00000000e-50, 7.96001842e-45, 6.33618933e-39, 5.04361838e-33,\n         4.01472952e-27, 3.19573210e-21, 2.54380864e-15, 2.02487636e-09,\n         1.61180531e-03, 1.28300000e+03])),\n array([1.00000000e-50, 7.96001842e-45, 6.33618933e-39, 5.04361838e-33,\n        4.01472952e-27, 3.19573210e-21, 2.54380864e-15, 2.02487636e-09,\n        1.61180531e-03, 1.28300000e+03]))"
     },
     "execution_count": 6,
     "metadata": {},
     "output_type": "execute_result"
    }
   ],
   "source": [
    "bins = np.logspace(start=np.log10(degrees.min()+1e-50), stop=np.log10(degrees.max()), num=10)\n",
    "# widths = bins[1:] - bins[:-1]\n",
    "hist = np.histogram(np.log10(degrees), bins=bins, density=True)\n",
    "# hist_norm = hist[0]/widths\n",
    "hist_random = np.histogram(degrees_random, bins=10, density=True)\n",
    "hist, bins"
   ],
   "metadata": {
    "collapsed": false
   }
  },
  {
   "cell_type": "code",
   "execution_count": 14,
   "outputs": [
    {
     "data": {
      "text/plain": "<Figure size 640x480 with 2 Axes>",
      "image/png": "[encoded data removed]"
     },
     "metadata": {},
     "output_type": "display_data"
    }
   ],
   "source": [
    "# Generate some sample data\n",
    "data = degrees + 1\n",
    "\n",
    "# Create logarithmically spaced bins\n",
    "bins = np.logspace(start=np.log10(np.min(data)), stop=np.log10(np.max(data)), num=10)\n",
    "\n",
    "fig, axs = plt.subplots(1, 2)\n",
    "# Plot the histogram\n",
    "axs[0].hist(data, bins=bins, log=True, density=True)\n",
    "axs[1].hist(degrees_random, bins=10, density=True)\n",
    "# Add axis labels and a title\n",
    "\n",
    "# Show the plot\n",
    "plt.show()\n"
   ],
   "metadata": {
    "collapsed": false
   }
  },
  {
   "cell_type": "code",
   "execution_count": 15,
   "outputs": [],
   "source": [
    "connected_largest = sorted(nx.algorithms.connected_components(G), key=len, reverse=True)[0]\n",
    "G_sub = nx.Graph.subgraph(G, connected_largest)"
   ],
   "metadata": {
    "collapsed": false
   }
  },
  {
   "cell_type": "code",
   "execution_count": null,
   "outputs": [],
   "source": [
    "import time\n",
    "t = time.time()\n",
    "avg_shortest_sub = nx.average_shortest_path_length(G_sub)\n",
    "print(f'It took {time.time()-t} to complete: {avg_shortest_sub}')"
   ],
   "metadata": {
    "collapsed": false,
    "pycharm": {
     "is_executing": true
    }
   }
  },
  {
   "cell_type": "code",
   "execution_count": null,
   "outputs": [],
   "source": [
    "avg_shortest_random = nx.average_shortest_path_length(G_random)\n",
    "avg_shortest_sub"
   ],
   "metadata": {
    "collapsed": false
   }
  },
  {
   "cell_type": "code",
   "execution_count": null,
   "outputs": [],
   "source": [
    "nx.clustering(G), nx.clustering(G_random), nx.clustering(G_sub)"
   ],
   "metadata": {
    "collapsed": false
   }
  }
 ],
 "metadata": {
  "kernelspec": {
   "display_name": "Python 3",
   "language": "python",
   "name": "python3"
  },
  "language_info": {
   "codemirror_mode": {
    "name": "ipython",
    "version": 2
   },
   "file_extension": ".py",
   "mimetype": "text/x-python",
   "name": "python",
   "nbconvert_exporter": "python",
   "pygments_lexer": "ipython2",
   "version": "2.7.6"
  }
 },
 "nbformat": 4,
 "nbformat_minor": 0
}
