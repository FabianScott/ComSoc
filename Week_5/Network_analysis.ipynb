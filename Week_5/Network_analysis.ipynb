{
 "cells": [
  {
   "cell_type": "code",
   "execution_count": null,
   "metadata": {
    "collapsed": true
   },
   "outputs": [],
   "source": [
    "import numpy as np\n",
    "import networkx as nx\n",
    "import netwulf.interactive as nw_int\n",
    "import netwulf.interactive as interact\n",
    "G = nx.Graph()"
   ]
  },
  {
   "cell_type": "code",
   "execution_count": 1,
   "outputs": [
    {
     "data": {
      "text/plain": "'C:\\\\Users\\\\toell\\\\OneDrive\\\\Documents\\\\GitHub\\\\ComSoc\\\\Week_5'"
     },
     "execution_count": 1,
     "metadata": {},
     "output_type": "execute_result"
    }
   ],
   "source": [
    "N = len(G.nodes)\n",
    "L = len(G.edges)\n",
    "degrees = np.array([d for _, d in G.degree()])\n",
    "\n",
    "p = 2 * L /(N * (N - 1))\n",
    "k = p * (N - 1)"
   ],
   "metadata": {
    "collapsed": false
   }
  },
  {
   "cell_type": "code",
   "execution_count": null,
   "outputs": [],
   "source": [
    "G_random = G.graph()\n",
    "G_random.add_nodes_from(range(len(G.nodes)))\n",
    "for node in G_random.nodes:\n",
    "    for i in range(len(G.nodes)):\n",
    "        rand = np.random.uniform(0, 1, 1)\n",
    "        if rand > p:\n",
    "            G_random.add_edge(*(node, i))\n"
   ],
   "metadata": {
    "collapsed": false
   }
  }
 ],
 "metadata": {
  "kernelspec": {
   "display_name": "Python 3",
   "language": "python",
   "name": "python3"
  },
  "language_info": {
   "codemirror_mode": {
    "name": "ipython",
    "version": 2
   },
   "file_extension": ".py",
   "mimetype": "text/x-python",
   "name": "python",
   "nbconvert_exporter": "python",
   "pygments_lexer": "ipython2",
   "version": "2.7.6"
  }
 },
 "nbformat": 4,
 "nbformat_minor": 0
}
