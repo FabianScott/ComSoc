{
 "cells": [
  {
   "cell_type": "code",
   "execution_count": 9,
   "metadata": {
    "collapsed": true
   },
   "outputs": [],
   "source": [
    "import numpy as np\n",
    "import networkx as nx\n",
    "import netwulf as nw\n",
    "import matplotlib.pyplot as plt\n",
    "import netwulf.interactive as interact\n",
    "stylized_network, config, G = nw.load(\"Graph.json\")\n"
   ]
  },
  {
   "cell_type": "code",
   "execution_count": 10,
   "outputs": [],
   "source": [
    "N = len(G.nodes)\n",
    "L = len(G.edges)\n",
    "degrees = np.array([d for _, d in G.degree()])\n",
    "\n",
    "p = 2 * L /(N * (N - 1))\n",
    "k = p * (N - 1)"
   ],
   "metadata": {
    "collapsed": false
   }
  },
  {
   "cell_type": "code",
   "execution_count": 23,
   "outputs": [
    {
     "ename": "TypeError",
     "evalue": "object of type 'numpy.int32' has no len()",
     "output_type": "error",
     "traceback": [
      "\u001B[1;31m---------------------------------------------------------------------------\u001B[0m",
      "\u001B[1;31mTypeError\u001B[0m                                 Traceback (most recent call last)",
      "Cell \u001B[1;32mIn [23], line 7\u001B[0m\n\u001B[0;32m      5\u001B[0m \u001B[38;5;28;01mfor\u001B[39;00m node \u001B[38;5;129;01min\u001B[39;00m G_random\u001B[38;5;241m.\u001B[39mnodes:\n\u001B[0;32m      6\u001B[0m     mask \u001B[38;5;241m=\u001B[39m np\u001B[38;5;241m.\u001B[39mrandom\u001B[38;5;241m.\u001B[39mrandom(N) \u001B[38;5;241m>\u001B[39m p\n\u001B[1;32m----> 7\u001B[0m     G_random\u001B[38;5;241m.\u001B[39madd_edges_from(nodes[mask])\n",
      "File \u001B[1;32m~\\AppData\\Local\\Programs\\Python\\Python310\\lib\\site-packages\\networkx\\classes\\graph.py:970\u001B[0m, in \u001B[0;36mGraph.add_edges_from\u001B[1;34m(self, ebunch_to_add, **attr)\u001B[0m\n\u001B[0;32m    932\u001B[0m \u001B[38;5;124;03m\"\"\"Add all the edges in ebunch_to_add.\u001B[39;00m\n\u001B[0;32m    933\u001B[0m \n\u001B[0;32m    934\u001B[0m \u001B[38;5;124;03mParameters\u001B[39;00m\n\u001B[1;32m   (...)\u001B[0m\n\u001B[0;32m    967\u001B[0m \u001B[38;5;124;03m>>> G.add_edges_from([(3, 4), (1, 4)], label=\"WN2898\")\u001B[39;00m\n\u001B[0;32m    968\u001B[0m \u001B[38;5;124;03m\"\"\"\u001B[39;00m\n\u001B[0;32m    969\u001B[0m \u001B[38;5;28;01mfor\u001B[39;00m e \u001B[38;5;129;01min\u001B[39;00m ebunch_to_add:\n\u001B[1;32m--> 970\u001B[0m     ne \u001B[38;5;241m=\u001B[39m \u001B[38;5;28;43mlen\u001B[39;49m\u001B[43m(\u001B[49m\u001B[43me\u001B[49m\u001B[43m)\u001B[49m\n\u001B[0;32m    971\u001B[0m     \u001B[38;5;28;01mif\u001B[39;00m ne \u001B[38;5;241m==\u001B[39m \u001B[38;5;241m3\u001B[39m:\n\u001B[0;32m    972\u001B[0m         u, v, dd \u001B[38;5;241m=\u001B[39m e\n",
      "\u001B[1;31mTypeError\u001B[0m: object of type 'numpy.int32' has no len()"
     ]
    }
   ],
   "source": [
    "G_random = nx.Graph()\n",
    "N = len(G.nodes)\n",
    "nodes = np.array(range(N))\n",
    "G_random.add_nodes_from(nodes)\n",
    "for node in G_random.nodes:\n",
    "    mask = np.random.random(N) > p\n",
    "    np.hstack((np.ones(N) * node, nodes[mask]))\n",
    "    G_random.add_edges_from(nodes[mask])\n"
   ],
   "metadata": {
    "collapsed": false
   }
  },
  {
   "cell_type": "code",
   "execution_count": null,
   "outputs": [],
   "source": [
    "degrees = np.array([d for _, d in G.degree()])\n",
    "degrees_random = np.array([d for _, d in G_random.degree()])\n",
    "\n",
    "hist = np.histogram(degrees, nbins=10, log=True, density=True)\n",
    "hist_random = np.histogram(degrees_random, nbins=10, density=True)\n",
    "\n"
   ],
   "metadata": {
    "collapsed": false
   }
  },
  {
   "cell_type": "code",
   "execution_count": null,
   "outputs": [],
   "source": [
    "plt.yscale('log')\n",
    "plt.xscale('log')"
   ],
   "metadata": {
    "collapsed": false
   }
  },
  {
   "cell_type": "code",
   "execution_count": 12,
   "outputs": [
    {
     "ename": "NameError",
     "evalue": "name 'G_random' is not defined",
     "output_type": "error",
     "traceback": [
      "\u001B[1;31m---------------------------------------------------------------------------\u001B[0m",
      "\u001B[1;31mNameError\u001B[0m                                 Traceback (most recent call last)",
      "Cell \u001B[1;32mIn [12], line 1\u001B[0m\n\u001B[1;32m----> 1\u001B[0m G_random\u001B[38;5;241m.\u001B[39mnodes\n",
      "\u001B[1;31mNameError\u001B[0m: name 'G_random' is not defined"
     ]
    }
   ],
   "source": [
    "G_random.nodes"
   ],
   "metadata": {
    "collapsed": false
   }
  }
 ],
 "metadata": {
  "kernelspec": {
   "display_name": "Python 3",
   "language": "python",
   "name": "python3"
  },
  "language_info": {
   "codemirror_mode": {
    "name": "ipython",
    "version": 2
   },
   "file_extension": ".py",
   "mimetype": "text/x-python",
   "name": "python",
   "nbconvert_exporter": "python",
   "pygments_lexer": "ipython2",
   "version": "2.7.6"
  }
 },
 "nbformat": 4,
 "nbformat_minor": 0
}
