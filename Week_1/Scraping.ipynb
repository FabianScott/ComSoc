{
 "cells": [
  {
   "cell_type": "code",
   "execution_count": 9,
   "outputs": [],
   "source": [
    "import requests\n",
    "from bs4 import BeautifulSoup ##A package to work with HTML data\n",
    "import re"
   ],
   "metadata": {
    "collapsed": false,
    "pycharm": {
     "name": "#%%\n"
    }
   }
  },
  {
   "cell_type": "markdown",
   "source": [
    "Link 1:"
   ],
   "metadata": {
    "collapsed": false,
    "pycharm": {
     "name": "#%% md\n"
    }
   }
  },
  {
   "cell_type": "code",
   "execution_count": 11,
   "outputs": [
    {
     "name": "stdout",
     "output_type": "stream",
     "text": [
      "335\n"
     ]
    }
   ],
   "source": [
    "link = \"https://2019.ic2s2.org/oral-presentations/\"\n",
    "r = requests.get(link)\n",
    "soup = BeautifulSoup(r.content)\n",
    "\n",
    "\n",
    "pattern = r\"\\d+\\d+:\\d+\\d+.*\\.\"\n",
    "pattern_names = r\"([A-Z][a-z]+ [A-Z][a-z]+(, [A-Z][a-z]+ [A-Z][a-z]+)*\\.)\"\n",
    "times = re.findall(pattern, str(soup.find_all(\"p\")))\n",
    "names_nonprocessed = re.findall(pattern_names, str(times))\n",
    "names1 = set()\n",
    "for element in names_nonprocessed:\n",
    "    for i in element:\n",
    "        x = i.strip(\",.\").strip().split(\",\")\n",
    "        if len(x) > 1:\n",
    "            for name in x:\n",
    "                name = str(name.strip())\n",
    "                if name not in names1:\n",
    "                    names1.add(name)\n",
    "        else:\n",
    "            names1.add(x[0])\n",
    "print(len(names1))"
   ],
   "metadata": {
    "collapsed": false,
    "pycharm": {
     "name": "#%%\n"
    }
   }
  },
  {
   "cell_type": "markdown",
   "source": [
    "Link 2"
   ],
   "metadata": {
    "collapsed": false,
    "pycharm": {
     "name": "#%% md\n"
    }
   }
  },
  {
   "cell_type": "code",
   "execution_count": 12,
   "outputs": [
    {
     "data": {
      "text/plain": "459"
     },
     "execution_count": 12,
     "metadata": {},
     "output_type": "execute_result"
    }
   ],
   "source": [
    "# ALEXANDER WITTRUP\n",
    "# 2019 POSTER NAMES SCRAPER\n",
    "\n",
    "from bs4 import BeautifulSoup ##A package to work with HTML data\n",
    "import requests #A package to make HTTP requests\n",
    "import re\n",
    "\n",
    "LINK = \"https://2019.ic2s2.org/posters/\"\n",
    "r = requests.get(LINK)\n",
    "soup = BeautifulSoup(r.content)\n",
    "\n",
    "div = soup.find(\"div\",{\"class\":\"col-md-8 page-content-wrap\"})\n",
    "rawstring_list = str(div).split(\"\\n\")[5:-2]\n",
    "\n",
    "names2 = set()\n",
    "for line in rawstring_list:\n",
    "    if line.startswith(\"<li>\"):\n",
    "        line = line[4:]\n",
    "\n",
    "    if line.startswith(\"<\"):\n",
    "        continue\n",
    "\n",
    "    idx = line.find(\"<\")\n",
    "    if idx:\n",
    "        line = line[:idx]\n",
    "\n",
    "    line_list = re.split(\", | and \", line)\n",
    "\n",
    "    for name in line_list:\n",
    "        names2.add(name)\n",
    "\n",
    "len(names2)"
   ],
   "metadata": {
    "collapsed": false,
    "pycharm": {
     "name": "#%%\n"
    }
   }
  },
  {
   "cell_type": "markdown",
   "source": [
    "Link 3:"
   ],
   "metadata": {
    "collapsed": false
   }
  },
  {
   "cell_type": "code",
   "execution_count": null,
   "outputs": [],
   "source": [
    "link = \"https://docs.google.com/spreadsheets/u/0/d/e/2PACX-1vTX9_1Xftn7D-nSI8X9b7tafr_Z0kAbphKdfZ8qUSU9p-syXNsGPdhHl5ZyTnKKL-T6dCEJqtsrn3wy/pubhtml/sheet?headers=false&gid=181378784\"\n",
    "r = requests.get(link)\n",
    "soup = BeautifulSoup(r.content)\n",
    "\n",
    "tr_elements = [element.find_all(\"td\") for element in soup.find_all(\"tr\")]\n",
    "td_elements = []\n",
    "for element in tr_elements:\n",
    "    if len(element) < 2:\n",
    "        continue\n",
    "    td_elements.append(element[2])\n",
    "\n",
    "pattern_td = r'/<td class=\"s[01]\">(.*?)<\\/td>/'\n",
    "tr_elements = [str(element).split(\"<\") for element in td_elements]\n",
    "names_preprocessed = []\n",
    "for lst in tr_elements:\n",
    "    names_not_processed = [str(element).split(\">\") for element in tr_elements]\n",
    "    for lst in names_not_processed:\n",
    "        current_names = lst[1].split(\",\")[:-1]\n",
    "        for current_name in current_names:\n",
    "            names_preprocessed.append(current_name.strip().strip(\",\").strip(\"'\"))\n",
    "\n",
    "final_names = []\n",
    "for name in names_preprocessed[1:]:\n",
    "    if len(name) > 0:\n",
    "        final_names.append(name)\n",
    "\n",
    "print(len(set(final_names)))\n",
    "names3 = set(final_names)\n"
   ],
   "metadata": {
    "collapsed": false,
    "pycharm": {
     "name": "#%%\n"
    }
   }
  },
  {
   "cell_type": "markdown",
   "source": [
    "4th link:"
   ],
   "metadata": {
    "collapsed": false
   }
  },
  {
   "cell_type": "code",
   "execution_count": 4,
   "outputs": [
    {
     "data": {
      "text/plain": "692"
     },
     "execution_count": 4,
     "metadata": {},
     "output_type": "execute_result"
    }
   ],
   "source": [
    "# Fabian:\n",
    "LINK = \"https://easychair.org/smart-program/IC2S2-2021/talk_author_index.html\"\n",
    "r = requests.get(LINK)\n",
    "soup = BeautifulSoup(r.content)\n",
    "\n",
    "names4 = set()\n",
    "rows = soup.find('table').find('tr').find_all('td')[1].find('table').find_all('tr')\n",
    "for row in rows:\n",
    "    if row.find('span') is not None:\n",
    "        first_name = str(row.find('a')).split(',')[-1][:-4]\n",
    "        last_name = str(row.find('a').find('span')).split('>')[-2][:-6]\n",
    "        names4.add(first_name[1:] + ' ' + last_name)\n",
    "len(names4)\n"
   ],
   "metadata": {
    "collapsed": false,
    "pycharm": {
     "name": "#%%\n"
    }
   }
  }
 ],
 "metadata": {
  "kernelspec": {
   "display_name": "Python 3",
   "language": "python",
   "name": "python3"
  },
  "language_info": {
   "codemirror_mode": {
    "name": "ipython",
    "version": 2
   },
   "file_extension": ".py",
   "mimetype": "text/x-python",
   "name": "python",
   "nbconvert_exporter": "python",
   "pygments_lexer": "ipython2",
   "version": "2.7.6"
  }
 },
 "nbformat": 4,
 "nbformat_minor": 0
}