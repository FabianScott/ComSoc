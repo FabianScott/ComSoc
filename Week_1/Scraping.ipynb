{
 "cells": [
  {
   "cell_type": "code",
   "execution_count": null,
   "outputs": [],
   "source": [
    "import requests\n",
    "from bs4 import BeautifulSoup ##A package to work with HTML data\n",
    "\n"
   ],
   "metadata": {
    "collapsed": false,
    "pycharm": {
     "name": "#%%\n"
    }
   }
  },
  {
   "cell_type": "markdown",
   "source": [
    "Link 2"
   ],
   "metadata": {
    "collapsed": false,
    "pycharm": {
     "name": "#%% md\n"
    }
   }
  },
  {
   "cell_type": "code",
   "execution_count": null,
   "outputs": [],
   "source": [
    "# ALEXANDER WITTRUP\n",
    "# 2019 POSTER NAMES SCRAPER\n",
    "\n",
    "from bs4 import BeautifulSoup ##A package to work with HTML data\n",
    "import requests #A package to make HTTP requests\n",
    "import re\n",
    "\n",
    "LINK = \"https://2019.ic2s2.org/posters/\"\n",
    "r = requests.get(LINK)\n",
    "soup = BeautifulSoup(r.content)\n",
    "\n",
    "div = soup.find(\"div\",{\"class\":\"col-md-8 page-content-wrap\"})\n",
    "rawstring_list = str(div).split(\"\\n\")[5:-2]\n",
    "\n",
    "names2 = set()\n",
    "for line in rawstring_list:\n",
    "    if line.startswith(\"<li>\"):\n",
    "        line = line[4:]\n",
    "\n",
    "    if line.startswith(\"<\"):\n",
    "        continue\n",
    "\n",
    "    idx = line.find(\"<\")\n",
    "    if idx:\n",
    "        line = line[:idx]\n",
    "\n",
    "    line_list = re.split(\", | and \", line)\n",
    "\n",
    "    for name in line_list:\n",
    "        names2.add(name)\n",
    "\n",
    "len(names2)\n"
   ],
   "metadata": {
    "collapsed": false,
    "pycharm": {
     "name": "#%%\n"
    }
   }
  },
  {
   "cell_type": "markdown",
   "source": [
    "4th link:"
   ],
   "metadata": {
    "collapsed": false
   }
  },
  {
   "cell_type": "code",
   "execution_count": null,
   "outputs": [],
   "source": [
    "# Fabian:\n",
    "LINK = \"https://easychair.org/smart-program/IC2S2-2021/talk_author_index.html\"\n",
    "r = requests.get(LINK)\n",
    "soup = BeautifulSoup(r.content)\n",
    "\n",
    "names4 = set()\n",
    "rows = soup.find('table').find('tr').find_all('td')[1].find('table').find_all('tr')\n",
    "for row in rows:\n",
    "    if row.find('span') is not None:\n",
    "        first_name = str(row.find('a')).split(',')[-1][:-4]\n",
    "        last_name = str(row.find('a').find('span')).split('>')[-2][:-6]\n",
    "        names4.add(first_name + ' ' + last_name)\n",
    "len(names4)"
   ],
   "metadata": {
    "collapsed": false,
    "pycharm": {
     "name": "#%%\n"
    }
   }
  }
 ],
 "metadata": {
  "kernelspec": {
   "display_name": "Python 3",
   "language": "python",
   "name": "python3"
  },
  "language_info": {
   "codemirror_mode": {
    "name": "ipython",
    "version": 2
   },
   "file_extension": ".py",
   "mimetype": "text/x-python",
   "name": "python",
   "nbconvert_exporter": "python",
   "pygments_lexer": "ipython2",
   "version": "2.7.6"
  }
 },
 "nbformat": 4,
 "nbformat_minor": 0
}