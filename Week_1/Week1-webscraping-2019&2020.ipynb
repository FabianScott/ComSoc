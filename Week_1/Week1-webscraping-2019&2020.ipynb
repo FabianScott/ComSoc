{
 "cells": [
  {
   "cell_type": "markdown",
   "metadata": {},
   "source": [
    "### 2019"
   ]
  },
  {
   "cell_type": "code",
   "execution_count": 3,
   "metadata": {},
   "outputs": [],
   "source": [
    "from bs4 import BeautifulSoup\n",
    "import requests\n",
    "import re"
   ]
  },
  {
   "cell_type": "code",
   "execution_count": 4,
   "metadata": {},
   "outputs": [],
   "source": [
    "link = \"https://2019.ic2s2.org/oral-presentations/\"\n",
    "r = requests.get(link)\n",
    "soup = BeautifulSoup(r.content)"
   ]
  },
  {
   "cell_type": "code",
   "execution_count": 5,
   "metadata": {},
   "outputs": [],
   "source": [
    "pattern = r\"\\d+\\d+:\\d+\\d+.*\\.\"\n",
    "pattern_names = r\"([A-Z][a-z]+ [A-Z][a-z]+(, [A-Z][a-z]+ [A-Z][a-z]+)*\\.)\"\n",
    "times = re.findall(pattern, str(soup.find_all(\"p\")))\n",
    "names_nonprocessed = re.findall(pattern_names, str(times))\n",
    "unique_names = []\n",
    "for element in names_nonprocessed:\n",
    "    for i in element:\n",
    "        x = i.strip(\",.\").strip().split(\",\")\n",
    "        if len(x) > 1:\n",
    "            for name in x:\n",
    "                name = str(name.strip())\n",
    "                if name not in unique_names:\n",
    "                    unique_names.append(name)\n",
    "        else:\n",
    "            if x[0] not in unique_names:\n",
    "                unique_names.append(x[0])"
   ]
  },
  {
   "cell_type": "code",
   "execution_count": 6,
   "metadata": {},
   "outputs": [
    {
     "name": "stdout",
     "output_type": "stream",
     "text": [
      "['Jieyu Ding', 'Qiusi Sun', 'Jingwen Zhang', 'Meeyoung Cha', 'Krishna Gummadi', 'Alexandre Bovet', 'Hernan Makse', 'Ziv Epstein', 'Mohsen Mosleh', 'Antonio Arechar', 'Gordon Pennycook', 'David Rand', 'Yeol Ahn', '', 'Federico Musciotto', 'Sophie Cho', 'Michael Mauskapf', 'Susumu Nagayama', 'Hitoshi Mitsuhashi', 'Ramona Roller', 'Frank Schweitzer', 'Chao Min', 'Yi Bu', 'Jianjun Sun', 'Ying Ding', 'Gianluca Carnabuci', 'Hyejin Youn', 'Milad Abbasiharofteh', 'Tom Broekel', 'Jacob Miller', 'David Gefen', 'Kai Larsen', 'Vadake Narayanan', 'Eszter Bokanyi', 'Aniko Hannak', 'Koen Schoors', 'Marc Keuschnigg', 'Pradip Swarnakar', 'Satyam Mukherjee', 'Hendrik Nunner', 'Chris Janssen', 'Wojtek Przepiorka', 'Yan Leng', 'Xiaowen Dong', 'Alex Pentland', 'Daniele Guariso', 'Omar Guerrero', 'Ulrich Matter', 'Horta Ribeiro', 'Kristina Gligoric', 'Robert West', 'Chico Camargo', 'Scott Hale', 'Ronald Robertson', 'Christo Wilson', 'David Lazer', 'Lorien Jasny', 'Dana Fisher', 'Philip Leifeld', 'Tim Henrichsen', 'Van Aelst', 'David Martens', 'Sander Scholtus', 'Frank Takes', 'Emre Calisir', 'Marco Brambilla', 'Mariluz Congosto', 'Tom Nichols', 'Rasmus Nielsen', 'Lee Woon', 'Aliakbar Akbaritabar', 'Flaminio Squazzoni', 'Bedoor Alshebli', 'Kinga Makovi', 'Talal Rahwan', 'Jichao Li', 'Yian Yin', 'Santo Fortunato', 'Dashun Wang', 'Lee Giles', 'Chaoming Song', 'David Jurgens', 'Thomas Baudin', 'Robert Stelter', 'Daniel Ciganda', 'Nicolas Todd', 'Ravi Bhavnani', 'Karsten Donnay', 'Mirko Reul', 'Dmitry Zinoviev', 'Gary Fireman', 'Spencer Hommel', 'Ming Yin', 'Duncan Watts', 'De Nadai', 'Angelo Cardoso', 'Antonio Lima', 'Bruno Lepri', 'Nuria Oliver', 'Alexandra Olteanu', 'Fernando Diaz', 'Gabriella Kazai', 'Luke Stark', 'Mohamed Musbah', 'Gunter Maris', 'Sanja Hajdinjak', 'Marcella Morris', 'Tyler Amos', 'Anna Shirokanova', 'Olga Silyutina', 'Johannes Wachs', 'Taha Yasseri', 'Balazs Lengyel', 'Janos Kertesz', 'Isak Ladegaard', 'Di Natale', 'David Garcia', 'Kiran Garimella', 'Ashton Anderson', 'Ben Thies', 'Cornelius Puschmann', 'Axel Bruns', 'Jan Overgoor', 'Bogdan State', 'Lada Adamic', 'Alexander Robertson', 'Walid Magdy', 'Sharon Goldwater', 'Francisci Morales', 'Haewoon Kwak', 'Yelena Mejova', 'Adam Pah', 'John Hagan', 'Luis Amaral', 'Johannes Gruber', 'Amit Sharma', 'Jake Hofman', 'Youyou Wu', 'Yang Yang', 'Brian Uzzi', 'Wortman Vaughan', 'Hanna Wallach', 'Dan Goldstein', 'Jessica Hullman', 'Nitin Bhushan', 'Laura Bringmann', 'Casper Albers', 'Linda Steg', 'Ching Jin', 'Johannes Bjelland', 'Geoffrey Canright', 'Hyun Jo', 'Kimmo Kaski', 'Diego Garlaschelli', 'Chathurani Senevirathna', 'Rachel Winter', 'Xi Zhang', 'Martin Hilbert', 'Van Rooy', 'Dimitrios Milioris', 'Etienne Brunet', 'Richard Zemel', 'David Rozado', 'Ivan Smirnov', 'Lukas Fervers', 'Janina Beckmann', 'Joachim Piepenburg', 'Marita Jacob', 'Takanori Nishida', 'Yoshiki Ishikawa', 'Esteban Moro', 'Morgan Frank', 'Alex Rutherford', 'Manuel Cebrian', 'Iyad Rahwan', 'Youn Kwon', 'Lijun Sun', 'Cesar Hidalgo', 'Christos Nicolaides', 'Dean Eckles', 'William Cai', 'Johan Ugander', 'Massimo Riccaboni', 'Tara Sowrirajan', 'Aamena Alshamsi', 'Sune Lehmann', 'Laszlo Barabasi', 'Rebekah Tromble', 'Dong Nguyen', 'Charles Howland', 'David Rothschild', 'Marcel Wittich', 'Jennifer Allen', 'Melissa Ellamil', 'Markus Mobius', 'Subhayan Mukerjee', 'Stefan Wojcik', 'Shawnna Mullenax', 'Anna May', 'Gabor Bekes', 'Andrew King', 'Sait Bayrakdar', 'Al Tamime', 'Masoomali Fatehkia', 'Ingmar Weber', 'De Meo', 'Iacopo Pozzana', 'Ylli Prifti', 'Alessandro Provetti', 'Jens Hainmueller', 'Avidit Acharya', 'Kirk Bansak', 'Garcia Bulle', 'Lisa Merten', 'Nadia Metoui', 'Mykola Makhortykh', 'Damian Trilling', 'Judith Moeller', 'Smart Iii', 'Telmo Menezes', 'Camille Roth', 'Van Eck', 'Daniele Quercia', 'Davide Vega', 'Matteo Magnani', 'Lushi Chen', 'Maria Wolters', 'Isaac Waller', 'Daniel Larremore', 'Swapnil Gavade', 'Elizabeth Bruch', 'Leila Zia', 'Kokil Jaidka', 'Yphtach Lelkes', 'Yizhou Sun', 'David Schoch', 'Amitava Das', 'Sunny Rai', 'Marco Schmitt', 'Alina Vogelgesang', 'Stella Neumann', 'Oliver Hohlfeldt', 'Jennifer Fest', 'Helge Reelfs', 'Tian Yang', 'Binglu Wang', 'Yang Wang', 'James Evans', 'Antonio Traag', 'Ludo Waltman', 'Muyang Li', 'Zhifan Luo', 'Adam Hughes', 'Onyi Lam', 'Milena Tsvetkova', 'Oana Vuculescu', 'Claudia Wagner', 'Yuan Yuan', 'Le Mens', 'Sandro Lera', 'Nate Dwyer', 'Jeremy Burke', 'Ramon Gras', 'Oren Lederman', 'Sandy Pentland', 'Fiona Murray', 'Abigail Jacobs', 'Andrea Cavicchini', 'Kyriacos Vitalis', 'George Pallis', 'Dimosthenis Stefanidis', 'Nicos Nicolaou', 'Marios Dikaiakos', 'Sung Lee', 'Aleksandra Nenko', 'Marina Petrova', 'Nina Savela', 'Max Pellert', 'Atte Oksanen', 'Simon Schweighofer', 'Fredrik Jansson', 'Pontus Strimling', 'Irina Vartanova', 'Kimmo Eriksson', 'Akira Ishii', 'Yasuko Kawahata', 'Samin Aref', 'Zachary Neal', 'Joanna Sterling', 'Chris Tokita', 'Daniel Rubenstein', 'Iain Couzin', 'De Domenico', 'Yifang Ma', 'Ali Faqeeh', 'Filippo Radicchi', 'James Gleeson', 'Jonathan Bright', 'Christa Brelsford', 'Rudy Arthur', 'Hywel Williams', 'Andrea Ballatore', 'Alexandra Pang', 'Florian Lemmerich', 'Simon Walk', 'Markus Strohmaier', 'Mark Musen', 'Vincenz Frey', 'Jesse Shore', 'Alice Jang', 'Ethan Bernstein', 'Kirill Martynov', 'Niccolo Pescetelli', 'Maria Campedelli', 'Hendrik Heuer', 'Andreas Breiter', 'George Lifchits', 'Daniel Goldstein', 'Aleksandra Urman', 'Clara Christner', 'Silke Adam', 'Michaela Maier', 'Pierre Chevrot', 'Aurelie Nardy', 'Takayuki Mizuno', 'Mitsuhiro Odaka', 'Dieter Wang', 'Simone Centellegher', 'Giovanna Miritello', 'Daniel Villatoro', 'Devyani Parameshwar', 'Chathika Gunaratne', 'Chathura Jayalath', 'Ivan Garibay', 'Nisha Baral']\n"
     ]
    }
   ],
   "source": [
    "print(unique_names)"
   ]
  },
  {
   "cell_type": "code",
   "execution_count": 7,
   "metadata": {},
   "outputs": [
    {
     "name": "stdout",
     "output_type": "stream",
     "text": [
      "335\n"
     ]
    }
   ],
   "source": [
    "print(len(unique_names))"
   ]
  },
  {
   "cell_type": "markdown",
   "metadata": {},
   "source": [
    "### 2020"
   ]
  },
  {
   "cell_type": "code",
   "execution_count": 8,
   "metadata": {},
   "outputs": [],
   "source": [
    "link = \"https://docs.google.com/spreadsheets/u/0/d/e/2PACX-1vTX9_1Xftn7D-nSI8X9b7tafr_Z0kAbphKdfZ8qUSU9p-syXNsGPdhHl5ZyTnKKL-T6dCEJqtsrn3wy/pubhtml/sheet?headers=false&gid=181378784\""
   ]
  },
  {
   "cell_type": "code",
   "execution_count": 11,
   "metadata": {},
   "outputs": [],
   "source": [
    "r = requests.get(link)\n",
    "soup = BeautifulSoup(r.content)"
   ]
  },
  {
   "cell_type": "code",
   "execution_count": 39,
   "metadata": {},
   "outputs": [
    {
     "name": "stdout",
     "output_type": "stream",
     "text": [
      "[<td class=\"s0\">Presenters</td>, <td class=\"s1\">Alex Pentland, Esteban Moro, Manuel Herranz, Vedran Sekara, Yan Leng</td>, <td class=\"s1\">Diogo Pacheco, Kaicheng Yang, Pik-mai Hui</td>, <td class=\"s1\">Dashun Wang, Lu Liu</td>, <td class=\"s1\">Jana Diesner, Rezvaneh Rezapour, Shubhanshu Mishra</td>]\n"
     ]
    }
   ],
   "source": [
    "tr_elements = [element.find_all(\"td\") for element in soup.find_all(\"tr\")]\n",
    "td_elements = []\n",
    "for element in tr_elements:\n",
    "    if len(element) < 2:\n",
    "        continue\n",
    "    td_elements.append(element[2])\n",
    "print(td_elements[:5])"
   ]
  },
  {
   "cell_type": "code",
   "execution_count": 62,
   "metadata": {},
   "outputs": [],
   "source": [
    "pattern_td = r'/<td class=\"s[01]\">(.*?)<\\/td>/'\n",
    "tr_elements = [str(element).split(\"<\") for element in td_elements]\n",
    "names_preprocessed = []\n",
    "for lst in tr_elements:\n",
    "    names_not_processed = [str(element).split(\">\") for element in tr_elements]\n",
    "    for lst in names_not_processed:\n",
    "        current_names = lst[1].split(\",\")[:-1]\n",
    "        for current_name in current_names:\n",
    "            names_preprocessed.append(current_name.strip().strip(\",\").strip(\"'\"))"
   ]
  },
  {
   "cell_type": "code",
   "execution_count": 67,
   "metadata": {},
   "outputs": [],
   "source": [
    "final_names = []\n",
    "for name in names_preprocessed[1:]:\n",
    "    if len(name) > 0:\n",
    "        final_names.append(name)\n"
   ]
  },
  {
   "cell_type": "code",
   "execution_count": 69,
   "metadata": {},
   "outputs": [
    {
     "name": "stdout",
     "output_type": "stream",
     "text": [
      "991\n"
     ]
    }
   ],
   "source": [
    "print(len(set(final_names)))"
   ]
  },
  {
   "cell_type": "code",
   "execution_count": null,
   "metadata": {},
   "outputs": [],
   "source": []
  }
 ],
 "metadata": {
  "kernelspec": {
   "display_name": "Python 3.10.9 64-bit",
   "language": "python",
   "name": "python3"
  },
  "language_info": {
   "codemirror_mode": {
    "name": "ipython",
    "version": 3
   },
   "file_extension": ".py",
   "mimetype": "text/x-python",
   "name": "python",
   "nbconvert_exporter": "python",
   "pygments_lexer": "ipython3",
   "version": "3.10.9"
  },
  "orig_nbformat": 4,
  "vscode": {
   "interpreter": {
    "hash": "b0fa6594d8f4cbf19f97940f81e996739fb7646882a419484c72d19e05852a7e"
   }
  }
 },
 "nbformat": 4,
 "nbformat_minor": 2
}
