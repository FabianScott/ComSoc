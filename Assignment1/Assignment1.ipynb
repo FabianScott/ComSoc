{
 "cells": [
  {
   "cell_type": "markdown",
   "id": "6162e25b",
   "metadata": {},
   "source": [
    "### Part 1"
   ]
  },
  {
   "cell_type": "markdown",
   "source": [
    "The link to the full repository is:\n",
    "https://github.com/FabianScott/ComSoc\n",
    "We did some exercises along with members from another group, so they have also comitted some code, however the assignment was done independently."
   ],
   "metadata": {
    "collapsed": false
   }
  },
  {
   "cell_type": "code",
   "execution_count": 3,
   "id": "448845b0",
   "metadata": {},
   "outputs": [],
   "source": [
    "from bs4 import BeautifulSoup\n",
    "import requests\n",
    "import re"
   ]
  },
  {
   "cell_type": "code",
   "execution_count": 4,
   "id": "a6cb4a8f",
   "metadata": {},
   "outputs": [],
   "source": [
    "# link to the page we want to scrape\n",
    "link = \"https://2019.ic2s2.org/oral-presentations/\"\n",
    "r = requests.get(link)\n",
    "soup = BeautifulSoup(r.content)"
   ]
  },
  {
   "cell_type": "markdown",
   "source": [
    "### 1. By inspecting the HTML code, we found a pattern of the names being located just after a timestamp. We exploited this in the following code to find the researchers:"
   ],
   "metadata": {
    "collapsed": false
   }
  },
  {
   "cell_type": "code",
   "execution_count": 5,
   "id": "8b8dd33e",
   "metadata": {},
   "outputs": [],
   "source": [
    "# create pattern to find all time stamps in the page\n",
    "pattern = r\"\\d+\\d+:\\d+\\d+.*\\.\"\n",
    "# find all the names in current time stamp\n",
    "pattern_names = r\"([A-Z][a-z]+ [A-Z][a-z]+(, [A-Z][a-z]+ [A-Z][a-z]+)*\\.)\"\n",
    "times = re.findall(pattern, str(soup.find_all(\"p\")))\n",
    "names_nonprocessed = re.findall(pattern_names, str(times))\n",
    "unique_names = []\n",
    "for element in names_nonprocessed:\n",
    "    for i in element:\n",
    "        # strip name of punctuation and spaces, then split every name for the current time stamp\n",
    "        x = i.strip(\",.\").strip().split(\",\")\n",
    "        # if multiple names:\n",
    "        if len(x) > 1:\n",
    "            for name in x:\n",
    "                name = str(name.strip())\n",
    "                if name not in unique_names:\n",
    "                    unique_names.append(name)\n",
    "        else:\n",
    "        # if only one name:\n",
    "            if x[0] not in unique_names:\n",
    "                unique_names.append(x[0])"
   ]
  },
  {
   "cell_type": "code",
   "execution_count": 7,
   "id": "62dcda7b",
   "metadata": {},
   "outputs": [
    {
     "name": "stdout",
     "output_type": "stream",
     "text": [
      "335\n"
     ]
    }
   ],
   "source": [
    "print(len(unique_names))"
   ]
  },
  {
   "cell_type": "markdown",
   "source": [
    "We found 335 unique names from the oral presentation website for the 2019 conference. Here in the following section we include the 2020 conference as it is scraped in a different manner. The site links to a spreadsheet which includes the names:"
   ],
   "metadata": {
    "collapsed": false
   }
  },
  {
   "cell_type": "markdown",
   "id": "f8b759f2",
   "metadata": {},
   "source": [
    "### 2020"
   ]
  },
  {
   "cell_type": "code",
   "execution_count": 8,
   "id": "1ed13329",
   "metadata": {},
   "outputs": [],
   "source": [
    "link = \"https://docs.google.com/spreadsheets/u/0/d/e/2PACX-1vTX9_1Xftn7D-nSI8X9b7tafr_Z0kAbphKdfZ8qUSU9p-syXNsGPdhHl5ZyTnKKL-T6dCEJqtsrn3wy/pubhtml/sheet?headers=false&gid=181378784\""
   ]
  },
  {
   "cell_type": "code",
   "execution_count": 11,
   "id": "2f0a96c0",
   "metadata": {},
   "outputs": [],
   "source": [
    "# get link to the spreadsheet we want to scrape\n",
    "r = requests.get(link)\n",
    "soup = BeautifulSoup(r.content)"
   ]
  },
  {
   "cell_type": "code",
   "execution_count": 39,
   "id": "d37d95e9",
   "metadata": {},
   "outputs": [
    {
     "name": "stdout",
     "output_type": "stream",
     "text": [
      "[<td class=\"s0\">Presenters</td>, <td class=\"s1\">Alex Pentland, Esteban Moro, Manuel Herranz, Vedran Sekara, Yan Leng</td>, <td class=\"s1\">Diogo Pacheco, Kaicheng Yang, Pik-mai Hui</td>, <td class=\"s1\">Dashun Wang, Lu Liu</td>, <td class=\"s1\">Jana Diesner, Rezvaneh Rezapour, Shubhanshu Mishra</td>]\n"
     ]
    }
   ],
   "source": [
    "# we find tr elements in the spreadsheet and then td elements in each tr element\n",
    "tr_elements = [element.find_all(\"td\") for element in soup.find_all(\"tr\")]\n",
    "td_elements = []\n",
    "for element in tr_elements:\n",
    "    if len(element) < 2:\n",
    "        continue\n",
    "    td_elements.append(element[2])\n",
    "print(td_elements[:5])"
   ]
  },
  {
   "cell_type": "code",
   "execution_count": 62,
   "id": "b6097577",
   "metadata": {},
   "outputs": [],
   "source": [
    "# we can then make a pattern to find alle names in the spreadsheet\n",
    "pattern_td = r'/<td class=\"s[01]\">(.*?)<\\/td>/'\n",
    "tr_elements = [str(element).split(\"<\") for element in td_elements]\n",
    "names_preprocessed = []\n",
    "for lst in tr_elements:\n",
    "    # we clean up the element\n",
    "    names_not_processed = [str(element).split(\">\") for element in tr_elements]\n",
    "    for lst in names_not_processed:\n",
    "        current_names = lst[1].split(\",\")[:-1]\n",
    "        for current_name in current_names:\n",
    "            names_preprocessed.append(current_name.strip().strip(\",\").strip(\"'\"))"
   ]
  },
  {
   "cell_type": "code",
   "execution_count": 67,
   "id": "8baee7c3",
   "metadata": {},
   "outputs": [],
   "source": [
    "final_names = []\n",
    "# the string can be empty, so we make sure we only have actual names\n",
    "for name in names_preprocessed[1:]:\n",
    "    if len(name) > 0:\n",
    "        final_names.append(name)\n"
   ]
  },
  {
   "cell_type": "code",
   "execution_count": 69,
   "id": "4ad057b7",
   "metadata": {},
   "outputs": [
    {
     "name": "stdout",
     "output_type": "stream",
     "text": [
      "991\n"
     ]
    }
   ],
   "source": [
    "print(len(set(final_names)))"
   ]
  },
  {
   "cell_type": "markdown",
   "source": [
    "Along with this we also scraped all but the pdf site, resulting in a total of 2057 ID's as can be seen in the next code block.\n",
    "We chose to extract the names of researchers giving talks at the conference under the assumption that they would all be listed with a time on the website. This will have left out anyone doing something else at the conference such as the panel discussions."
   ],
   "metadata": {
    "collapsed": false
   }
  },
  {
   "cell_type": "markdown",
   "id": "92c93dd1",
   "metadata": {},
   "source": [
    "### Part 2"
   ]
  },
  {
   "cell_type": "markdown",
   "source": [
    "In the following section we show our code for creating the three datasets we will be working with. We have 2057 author ID's from the web-scraping. We had a lot of trouble with errors from the API connection and thus we have not successfully gotten through every author's neighbours, nor every paper. Despite this we still have a large dataset to continue into assignment 2 with."
   ],
   "metadata": {
    "collapsed": false
   }
  },
  {
   "cell_type": "code",
   "execution_count": 2,
   "id": "edfd6c8d",
   "metadata": {},
   "outputs": [
    {
     "name": "stdout",
     "output_type": "stream",
     "text": [
      "2057\n",
      "42\n",
      "['2107389568', '1643347009', '47979799', '2068360159', '47559215', '2027186576', '6437306', '2144708089', '2109842138', '1796260814', '144490412', '116693203', '47526637', '1729586298', '2095141092', '145963427', '1831395', '1838478', '40504742', '2115496186', '2558997', '119218337', '146089746', '2141510269', '1778398', '8169994', '39613066', '10807072', '1470825038', '2064358', '123861276', '1712865', '2058192976', '40196311', '102718695', '31270684', '1878375', '51290625', '2168321727', '33978150', '144937884', '51034107', '32670167', '89974507', '102788905', '3178240', '2058460749', '1589493589', '5315446', '5704024']\n"
     ]
    }
   ],
   "source": [
    "import pandas as pd\n",
    "ids = open(\"IDs_real.txt\").read().splitlines()\n",
    "print(len(ids))\n",
    "id_groups = [ids[x:x+50] for x in range(0, len(ids), 50)]\n",
    "print(len(id_groups))\n",
    "print(id_groups[0]) # inspecting the datatype"
   ]
  },
  {
   "cell_type": "code",
   "execution_count": 3,
   "id": "49509d23",
   "metadata": {},
   "outputs": [],
   "source": [
    "# Defining variables for webscraping\n",
    "import requests\n",
    "BASE_URL = \"https://api.semanticscholar.org/graph/\"\n",
    "VERSION = \"v1/\"\n",
    "RESOURCE = \"author/batch\"\n",
    "URL = BASE_URL + VERSION + RESOURCE\n",
    "\n",
    "# params2 = {\"ids\": ids_groups[0][:5]}\n",
    "\n",
    "params = {\"fields\": \"authorId,name,aliases,citationCount,papers.fieldsOfStudy,papers.authors,papers.title,papers.year,papers.externalIds,papers.citationCount,papers.abstract\"}"
   ]
  },
  {
   "cell_type": "markdown",
   "id": "8ce289a8",
   "metadata": {},
   "source": [
    "#### Functions to make datasets and get content"
   ]
  },
  {
   "cell_type": "code",
   "execution_count": 4,
   "id": "52176163",
   "metadata": {},
   "outputs": [],
   "source": [
    "def make_author_dataset(lst): \n",
    "    try: df = pd.read_csv(\"data/author_dataset.csv\")\n",
    "    except: None\n",
    "    header = [\"AuthorID\", \"Name\", \"Aliases\", \"Citation Count\", \"Field\"]\n",
    "    author_dataset = []\n",
    "    skipped = 0\n",
    "    for authorDict in lst:\n",
    "        current_list = []\n",
    "        if authorDict == \"message\":\n",
    "            skipped += 1\n",
    "            print(skipped)\n",
    "            continue\n",
    "        current_list.append(authorDict[\"authorId\"])\n",
    "        current_list.append(authorDict[\"name\"])\n",
    "        current_list.append(authorDict[\"aliases\"])\n",
    "        current_list.append(authorDict[\"citationCount\"])\n",
    "        if len([str(paper[\"fieldsOfStudy\"]) for paper in authorDict[\"papers\"]]) > 1:\n",
    "            current_list.append(max([str(paper[\"fieldsOfStudy\"]) for paper in authorDict[\"papers\"]]))\n",
    "        else:\n",
    "            current_list.append(\"None\")\n",
    "        author_dataset.append(current_list)\n",
    "    df_author = pd.DataFrame(data=author_dataset, columns=header)\n",
    "    try: df_author = pd.concat([df_author, df])\n",
    "    except: None\n",
    "    df_author.to_csv(\"author_dataset.csv\", index=False)\n",
    "    return df_author"
   ]
  },
  {
   "cell_type": "code",
   "execution_count": 5,
   "id": "628806d7",
   "metadata": {},
   "outputs": [],
   "source": [
    "def make_paper_dataset(lst):\n",
    "    try: df = pd.read_csv(\"data/paper_dataset.csv\")\n",
    "    except: None\n",
    "    header_paper = [\"paperId\", \"title\", \"year\", \"externalId.DOI\", \"Citation Count\", \"fields\", \"authorIds\", \"authorNames\"]\n",
    "    paper_dataset = []\n",
    "    for authorDict in lst:\n",
    "        paperDicts = authorDict[\"papers\"]\n",
    "        # remove duplicate papers\n",
    "        for paperDict in paperDicts:\n",
    "            current_list = []\n",
    "            current_list.append(paperDict[\"paperId\"])\n",
    "            current_list.append(paperDict[\"title\"])\n",
    "            current_list.append(paperDict[\"year\"])\n",
    "            if \"DOI\" in paperDict[\"externalIds\"].keys():\n",
    "                current_list.append(paperDict[\"externalIds\"][\"DOI\"])\n",
    "            else:\n",
    "                current_list.append(\"None\")\n",
    "            current_list.append(paperDict[\"citationCount\"])\n",
    "            current_list.append(paperDict[\"fieldsOfStudy\"])\n",
    "            current_list.append([author[\"authorId\"] for author in paperDict[\"authors\"]])\n",
    "            current_list.append([author[\"name\"] for author in paperDict[\"authors\"]])\n",
    "            paper_dataset.append(current_list)\n",
    "    df_paper = pd.DataFrame(data=paper_dataset, columns=header_paper)\n",
    "    try: df_paper = pd.concat([df_paper, df])\n",
    "    except: None\n",
    "    df_paper.to_csv(\"paper_dataset.csv\", index=False)\n",
    "    return df_paper\n",
    "    "
   ]
  },
  {
   "cell_type": "code",
   "execution_count": 6,
   "id": "62fb51b1",
   "metadata": {},
   "outputs": [],
   "source": [
    "def make_paper_abstract(lst):\n",
    "    try: df = pd.read_csv(\"data/paper_abstract_dataset.csv\")\n",
    "    except: None\n",
    "    header_paper_abstract = [\"PaperId\", \"Abstract\"]\n",
    "    paper_abstract_dataset = []\n",
    "    for authorDict in lst:\n",
    "        paperDicts = authorDict[\"papers\"]\n",
    "        for paperDict in paperDicts:\n",
    "            current_list = []\n",
    "            current_list.append(paperDict[\"paperId\"])\n",
    "            current_list.append(paperDict[\"abstract\"])\n",
    "            paper_abstract_dataset.append(current_list)\n",
    "    df_abstract = pd.DataFrame(data=paper_abstract_dataset, columns=header_paper_abstract)\n",
    "    try: df_abstract = pd.concat([df_abstract, df])\n",
    "    except: None\n",
    "    df_abstract.to_csv(\"paper_abstract_dataset.csv\", index=False)\n",
    "    return df_abstract"
   ]
  },
  {
   "cell_type": "code",
   "execution_count": 8,
   "id": "967ad477",
   "metadata": {},
   "outputs": [],
   "source": [
    "def get_data_in_batch(json_data, internal_error, i, update=False):\n",
    "    lst = []\n",
    "    r = requests.post(URL, params = params, json = json_data)\n",
    "    data = r.json()\n",
    "    if type(data) is list:\n",
    "        for n,m in enumerate(data):\n",
    "            if type(m) is dict:\n",
    "                lst.append(m)\n",
    "            else:\n",
    "                print(\"error1\", m)\n",
    "    else:\n",
    "        print(\"error2\", data)\n",
    "        internal_error.append(i)\n",
    "\n",
    "    if update:\n",
    "        df1 = make_author_dataset(lst)\n",
    "        df2 = make_paper_dataset(lst)\n",
    "        df3 = make_paper_abstract(lst)\n",
    "        return df1, df2, df3, internal_error\n"
   ]
  },
  {
   "cell_type": "markdown",
   "id": "4d2222c0",
   "metadata": {},
   "source": [
    "#### Getting neighbors"
   ]
  },
  {
   "cell_type": "code",
   "execution_count": 29,
   "id": "211df531",
   "metadata": {},
   "outputs": [],
   "source": [
    "content = []"
   ]
  },
  {
   "cell_type": "code",
   "execution_count": 31,
   "id": "e1aea422",
   "metadata": {},
   "outputs": [
    {
     "name": "stdout",
     "output_type": "stream",
     "text": [
      "0\n",
      "1\n",
      "2\n",
      "3\n",
      "4\n",
      "5\n",
      "6\n",
      "7\n",
      "8\n",
      "error1 None\n",
      "9\n",
      "10\n",
      "11\n",
      "12\n",
      "13\n",
      "14\n",
      "15\n",
      "16\n",
      "error2 {'message': 'Internal server error'}\n",
      "17\n",
      "18\n",
      "error1 None\n",
      "19\n",
      "20\n",
      "21\n",
      "error1 None\n",
      "22\n",
      "23\n",
      "24\n",
      "25\n",
      "26\n",
      "27\n",
      "28\n",
      "29\n",
      "30\n",
      "31\n",
      "32\n",
      "33\n",
      "34\n",
      "35\n",
      "36\n",
      "37\n",
      "error1 None\n",
      "38\n",
      "39\n",
      "40\n",
      "41\n"
     ]
    }
   ],
   "source": [
    "#for i in range(len(id_groups)):\n",
    "for i in range(len(id_groups)):\n",
    "    print(i)\n",
    "    json_data = {\"ids\": id_groups[i]}\n",
    "    get_data_in_batch(json_data, content)"
   ]
  },
  {
   "cell_type": "markdown",
   "id": "43ef632a",
   "metadata": {},
   "source": [
    "### Finding neighbors / loading neighbors"
   ]
  },
  {
   "cell_type": "code",
   "execution_count": 9,
   "id": "4a5de162",
   "metadata": {},
   "outputs": [],
   "source": [
    "def get_neighbors_from_csv():\n",
    "    df = pd.read_csv(\"neighbors.csv\")\n",
    "    df = df.dropna()\n",
    "    return list(df[\"neighbors\"].values)"
   ]
  },
  {
   "cell_type": "code",
   "execution_count": 10,
   "id": "74c8eb69",
   "metadata": {},
   "outputs": [],
   "source": [
    "neighbors = get_neighbors_from_csv()\n",
    "neighbors = [int(neighbor) for neighbor in neighbors]\n",
    "true_neighbor_ids = neighbors"
   ]
  },
  {
   "cell_type": "code",
   "execution_count": 32,
   "id": "245528cb",
   "metadata": {},
   "outputs": [],
   "source": [
    "def find_neighbors(lst):\n",
    "    neighbors = []\n",
    "    for i in range(len(lst)):\n",
    "        authorDict = lst[i]\n",
    "        if authorDict == \"message\":\n",
    "            continue\n",
    "        paperDicts = authorDict[\"papers\"]\n",
    "        for paperDict in paperDicts:\n",
    "            neighbors += [author[\"authorId\"] for author in paperDict[\"authors\"]]\n",
    "    return set(neighbors + ids) - set(ids)"
   ]
  },
  {
   "cell_type": "code",
   "execution_count": 36,
   "id": "fd704309",
   "metadata": {},
   "outputs": [
    {
     "data": {
      "text/plain": [
       "(108597, ['51226150', '2293749', '4998049', '4107174', '121803596'])"
      ]
     },
     "execution_count": 36,
     "metadata": {},
     "output_type": "execute_result"
    }
   ],
   "source": [
    "true_neighbor_ids = find_neighbors(content)\n",
    "len(true_neighbor_ids), list(true_neighbor_ids)[:5]"
   ]
  },
  {
   "attachments": {},
   "cell_type": "markdown",
   "id": "5c5515b1",
   "metadata": {},
   "source": [
    "#### Getting content for every neighbor"
   ]
  },
  {
   "cell_type": "code",
   "execution_count": 11,
   "id": "18bf41b5",
   "metadata": {},
   "outputs": [
    {
     "name": "stdout",
     "output_type": "stream",
     "text": [
      "[]\n"
     ]
    }
   ],
   "source": [
    "internal_error_groups = []\n",
    "#internal_error_groups = list(pd.read_csv(\"internal_error_groups.csv\")[\"0\"].values)\n",
    "print(internal_error_groups)"
   ]
  },
  {
   "cell_type": "code",
   "execution_count": 12,
   "id": "8c54ea68",
   "metadata": {},
   "outputs": [
    {
     "name": "stdout",
     "output_type": "stream",
     "text": [
      "3620\n"
     ]
    }
   ],
   "source": [
    "neighbor_groups = [list(true_neighbor_ids)[x:x+30] for x in range(0, len(true_neighbor_ids), 30)]\n",
    "print(len(neighbor_groups))"
   ]
  },
  {
   "cell_type": "code",
   "execution_count": 19,
   "id": "e384f49e",
   "metadata": {},
   "outputs": [
    {
     "name": "stderr",
     "output_type": "stream",
     "text": [
      "  2%|▏         | 1/50 [00:20<16:20, 20.00s/it]"
     ]
    },
    {
     "name": "stdout",
     "output_type": "stream",
     "text": [
      "error2 {'message': 'Internal server error'}\n"
     ]
    },
    {
     "name": "stderr",
     "output_type": "stream",
     "text": [
      " 28%|██▊       | 14/50 [04:14<10:49, 18.05s/it]"
     ]
    },
    {
     "name": "stdout",
     "output_type": "stream",
     "text": [
      "error2 {'message': 'Internal server error'}\n"
     ]
    },
    {
     "name": "stderr",
     "output_type": "stream",
     "text": [
      " 36%|███▌      | 18/50 [05:38<10:23, 19.49s/it]"
     ]
    },
    {
     "name": "stdout",
     "output_type": "stream",
     "text": [
      "error2 {'message': 'Endpoint request timed out'}\n"
     ]
    },
    {
     "name": "stderr",
     "output_type": "stream",
     "text": [
      " 38%|███▊      | 19/50 [06:23<13:59, 27.07s/it]"
     ]
    },
    {
     "name": "stdout",
     "output_type": "stream",
     "text": [
      "error1 None\n"
     ]
    },
    {
     "name": "stderr",
     "output_type": "stream",
     "text": [
      " 50%|█████     | 25/50 [08:14<08:18, 19.92s/it]"
     ]
    },
    {
     "name": "stdout",
     "output_type": "stream",
     "text": [
      "error2 {'message': 'Network error communicating with endpoint'}\n"
     ]
    },
    {
     "name": "stderr",
     "output_type": "stream",
     "text": [
      " 64%|██████▍   | 32/50 [10:58<06:17, 20.98s/it]"
     ]
    },
    {
     "name": "stdout",
     "output_type": "stream",
     "text": [
      "error2 {'message': 'Internal server error'}\n"
     ]
    },
    {
     "name": "stderr",
     "output_type": "stream",
     "text": [
      " 66%|██████▌   | 33/50 [11:38<07:33, 26.67s/it]"
     ]
    },
    {
     "name": "stdout",
     "output_type": "stream",
     "text": [
      "error2 {'message': 'Internal server error'}\n"
     ]
    },
    {
     "name": "stderr",
     "output_type": "stream",
     "text": [
      " 68%|██████▊   | 34/50 [12:01<06:49, 25.59s/it]"
     ]
    },
    {
     "name": "stdout",
     "output_type": "stream",
     "text": [
      "error2 {'message': 'Internal server error'}\n"
     ]
    },
    {
     "name": "stderr",
     "output_type": "stream",
     "text": [
      " 74%|███████▍  | 37/50 [13:16<05:23, 24.85s/it]"
     ]
    },
    {
     "name": "stdout",
     "output_type": "stream",
     "text": [
      "error2 {'message': 'Internal server error'}\n"
     ]
    },
    {
     "name": "stderr",
     "output_type": "stream",
     "text": [
      " 86%|████████▌ | 43/50 [15:20<02:27, 21.05s/it]"
     ]
    },
    {
     "name": "stdout",
     "output_type": "stream",
     "text": [
      "error2 {'message': 'Endpoint request timed out'}\n"
     ]
    },
    {
     "name": "stderr",
     "output_type": "stream",
     "text": [
      "100%|██████████| 50/50 [18:19<00:00, 21.98s/it]\n"
     ]
    }
   ],
   "source": [
    "from tqdm import tqdm\n",
    "\n",
    "for i in tqdm(range(3550, 3600)):\n",
    "    json_data = {\"ids\": neighbor_groups[i]}\n",
    "    df1, df2, df3, internal_error_groups = get_data_in_batch(json_data=json_data, internal_error=internal_error_groups, i=i, update=True)\n",
    "    pd.DataFrame(internal_error_groups).to_csv(\"internal_error_groups.csv\")"
   ]
  },
  {
   "cell_type": "markdown",
   "id": "783d4089",
   "metadata": {},
   "source": [
    "#### All the groups that gave an internal were run again."
   ]
  },
  {
   "cell_type": "code",
   "execution_count": 20,
   "id": "2ded12c8",
   "metadata": {},
   "outputs": [
    {
     "name": "stdout",
     "output_type": "stream",
     "text": [
      "3600\n",
      "3602\n",
      "3609\n",
      "error2 {'message': 'Internal server error'}\n",
      "3617\n",
      "error2 {'message': 'Internal server error'}\n",
      "3551\n",
      "error2 {'message': 'Internal server error'}\n",
      "3564\n",
      "error2 {'message': 'Internal server error'}\n",
      "error2 {'message': 'Internal server error'}\n",
      "3568\n",
      "error2 {'message': 'Endpoint request timed out'}\n",
      "3575\n",
      "error2 {'message': 'Endpoint request timed out'}\n",
      "3582\n",
      "error2 {'message': 'Internal server error'}\n",
      "3583\n",
      "3584\n",
      "error2 {'message': 'Internal server error'}\n",
      "3587\n",
      "3593\n",
      "error2 {'message': 'Network error communicating with endpoint'}\n"
     ]
    }
   ],
   "source": [
    "internal_error_groups2 = []\n",
    "for value in internal_error_groups:\n",
    "    print(value)\n",
    "    group = neighbor_groups[value]\n",
    "    groups = [group[:15], group[15:]]\n",
    "    for i in range(len(groups)):\n",
    "        json_data = {\"ids\": groups[i]}\n",
    "        df1, df2, df3, internal_error_groups2 = get_data_in_batch(json_data=json_data, internal_error=internal_error_groups2, i=value, update=True)"
   ]
  },
  {
   "cell_type": "markdown",
   "id": "29cd85a0",
   "metadata": {},
   "source": [
    "#### Our datasets look like this:"
   ]
  },
  {
   "cell_type": "code",
   "execution_count": 16,
   "id": "39c87416",
   "metadata": {},
   "outputs": [
    {
     "data": {
      "text/html": [
       "<div>\n",
       "<style scoped>\n",
       "    .dataframe tbody tr th:only-of-type {\n",
       "        vertical-align: middle;\n",
       "    }\n",
       "\n",
       "    .dataframe tbody tr th {\n",
       "        vertical-align: top;\n",
       "    }\n",
       "\n",
       "    .dataframe thead th {\n",
       "        text-align: right;\n",
       "    }\n",
       "</style>\n",
       "<table border=\"1\" class=\"dataframe\">\n",
       "  <thead>\n",
       "    <tr style=\"text-align: right;\">\n",
       "      <th></th>\n",
       "      <th>AuthorID</th>\n",
       "      <th>Name</th>\n",
       "      <th>Aliases</th>\n",
       "      <th>Citation Count</th>\n",
       "      <th>Field</th>\n",
       "    </tr>\n",
       "  </thead>\n",
       "  <tbody>\n",
       "    <tr>\n",
       "      <th>0</th>\n",
       "      <td>2777574</td>\n",
       "      <td>M. Plumpe</td>\n",
       "      <td>[M. Plumpe, Michael D. Plumpe, Michael David P...</td>\n",
       "      <td>1022</td>\n",
       "      <td>['Physics']</td>\n",
       "    </tr>\n",
       "    <tr>\n",
       "      <th>1</th>\n",
       "      <td>103996194</td>\n",
       "      <td>N. Giudice</td>\n",
       "      <td>[N Giudice, N. Giudice, Nunzio Giudice]</td>\n",
       "      <td>7501</td>\n",
       "      <td>['Physics']</td>\n",
       "    </tr>\n",
       "    <tr>\n",
       "      <th>2</th>\n",
       "      <td>2034042969</td>\n",
       "      <td>Pegah Kassraian</td>\n",
       "      <td>None</td>\n",
       "      <td>8</td>\n",
       "      <td>['Medicine']</td>\n",
       "    </tr>\n",
       "    <tr>\n",
       "      <th>3</th>\n",
       "      <td>98761668</td>\n",
       "      <td>S. Miyamoto</td>\n",
       "      <td>[S Miyamoto, S. Frank Miyamoto, Sousuke Miyamoto]</td>\n",
       "      <td>29</td>\n",
       "      <td>['Sociology']</td>\n",
       "    </tr>\n",
       "    <tr>\n",
       "      <th>4</th>\n",
       "      <td>1612466737</td>\n",
       "      <td>Evann Courdier</td>\n",
       "      <td>None</td>\n",
       "      <td>5</td>\n",
       "      <td>['Computer Science']</td>\n",
       "    </tr>\n",
       "    <tr>\n",
       "      <th>...</th>\n",
       "      <td>...</td>\n",
       "      <td>...</td>\n",
       "      <td>...</td>\n",
       "      <td>...</td>\n",
       "      <td>...</td>\n",
       "    </tr>\n",
       "    <tr>\n",
       "      <th>21659</th>\n",
       "      <td>2197104</td>\n",
       "      <td>M. Clamp</td>\n",
       "      <td>['M. E. Clamp', 'M. Clamp', 'M E Clamp', 'M Cl...</td>\n",
       "      <td>55545</td>\n",
       "      <td>['Physics', 'Medicine']</td>\n",
       "    </tr>\n",
       "    <tr>\n",
       "      <th>21660</th>\n",
       "      <td>3975866</td>\n",
       "      <td>C. Walzer</td>\n",
       "      <td>['C Walzer', 'C. Walzer', 'Chris Walzer', 'Chr...</td>\n",
       "      <td>3699</td>\n",
       "      <td>['Political Science', 'Medicine']</td>\n",
       "    </tr>\n",
       "    <tr>\n",
       "      <th>21661</th>\n",
       "      <td>90678095</td>\n",
       "      <td>M. Louis</td>\n",
       "      <td>['M. Louis', 'Maes Louis']</td>\n",
       "      <td>0</td>\n",
       "      <td>['Biology']</td>\n",
       "    </tr>\n",
       "    <tr>\n",
       "      <th>21662</th>\n",
       "      <td>2158182997</td>\n",
       "      <td>Vittorio Prodomo</td>\n",
       "      <td>NaN</td>\n",
       "      <td>0</td>\n",
       "      <td>None</td>\n",
       "    </tr>\n",
       "    <tr>\n",
       "      <th>21663</th>\n",
       "      <td>6679062</td>\n",
       "      <td>V. Holzendorf</td>\n",
       "      <td>['V Holzendorf', 'V. Holzendorf', 'Volker Holz...</td>\n",
       "      <td>626</td>\n",
       "      <td>['Medicine']</td>\n",
       "    </tr>\n",
       "  </tbody>\n",
       "</table>\n",
       "<p>21679 rows × 5 columns</p>\n",
       "</div>"
      ],
      "text/plain": [
       "         AuthorID              Name  \\\n",
       "0         2777574         M. Plumpe   \n",
       "1       103996194        N. Giudice   \n",
       "2      2034042969   Pegah Kassraian   \n",
       "3        98761668       S. Miyamoto   \n",
       "4      1612466737    Evann Courdier   \n",
       "...           ...               ...   \n",
       "21659     2197104          M. Clamp   \n",
       "21660     3975866         C. Walzer   \n",
       "21661    90678095          M. Louis   \n",
       "21662  2158182997  Vittorio Prodomo   \n",
       "21663     6679062     V. Holzendorf   \n",
       "\n",
       "                                                 Aliases  Citation Count  \\\n",
       "0      [M. Plumpe, Michael D. Plumpe, Michael David P...            1022   \n",
       "1                [N Giudice, N. Giudice, Nunzio Giudice]            7501   \n",
       "2                                                   None               8   \n",
       "3      [S Miyamoto, S. Frank Miyamoto, Sousuke Miyamoto]              29   \n",
       "4                                                   None               5   \n",
       "...                                                  ...             ...   \n",
       "21659  ['M. E. Clamp', 'M. Clamp', 'M E Clamp', 'M Cl...           55545   \n",
       "21660  ['C Walzer', 'C. Walzer', 'Chris Walzer', 'Chr...            3699   \n",
       "21661                         ['M. Louis', 'Maes Louis']               0   \n",
       "21662                                                NaN               0   \n",
       "21663  ['V Holzendorf', 'V. Holzendorf', 'Volker Holz...             626   \n",
       "\n",
       "                                   Field  \n",
       "0                            ['Physics']  \n",
       "1                            ['Physics']  \n",
       "2                           ['Medicine']  \n",
       "3                          ['Sociology']  \n",
       "4                   ['Computer Science']  \n",
       "...                                  ...  \n",
       "21659            ['Physics', 'Medicine']  \n",
       "21660  ['Political Science', 'Medicine']  \n",
       "21661                        ['Biology']  \n",
       "21662                               None  \n",
       "21663                       ['Medicine']  \n",
       "\n",
       "[21679 rows x 5 columns]"
      ]
     },
     "execution_count": 16,
     "metadata": {},
     "output_type": "execute_result"
    }
   ],
   "source": [
    "df1"
   ]
  },
  {
   "cell_type": "code",
   "execution_count": 17,
   "id": "8a4ad5b3",
   "metadata": {},
   "outputs": [
    {
     "data": {
      "text/html": [
       "<div>\n",
       "<style scoped>\n",
       "    .dataframe tbody tr th:only-of-type {\n",
       "        vertical-align: middle;\n",
       "    }\n",
       "\n",
       "    .dataframe tbody tr th {\n",
       "        vertical-align: top;\n",
       "    }\n",
       "\n",
       "    .dataframe thead th {\n",
       "        text-align: right;\n",
       "    }\n",
       "</style>\n",
       "<table border=\"1\" class=\"dataframe\">\n",
       "  <thead>\n",
       "    <tr style=\"text-align: right;\">\n",
       "      <th></th>\n",
       "      <th>paperId</th>\n",
       "      <th>title</th>\n",
       "      <th>year</th>\n",
       "      <th>externalId.DOI</th>\n",
       "      <th>Citation Count</th>\n",
       "      <th>fields</th>\n",
       "      <th>authorIds</th>\n",
       "      <th>authorNames</th>\n",
       "    </tr>\n",
       "  </thead>\n",
       "  <tbody>\n",
       "    <tr>\n",
       "      <th>0</th>\n",
       "      <td>827ffc7957bbfe27f5b615176c7c392acbde521b</td>\n",
       "      <td>Compression Gaussian models</td>\n",
       "      <td>2004.0</td>\n",
       "      <td>None</td>\n",
       "      <td>0</td>\n",
       "      <td>[Physics]</td>\n",
       "      <td>[67213297, 2777574]</td>\n",
       "      <td>[A. Acero, M. Plumpe]</td>\n",
       "    </tr>\n",
       "    <tr>\n",
       "      <th>1</th>\n",
       "      <td>81b4817cd63591876c6d35711deb7d9604590fe8</td>\n",
       "      <td>MiPad: a multimodal interaction prototype</td>\n",
       "      <td>2001.0</td>\n",
       "      <td>10.1109/ICASSP.2001.940754</td>\n",
       "      <td>47</td>\n",
       "      <td>[Computer Science]</td>\n",
       "      <td>[144531812, 1723644, 1802969, 144718788, 17554...</td>\n",
       "      <td>[Xuedong Huang, A. Acero, Ciprian Chelba, L. D...</td>\n",
       "    </tr>\n",
       "    <tr>\n",
       "      <th>2</th>\n",
       "      <td>3b3627f083efa6948b225ad07a343747914f0b55</td>\n",
       "      <td>Large-vocabulary speech recognition under adve...</td>\n",
       "      <td>2000.0</td>\n",
       "      <td>10.21437/icslp.2000-657</td>\n",
       "      <td>257</td>\n",
       "      <td>[Computer Science]</td>\n",
       "      <td>[144718788, 1723644, 2777574, 144531812]</td>\n",
       "      <td>[L. Deng, A. Acero, M. Plumpe, Xuedong Huang]</td>\n",
       "    </tr>\n",
       "    <tr>\n",
       "      <th>3</th>\n",
       "      <td>55f15d1ef7c7f7722bbc36a692dc6ed6b0b55452</td>\n",
       "      <td>Mipad: a next generation PDA prototype</td>\n",
       "      <td>2000.0</td>\n",
       "      <td>10.21437/icslp.2000-471</td>\n",
       "      <td>55</td>\n",
       "      <td>[Computer Science]</td>\n",
       "      <td>[144531812, 1723644, 1802969, 144718788, 38827...</td>\n",
       "      <td>[Xuedong Huang, A. Acero, Ciprian Chelba, L. D...</td>\n",
       "    </tr>\n",
       "    <tr>\n",
       "      <th>4</th>\n",
       "      <td>a173a6588543400ea0d141afaf98104e43aab590</td>\n",
       "      <td>Modeling of the glottal flow derivative wavefo...</td>\n",
       "      <td>1999.0</td>\n",
       "      <td>10.1109/89.784109</td>\n",
       "      <td>358</td>\n",
       "      <td>[Mathematics, Computer Science]</td>\n",
       "      <td>[2777574, 1718470, 3127386]</td>\n",
       "      <td>[M. Plumpe, T. Quatieri, D. Reynolds]</td>\n",
       "    </tr>\n",
       "    <tr>\n",
       "      <th>...</th>\n",
       "      <td>...</td>\n",
       "      <td>...</td>\n",
       "      <td>...</td>\n",
       "      <td>...</td>\n",
       "      <td>...</td>\n",
       "      <td>...</td>\n",
       "      <td>...</td>\n",
       "      <td>...</td>\n",
       "    </tr>\n",
       "    <tr>\n",
       "      <th>48856</th>\n",
       "      <td>6e8931f92e631a2835011cec80d704da92d0b6d1</td>\n",
       "      <td>Stereotactic delivery of a recombinant adenovi...</td>\n",
       "      <td>1994.0</td>\n",
       "      <td>10.1227/00006123-199411000-00016</td>\n",
       "      <td>50</td>\n",
       "      <td>['Medicine']</td>\n",
       "      <td>['8413526', '4953383', '3146533', '3169811']</td>\n",
       "      <td>['B. Badie', 'K. Hunt', 'J. Economou', 'K. Bla...</td>\n",
       "    </tr>\n",
       "    <tr>\n",
       "      <th>48857</th>\n",
       "      <td>46a0041c67cf8a78d0329b0794b396dbf82558ba</td>\n",
       "      <td>An Appreciation</td>\n",
       "      <td>1973.0</td>\n",
       "      <td>10.1227/01.neu.0000465884.77586.98</td>\n",
       "      <td>0</td>\n",
       "      <td>['Medicine']</td>\n",
       "      <td>['2098533', '46782575', '4536609', '2201338', ...</td>\n",
       "      <td>['B. Aarabi', 'Ty W. Abel', 'A. Abla', 'D. C. ...</td>\n",
       "    </tr>\n",
       "    <tr>\n",
       "      <th>48858</th>\n",
       "      <td>02d5b490e720a939c989eeaa99c60f69fbf48ba6</td>\n",
       "      <td>MP-RRT#: a Model Predictive Sampling-based Mot...</td>\n",
       "      <td>2021.0</td>\n",
       "      <td>10.1007/s10846-021-01501-3</td>\n",
       "      <td>3</td>\n",
       "      <td>['Computer Science']</td>\n",
       "      <td>['3027008', '49949673', '144641844']</td>\n",
       "      <td>['Stefano Primatesta', 'Abdalla Osman', 'A. Ri...</td>\n",
       "    </tr>\n",
       "    <tr>\n",
       "      <th>48859</th>\n",
       "      <td>d9712c5ac87fab353d139929143288f94a6aba91</td>\n",
       "      <td>Camera Selection and Flight Planning for Post ...</td>\n",
       "      <td>2017.0</td>\n",
       "      <td>10.1007/978-3-319-61276-8_54</td>\n",
       "      <td>0</td>\n",
       "      <td>['Engineering', 'Computer Science']</td>\n",
       "      <td>['3493150', '48473030', '49949673']</td>\n",
       "      <td>['Mario Silvagni', 'M. Chiaberge', 'Abdalla Os...</td>\n",
       "    </tr>\n",
       "    <tr>\n",
       "      <th>48860</th>\n",
       "      <td>ad2521b6f5b5f25932830b45e3a3180216b02f1a</td>\n",
       "      <td>A. Kacimov, Y. Obnosov, O. Abdalla, O. Castro-...</td>\n",
       "      <td>2015.0</td>\n",
       "      <td>None</td>\n",
       "      <td>0</td>\n",
       "      <td>['Mathematics']</td>\n",
       "      <td>['104134344', '103428294', '103979697', '49949...</td>\n",
       "      <td>['Обносов Юрий Викторович', 'Kacimov Anvar Ras...</td>\n",
       "    </tr>\n",
       "  </tbody>\n",
       "</table>\n",
       "<p>50528 rows × 8 columns</p>\n",
       "</div>"
      ],
      "text/plain": [
       "                                        paperId  \\\n",
       "0      827ffc7957bbfe27f5b615176c7c392acbde521b   \n",
       "1      81b4817cd63591876c6d35711deb7d9604590fe8   \n",
       "2      3b3627f083efa6948b225ad07a343747914f0b55   \n",
       "3      55f15d1ef7c7f7722bbc36a692dc6ed6b0b55452   \n",
       "4      a173a6588543400ea0d141afaf98104e43aab590   \n",
       "...                                         ...   \n",
       "48856  6e8931f92e631a2835011cec80d704da92d0b6d1   \n",
       "48857  46a0041c67cf8a78d0329b0794b396dbf82558ba   \n",
       "48858  02d5b490e720a939c989eeaa99c60f69fbf48ba6   \n",
       "48859  d9712c5ac87fab353d139929143288f94a6aba91   \n",
       "48860  ad2521b6f5b5f25932830b45e3a3180216b02f1a   \n",
       "\n",
       "                                                   title    year  \\\n",
       "0                            Compression Gaussian models  2004.0   \n",
       "1              MiPad: a multimodal interaction prototype  2001.0   \n",
       "2      Large-vocabulary speech recognition under adve...  2000.0   \n",
       "3                 Mipad: a next generation PDA prototype  2000.0   \n",
       "4      Modeling of the glottal flow derivative wavefo...  1999.0   \n",
       "...                                                  ...     ...   \n",
       "48856  Stereotactic delivery of a recombinant adenovi...  1994.0   \n",
       "48857                                    An Appreciation  1973.0   \n",
       "48858  MP-RRT#: a Model Predictive Sampling-based Mot...  2021.0   \n",
       "48859  Camera Selection and Flight Planning for Post ...  2017.0   \n",
       "48860  A. Kacimov, Y. Obnosov, O. Abdalla, O. Castro-...  2015.0   \n",
       "\n",
       "                           externalId.DOI  Citation Count  \\\n",
       "0                                    None               0   \n",
       "1              10.1109/ICASSP.2001.940754              47   \n",
       "2                 10.21437/icslp.2000-657             257   \n",
       "3                 10.21437/icslp.2000-471              55   \n",
       "4                       10.1109/89.784109             358   \n",
       "...                                   ...             ...   \n",
       "48856    10.1227/00006123-199411000-00016              50   \n",
       "48857  10.1227/01.neu.0000465884.77586.98               0   \n",
       "48858          10.1007/s10846-021-01501-3               3   \n",
       "48859        10.1007/978-3-319-61276-8_54               0   \n",
       "48860                                None               0   \n",
       "\n",
       "                                    fields  \\\n",
       "0                                [Physics]   \n",
       "1                       [Computer Science]   \n",
       "2                       [Computer Science]   \n",
       "3                       [Computer Science]   \n",
       "4          [Mathematics, Computer Science]   \n",
       "...                                    ...   \n",
       "48856                         ['Medicine']   \n",
       "48857                         ['Medicine']   \n",
       "48858                 ['Computer Science']   \n",
       "48859  ['Engineering', 'Computer Science']   \n",
       "48860                      ['Mathematics']   \n",
       "\n",
       "                                               authorIds  \\\n",
       "0                                    [67213297, 2777574]   \n",
       "1      [144531812, 1723644, 1802969, 144718788, 17554...   \n",
       "2               [144718788, 1723644, 2777574, 144531812]   \n",
       "3      [144531812, 1723644, 1802969, 144718788, 38827...   \n",
       "4                            [2777574, 1718470, 3127386]   \n",
       "...                                                  ...   \n",
       "48856       ['8413526', '4953383', '3146533', '3169811']   \n",
       "48857  ['2098533', '46782575', '4536609', '2201338', ...   \n",
       "48858               ['3027008', '49949673', '144641844']   \n",
       "48859                ['3493150', '48473030', '49949673']   \n",
       "48860  ['104134344', '103428294', '103979697', '49949...   \n",
       "\n",
       "                                             authorNames  \n",
       "0                                  [A. Acero, M. Plumpe]  \n",
       "1      [Xuedong Huang, A. Acero, Ciprian Chelba, L. D...  \n",
       "2          [L. Deng, A. Acero, M. Plumpe, Xuedong Huang]  \n",
       "3      [Xuedong Huang, A. Acero, Ciprian Chelba, L. D...  \n",
       "4                  [M. Plumpe, T. Quatieri, D. Reynolds]  \n",
       "...                                                  ...  \n",
       "48856  ['B. Badie', 'K. Hunt', 'J. Economou', 'K. Bla...  \n",
       "48857  ['B. Aarabi', 'Ty W. Abel', 'A. Abla', 'D. C. ...  \n",
       "48858  ['Stefano Primatesta', 'Abdalla Osman', 'A. Ri...  \n",
       "48859  ['Mario Silvagni', 'M. Chiaberge', 'Abdalla Os...  \n",
       "48860  ['Обносов Юрий Викторович', 'Kacimov Anvar Ras...  \n",
       "\n",
       "[50528 rows x 8 columns]"
      ]
     },
     "execution_count": 17,
     "metadata": {},
     "output_type": "execute_result"
    }
   ],
   "source": [
    "df2"
   ]
  },
  {
   "cell_type": "code",
   "execution_count": 18,
   "id": "9b39e864",
   "metadata": {},
   "outputs": [
    {
     "data": {
      "text/html": [
       "<div>\n",
       "<style scoped>\n",
       "    .dataframe tbody tr th:only-of-type {\n",
       "        vertical-align: middle;\n",
       "    }\n",
       "\n",
       "    .dataframe tbody tr th {\n",
       "        vertical-align: top;\n",
       "    }\n",
       "\n",
       "    .dataframe thead th {\n",
       "        text-align: right;\n",
       "    }\n",
       "</style>\n",
       "<table border=\"1\" class=\"dataframe\">\n",
       "  <thead>\n",
       "    <tr style=\"text-align: right;\">\n",
       "      <th></th>\n",
       "      <th>PaperId</th>\n",
       "      <th>Abstract</th>\n",
       "    </tr>\n",
       "  </thead>\n",
       "  <tbody>\n",
       "    <tr>\n",
       "      <th>0</th>\n",
       "      <td>827ffc7957bbfe27f5b615176c7c392acbde521b</td>\n",
       "      <td>None</td>\n",
       "    </tr>\n",
       "    <tr>\n",
       "      <th>1</th>\n",
       "      <td>81b4817cd63591876c6d35711deb7d9604590fe8</td>\n",
       "      <td>Dr. Who is a Microsoft research project aiming...</td>\n",
       "    </tr>\n",
       "    <tr>\n",
       "      <th>2</th>\n",
       "      <td>3b3627f083efa6948b225ad07a343747914f0b55</td>\n",
       "      <td>We report our recent work on noise-robust larg...</td>\n",
       "    </tr>\n",
       "    <tr>\n",
       "      <th>3</th>\n",
       "      <td>55f15d1ef7c7f7722bbc36a692dc6ed6b0b55452</td>\n",
       "      <td>MiPad is one of the application prototypes in ...</td>\n",
       "    </tr>\n",
       "    <tr>\n",
       "      <th>4</th>\n",
       "      <td>a173a6588543400ea0d141afaf98104e43aab590</td>\n",
       "      <td>An automatic technique for estimating and mode...</td>\n",
       "    </tr>\n",
       "    <tr>\n",
       "      <th>...</th>\n",
       "      <td>...</td>\n",
       "      <td>...</td>\n",
       "    </tr>\n",
       "    <tr>\n",
       "      <th>504094</th>\n",
       "      <td>584a9beaf3b6bcebd8aafdaa500799cbb4d2e20f</td>\n",
       "      <td>NaN</td>\n",
       "    </tr>\n",
       "    <tr>\n",
       "      <th>504095</th>\n",
       "      <td>6606c05001337b3e17902d9a5fed4129f2bc820d</td>\n",
       "      <td>NaN</td>\n",
       "    </tr>\n",
       "    <tr>\n",
       "      <th>504096</th>\n",
       "      <td>715a5bd64d00ab36b7aceb68f620919fa33c003f</td>\n",
       "      <td>The latest Flinders University research on foo...</td>\n",
       "    </tr>\n",
       "    <tr>\n",
       "      <th>504097</th>\n",
       "      <td>84463be4a040c3979ca750af97021fbb00d2de5c</td>\n",
       "      <td>NaN</td>\n",
       "    </tr>\n",
       "    <tr>\n",
       "      <th>504098</th>\n",
       "      <td>8bac4ce51e5f2a3e77f097e9cefe96f0074c4916</td>\n",
       "      <td>This conceptual / study protocol paper provide...</td>\n",
       "    </tr>\n",
       "  </tbody>\n",
       "</table>\n",
       "<p>505766 rows × 2 columns</p>\n",
       "</div>"
      ],
      "text/plain": [
       "                                         PaperId  \\\n",
       "0       827ffc7957bbfe27f5b615176c7c392acbde521b   \n",
       "1       81b4817cd63591876c6d35711deb7d9604590fe8   \n",
       "2       3b3627f083efa6948b225ad07a343747914f0b55   \n",
       "3       55f15d1ef7c7f7722bbc36a692dc6ed6b0b55452   \n",
       "4       a173a6588543400ea0d141afaf98104e43aab590   \n",
       "...                                          ...   \n",
       "504094  584a9beaf3b6bcebd8aafdaa500799cbb4d2e20f   \n",
       "504095  6606c05001337b3e17902d9a5fed4129f2bc820d   \n",
       "504096  715a5bd64d00ab36b7aceb68f620919fa33c003f   \n",
       "504097  84463be4a040c3979ca750af97021fbb00d2de5c   \n",
       "504098  8bac4ce51e5f2a3e77f097e9cefe96f0074c4916   \n",
       "\n",
       "                                                 Abstract  \n",
       "0                                                    None  \n",
       "1       Dr. Who is a Microsoft research project aiming...  \n",
       "2       We report our recent work on noise-robust larg...  \n",
       "3       MiPad is one of the application prototypes in ...  \n",
       "4       An automatic technique for estimating and mode...  \n",
       "...                                                   ...  \n",
       "504094                                                NaN  \n",
       "504095                                                NaN  \n",
       "504096  The latest Flinders University research on foo...  \n",
       "504097                                                NaN  \n",
       "504098  This conceptual / study protocol paper provide...  \n",
       "\n",
       "[505766 rows x 2 columns]"
      ]
     },
     "execution_count": 18,
     "metadata": {},
     "output_type": "execute_result"
    }
   ],
   "source": [
    "df3"
   ]
  },
  {
   "cell_type": "markdown",
   "source": [
    "The author dataset is 21663 long,"
   ],
   "metadata": {
    "collapsed": false
   }
  },
  {
   "cell_type": "markdown",
   "source": [
    "### Part 3 Law of Large Numbers"
   ],
   "metadata": {
    "collapsed": false
   }
  },
  {
   "cell_type": "markdown",
   "source": [
    "The following distributions' cumulative mean and median will be shown: Normal, LogNormal, Pareto and Paper Citation Count. To calculate the cumulative mean/medians of the different distributions we use pandas. We also define a function to carry out the procedure efficiently. Error bars are plotted using a white line above and below the mean."
   ],
   "metadata": {
    "collapsed": false
   }
  },
  {
   "cell_type": "code",
   "execution_count": 13,
   "id": "cd08a5b7",
   "metadata": {},
   "outputs": [],
   "source": [
    "import matplotlib.pyplot as plt\n",
    "import pandas as pd\n",
    "import numpy as np\n",
    "np.random.seed(42)"
   ]
  },
  {
   "cell_type": "code",
   "execution_count": 14,
   "id": "d25c4e5d",
   "metadata": {},
   "outputs": [],
   "source": [
    "def repeat(data, distribution_name):\n",
    "    n = 10_000\n",
    "    mean = data.mean()\n",
    "    median = np.median(data)\n",
    "\n",
    "    x = np.arange(1,n+1)\n",
    "    cumulative_mean = pd.DataFrame(data).expanding().mean()      # mean\n",
    "    cumulative_median = pd.DataFrame(data).expanding().median()    # median\n",
    "    cumulative_sem = pd.DataFrame(data).expanding().sem()       # standard error of the mean\n",
    "    print(f'{distribution_name}\\nMean: {mean}\\n Median: {median}')\n",
    "    fig, axes = plt.subplots(nrows=1, ncols=2, figsize=(12, 4))\n",
    "\n",
    "    # plot for mean\n",
    "    axes[0].plot(x, n * [mean])\n",
    "    axes[0].errorbar(x.reshape(-1),np.array(cumulative_mean).reshape(-1),yerr=np.array(cumulative_sem).reshape(-1)/2,\n",
    "                     color=\"black\",\n",
    "                     elinewidth=0,\n",
    "                     capsize=2,\n",
    "                     alpha=0.2)\n",
    "    axes[0].plot(x, cumulative_mean, color=\"red\")\n",
    "    axes[0].set_title(f'Mean plot for {distribution_name}\\n')\n",
    "    axes[0].set_ylabel('Cumulative Mean')\n",
    "    axes[0].set_xlabel('Number of samples')\n",
    "\n",
    "    # plot for median\n",
    "    axes[1].plot(x, n * [median])\n",
    "    axes[1].plot(x, cumulative_median, color=\"red\")\n",
    "    axes[1].set_title(f'Median plot for {distribution_name}')\n",
    "    axes[1].set_ylabel('Cumulative Median')\n",
    "    axes[1].set_xlabel('Number of samples')\n",
    "    plt.show()\n"
   ]
  },
  {
   "cell_type": "code",
   "execution_count": 15,
   "id": "8e279fed",
   "metadata": {},
   "outputs": [
    {
     "name": "stdout",
     "output_type": "stream",
     "text": [
      "Normal Distribution, sigma=4\n",
      "Mean: -0.008543933473704822\n",
      " Median: -0.010379903171510163\n"
     ]
    },
    {
     "data": {
      "text/plain": "<Figure size 1200x400 with 2 Axes>",
      "image/png": "[encoded data removed]"
     },
     "metadata": {},
     "output_type": "display_data"
    }
   ],
   "source": [
    "# Gaussian\n",
    "n = 10_000\n",
    "sigma = 4\n",
    "data = np.random.standard_normal(n) * sigma\n",
    "repeat(data, f'Normal Distribution, sigma={sigma}')"
   ]
  },
  {
   "cell_type": "code",
   "execution_count": 16,
   "id": "e28f3dfb",
   "metadata": {},
   "outputs": [
    {
     "name": "stdout",
     "output_type": "stream",
     "text": [
      "LogNormal Distribution, sigma=4\n",
      "Mean: 7725.908003566768\n",
      " Median: 1.0654389716755168\n"
     ]
    },
    {
     "data": {
      "text/plain": "<Figure size 1200x400 with 2 Axes>",
      "image/png": "[encoded data removed]"
     },
     "metadata": {},
     "output_type": "display_data"
    }
   ],
   "source": [
    "sigma = 4\n",
    "data = np.random.lognormal(0, sigma, n)\n",
    "repeat(data, f'LogNormal Distribution, sigma={sigma}')"
   ]
  },
  {
   "cell_type": "code",
   "execution_count": 17,
   "id": "51b21a8e",
   "metadata": {},
   "outputs": [
    {
     "name": "stdout",
     "output_type": "stream",
     "text": [
      "Pareto distribution with alpha=0.5\n",
      "Mean: 8636.440796004012\n",
      " Median: 2.9470939806773506\n"
     ]
    },
    {
     "data": {
      "text/plain": "<Figure size 1200x400 with 2 Axes>",
      "image/png": "[encoded data removed]"
     },
     "metadata": {},
     "output_type": "display_data"
    }
   ],
   "source": [
    "alpha = 0.5\n",
    "data = np.random.pareto(alpha, n)  # xm = 1 by default\n",
    "repeat(data, f'Pareto distribution with alpha={alpha}')"
   ]
  },
  {
   "cell_type": "code",
   "execution_count": 18,
   "id": "cc8ef6ce",
   "metadata": {},
   "outputs": [
    {
     "name": "stdout",
     "output_type": "stream",
     "text": [
      "Citation Count sample\n",
      "Mean: 36.8339\n",
      " Median: 4.0\n"
     ]
    },
    {
     "data": {
      "text/plain": "<Figure size 1200x400 with 2 Axes>",
      "image/png": "[encoded data removed]"
     },
     "metadata": {},
     "output_type": "display_data"
    }
   ],
   "source": [
    "df_paper = pd.read_csv('data\\\\PaperDataset.csv')\n",
    "data = np.random.choice(df_paper['Citation Count'], n, replace=False)\n",
    "repeat(data, 'Citation Count sample')"
   ]
  },
  {
   "cell_type": "markdown",
   "id": "a6853e2a",
   "metadata": {
    "collapsed": false
   },
   "source": [
    "The Normal distributions' cumulative mean/median tend towards the distribution mean/median fastest out of the four. The Pareto's median converged quickly, but its mean is kept to high by single small/large values as it has a lower bound of zero but an upper bound of infinity. The LogNormal distribution seems afflicted by the same issue as its mean peaks and slowly converges.\n",
    "\n",
    "Since the median converges pretty quickly in all three distributions, it is useful in cases where the mean may be influenced by outliers as it is in the LogNormal and Pareto distributions.\n",
    "\n",
    "The Citation Count data has the same bounds as the Pareto/LogNormal distributions and is thus afflicted by the same issue of a single outlier value skewing the mean.\n",
    "\n",
    "The main message of this exercise is to inspect the data you are working with thoroughly, as summary statistics may be rather misleading if the distribution is similar to the Pareto. This problem is especially acute in cases where the variance is very high."
   ]
  }
 ],
 "metadata": {
  "kernelspec": {
   "display_name": "Python 3.10.9 64-bit",
   "language": "python",
   "name": "python3"
  },
  "language_info": {
   "codemirror_mode": {
    "name": "ipython",
    "version": 3
   },
   "file_extension": ".py",
   "mimetype": "text/x-python",
   "name": "python",
   "nbconvert_exporter": "python",
   "pygments_lexer": "ipython3",
   "version": "3.10.9"
  },
  "vscode": {
   "interpreter": {
    "hash": "b0fa6594d8f4cbf19f97940f81e996739fb7646882a419484c72d19e05852a7e"
   }
  }
 },
 "nbformat": 4,
 "nbformat_minor": 5
}
